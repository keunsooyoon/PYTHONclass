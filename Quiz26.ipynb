{
  "nbformat": 4,
  "nbformat_minor": 0,
  "metadata": {
    "colab": {
      "name": "Quiz26.ipynb",
      "provenance": [],
      "authorship_tag": "ABX9TyP7Zkthu7P6KBmVbxQVLrro",
      "include_colab_link": true
    },
    "kernelspec": {
      "name": "python3",
      "display_name": "Python 3"
    }
  },
  "cells": [
    {
      "cell_type": "markdown",
      "metadata": {
        "id": "view-in-github",
        "colab_type": "text"
      },
      "source": [
        "<a href=\"https://colab.research.google.com/github/keunsooyoon/PYTHONclass/blob/master/Quiz26.ipynb\" target=\"_parent\"><img src=\"https://colab.research.google.com/assets/colab-badge.svg\" alt=\"Open In Colab\"/></a>"
      ]
    },
    {
      "cell_type": "code",
      "metadata": {
        "id": "7d-R3TBoJI0P"
      },
      "source": [
        "nums = [100,200,300,400,500]\r\n"
      ],
      "execution_count": 1,
      "outputs": []
    },
    {
      "cell_type": "code",
      "metadata": {
        "colab": {
          "base_uri": "https://localhost:8080/"
        },
        "id": "mb5HxCqhMJHS",
        "outputId": "2aa731cc-c786-4992-c1de-0721881887fb"
      },
      "source": [
        "nums.pop()\r\n",
        "nums.pop()"
      ],
      "execution_count": 2,
      "outputs": [
        {
          "output_type": "execute_result",
          "data": {
            "text/plain": [
              "400"
            ]
          },
          "metadata": {
            "tags": []
          },
          "execution_count": 2
        }
      ]
    },
    {
      "cell_type": "code",
      "metadata": {
        "colab": {
          "base_uri": "https://localhost:8080/"
        },
        "id": "3mdKahjhMRCY",
        "outputId": "dacaa960-a1d6-4f30-f9c9-b9444f905a7e"
      },
      "source": [
        "print(nums)"
      ],
      "execution_count": 3,
      "outputs": [
        {
          "output_type": "stream",
          "text": [
            "[100, 200, 300]\n"
          ],
          "name": "stdout"
        }
      ]
    },
    {
      "cell_type": "code",
      "metadata": {
        "id": "tGMsiiXUMTbv"
      },
      "source": [
        "nums = [100,200,300,400,500]"
      ],
      "execution_count": 4,
      "outputs": []
    },
    {
      "cell_type": "code",
      "metadata": {
        "id": "jNV-uwezMb7f"
      },
      "source": [
        "nums = nums[:3]"
      ],
      "execution_count": 5,
      "outputs": []
    },
    {
      "cell_type": "code",
      "metadata": {
        "colab": {
          "base_uri": "https://localhost:8080/"
        },
        "id": "INrnOJ8HMloX",
        "outputId": "b5d8eec1-2a2c-4cbf-f804-58b5f28bd819"
      },
      "source": [
        "print(nums)"
      ],
      "execution_count": 6,
      "outputs": [
        {
          "output_type": "stream",
          "text": [
            "[100, 200, 300]\n"
          ],
          "name": "stdout"
        }
      ]
    },
    {
      "cell_type": "code",
      "metadata": {
        "id": "bHqYo7QiMmue"
      },
      "source": [
        "nums = [100,200,300,400,500]"
      ],
      "execution_count": 9,
      "outputs": []
    },
    {
      "cell_type": "code",
      "metadata": {
        "id": "05RRCroeMpho"
      },
      "source": [
        "del nums[3]  # 400삭제 [100,200,300,500]\r\n",
        "del nums[3]  # 500삭제"
      ],
      "execution_count": 10,
      "outputs": []
    },
    {
      "cell_type": "code",
      "metadata": {
        "colab": {
          "base_uri": "https://localhost:8080/"
        },
        "id": "WzsHxA3_NHvn",
        "outputId": "80e863f9-103e-4d4f-f50c-581d19c92f46"
      },
      "source": [
        "print(nums)"
      ],
      "execution_count": 11,
      "outputs": [
        {
          "output_type": "stream",
          "text": [
            "[100, 200, 300]\n"
          ],
          "name": "stdout"
        }
      ]
    },
    {
      "cell_type": "code",
      "metadata": {
        "colab": {
          "base_uri": "https://localhost:8080/"
        },
        "id": "Q9OZGqbbNhzR",
        "outputId": "905b9fd9-3d4a-4368-dc4c-5ef689184557"
      },
      "source": [
        "d = {'height':180,'weight':78,'weight':84,'temparture':36,'eyesight':1}\r\n",
        "print(d['weight'])"
      ],
      "execution_count": 12,
      "outputs": [
        {
          "output_type": "stream",
          "text": [
            "84\n"
          ],
          "name": "stdout"
        }
      ]
    },
    {
      "cell_type": "code",
      "metadata": {
        "colab": {
          "base_uri": "https://localhost:8080/"
        },
        "id": "T2c0JfDxVy-d",
        "outputId": "229873ce-0cca-4c72-89f5-ab54f60c160e"
      },
      "source": [
        "a = 10\r\n",
        "b = 2\r\n",
        "\r\n",
        "for i in range(1,5,2):\r\n",
        "  a = a + i\r\n",
        "  11  10  1\r\n",
        "  14  11  3\r\n",
        "\r\n",
        "print(a+b)  14 + 2  = 16"
      ],
      "execution_count": 13,
      "outputs": [
        {
          "output_type": "stream",
          "text": [
            "16\n"
          ],
          "name": "stdout"
        }
      ]
    },
    {
      "cell_type": "code",
      "metadata": {
        "colab": {
          "base_uri": "https://localhost:8080/",
          "height": 133
        },
        "id": "zuiwC7E4WLbF",
        "outputId": "ffe5ab05-a9b1-40f4-ab3e-b7c1ed9787fa"
      },
      "source": [
        "range(1,5,2)   => 1,3"
      ],
      "execution_count": 14,
      "outputs": [
        {
          "output_type": "error",
          "ename": "SyntaxError",
          "evalue": "ignored",
          "traceback": [
            "\u001b[0;36m  File \u001b[0;32m\"<ipython-input-14-c198f35d0a36>\"\u001b[0;36m, line \u001b[0;32m1\u001b[0m\n\u001b[0;31m    range(1,5,2)   => 1,3\u001b[0m\n\u001b[0m                    ^\u001b[0m\n\u001b[0;31mSyntaxError\u001b[0m\u001b[0;31m:\u001b[0m invalid syntax\n"
          ]
        }
      ]
    },
    {
      "cell_type": "code",
      "metadata": {
        "colab": {
          "base_uri": "https://localhost:8080/"
        },
        "id": "Dh-bXbHRXJpf",
        "outputId": "771f3843-6c6f-4177-893a-3ba67b63a53c"
      },
      "source": [
        "year = '2019'\r\n",
        "month = '04'\r\n",
        "day = '26'\r\n",
        "hour = '11'\r\n",
        "minute = '34'\r\n",
        "second = '27'\r\n",
        "\r\n",
        "print(year, month, day, sep='/', end=' ')\r\n",
        "print(hour, minute, second, sep=':' )"
      ],
      "execution_count": 21,
      "outputs": [
        {
          "output_type": "stream",
          "text": [
            "2019/04/26 11:34:27\n"
          ],
          "name": "stdout"
        }
      ]
    },
    {
      "cell_type": "code",
      "metadata": {
        "colab": {
          "base_uri": "https://localhost:8080/",
          "height": 133
        },
        "id": "al1DVb4ccO-Q",
        "outputId": "a1bae0fa-ae4c-4c0a-b343-feeb5a6a098f"
      },
      "source": [
        "n = int(input('몇단짜리 크리스마스 트리를 만들까요? : '))\r\n",
        "for i in range(1,n+1):   # n=5라고 가정\r\n",
        "  print(\" \" * (n-i) + \"*\"*1)\r\n",
        "\r\n",
        "\r\n",
        "\r\n",
        "\r\n",
        "\r\n",
        "빈칸글자4     별글자1   2 * 1 - 1\r\n",
        "빈칸글자3     별글자3   2 * 2 - 1\r\n",
        "빈칸글자2     별글자5   2 * 3 - 1\r\n",
        "빈칸들자1     별글자7   2 * 4 - 1\r\n",
        "빈칸들자0     별글자9   2 * 5 - 1\r\n",
        "\r\n"
      ],
      "execution_count": 22,
      "outputs": [
        {
          "output_type": "error",
          "ename": "SyntaxError",
          "evalue": "ignored",
          "traceback": [
            "\u001b[0;36m  File \u001b[0;32m\"<ipython-input-22-f58670546cfb>\"\u001b[0;36m, line \u001b[0;32m9\u001b[0m\n\u001b[0;31m    빈칸글자4     별글자1   2 * 1 - 1\u001b[0m\n\u001b[0m                 ^\u001b[0m\n\u001b[0;31mSyntaxError\u001b[0m\u001b[0;31m:\u001b[0m invalid syntax\n"
          ]
        }
      ]
    },
    {
      "cell_type": "code",
      "metadata": {
        "colab": {
          "base_uri": "https://localhost:8080/"
        },
        "id": "_6EtFcoC6QtX",
        "outputId": "3df12efe-b170-4b44-8a8e-89799f3e7085"
      },
      "source": [
        "class Wizard:\r\n",
        "  def __init__(self, health, mana, armor):\r\n",
        "    self.health = health\r\n",
        "    self.mana = mana\r\n",
        "    self.armor = armor\r\n",
        "  def attack(self):\r\n",
        "    print('파이어볼')\r\n",
        "\r\n",
        "\r\n",
        "\r\n",
        "x = Wizard(545, 210, 10)\r\n",
        "print(x.health, x.mana, x.armor)\r\n",
        "x.attack()"
      ],
      "execution_count": 28,
      "outputs": [
        {
          "output_type": "stream",
          "text": [
            "545 210 10\n",
            "파이어볼\n"
          ],
          "name": "stdout"
        }
      ]
    },
    {
      "cell_type": "code",
      "metadata": {
        "colab": {
          "base_uri": "https://localhost:8080/"
        },
        "id": "jBij9jCk-PSW",
        "outputId": "95b79148-b8b9-4dd0-cb5c-4e107bb9a20c"
      },
      "source": [
        "planets = ['수성','금성','지구','화성','목성','토성','천황성','해왕성']\r\n",
        "\r\n",
        "n = int(input('몇 번째 행성의 이름을 알고 싶으신가요? : '  )) - 1\r\n",
        "print(planets[n])\r\n"
      ],
      "execution_count": 34,
      "outputs": [
        {
          "output_type": "stream",
          "text": [
            "몇 번째 행성의 이름을 알고 싶으신가요? : 1\n",
            "수성\n"
          ],
          "name": "stdout"
        }
      ]
    },
    {
      "cell_type": "code",
      "metadata": {
        "colab": {
          "base_uri": "https://localhost:8080/"
        },
        "id": "8CcX9IL5GpJN",
        "outputId": "60b51f7b-565f-40d9-9ebc-e12d3290d19b"
      },
      "source": [
        "a = list(input(\"글자를 입력해주세요 :\"))\r\n",
        "a.reverse()\r\n",
        "print(a)"
      ],
      "execution_count": 35,
      "outputs": [
        {
          "output_type": "stream",
          "text": [
            "글자를 입력해주세요 :거꾸로\n",
            "['로', '꾸', '거']\n"
          ],
          "name": "stdout"
        }
      ]
    },
    {
      "cell_type": "code",
      "metadata": {
        "colab": {
          "base_uri": "https://localhost:8080/"
        },
        "id": "ENqcRUHjG0W2",
        "outputId": "7f81b632-cd9c-47d2-a7f3-ab913bd6a3e4"
      },
      "source": [
        "s = input()\r\n",
        "print(s[::-1])"
      ],
      "execution_count": 37,
      "outputs": [
        {
          "output_type": "stream",
          "text": [
            "입력하셔요123\n",
            "321\n"
          ],
          "name": "stdout"
        }
      ]
    },
    {
      "cell_type": "code",
      "metadata": {
        "colab": {
          "base_uri": "https://localhost:8080/"
        },
        "id": "bQD_lbvaG2A8",
        "outputId": "fcdea50b-683d-4dea-def3-2466f441bc65"
      },
      "source": [
        "r = input('거꾸로:')\r\n",
        "print(''.join(reversed(r)))"
      ],
      "execution_count": 38,
      "outputs": [
        {
          "output_type": "stream",
          "text": [
            "거꾸로:거꾸로\n",
            "로꾸거\n"
          ],
          "name": "stdout"
        }
      ]
    },
    {
      "cell_type": "code",
      "metadata": {
        "id": "hYQDsYD8G09z"
      },
      "source": [
        "# 20 30 40 입력은 각 점수를 공백으로 구분하여 한번에 입력받음\r\n",
        "# 3과목, 4과목 5과목 과목의 수는 달라질 수 도 있다. \r\n",
        "\r\n",
        "20 30 40 \r\n",
        "20 30 40 50 20 10\r\n",
        "\r\n"
      ],
      "execution_count": null,
      "outputs": []
    },
    {
      "cell_type": "code",
      "metadata": {
        "colab": {
          "base_uri": "https://localhost:8080/"
        },
        "id": "A0Hbd8PaPQ66",
        "outputId": "04d95224-8ba4-40ca-a6ca-c90883aff4c8"
      },
      "source": [
        "a,b=map(int,input().split())\r\n",
        "print(a**b)"
      ],
      "execution_count": 39,
      "outputs": [
        {
          "output_type": "stream",
          "text": [
            "3 2\n",
            "9\n"
          ],
          "name": "stdout"
        }
      ]
    },
    {
      "cell_type": "code",
      "metadata": {
        "colab": {
          "base_uri": "https://localhost:8080/"
        },
        "id": "YFQj6-VYPUif",
        "outputId": "d274f77f-817b-4098-d45c-7ab968b1864c"
      },
      "source": [
        "n = list(map(int, input().split()))\r\n",
        "print(n[0] ** n[1])"
      ],
      "execution_count": 40,
      "outputs": [
        {
          "output_type": "stream",
          "text": [
            "3 2\n",
            "9\n"
          ],
          "name": "stdout"
        }
      ]
    },
    {
      "cell_type": "code",
      "metadata": {
        "id": "pwpNosCxSYxl"
      },
      "source": [
        "x = set(range(5))"
      ],
      "execution_count": 41,
      "outputs": []
    },
    {
      "cell_type": "code",
      "metadata": {
        "colab": {
          "base_uri": "https://localhost:8080/"
        },
        "id": "9mYUROZtScV2",
        "outputId": "0efad7d1-f6ed-4132-872f-cfee31878b5c"
      },
      "source": [
        "type(x)"
      ],
      "execution_count": 42,
      "outputs": [
        {
          "output_type": "execute_result",
          "data": {
            "text/plain": [
              "set"
            ]
          },
          "metadata": {
            "tags": []
          },
          "execution_count": 42
        }
      ]
    },
    {
      "cell_type": "code",
      "metadata": {
        "id": "jUYzRprMSdbl"
      },
      "source": [
        "y = set()"
      ],
      "execution_count": 43,
      "outputs": []
    },
    {
      "cell_type": "code",
      "metadata": {
        "colab": {
          "base_uri": "https://localhost:8080/"
        },
        "id": "YjLjVJRHSiMv",
        "outputId": "2aadfeea-8b8c-49f8-d4f7-5f82ef069838"
      },
      "source": [
        "type(y)"
      ],
      "execution_count": 44,
      "outputs": [
        {
          "output_type": "execute_result",
          "data": {
            "text/plain": [
              "set"
            ]
          },
          "metadata": {
            "tags": []
          },
          "execution_count": 44
        }
      ]
    },
    {
      "cell_type": "code",
      "metadata": {
        "id": "7fWyIAskSjQB"
      },
      "source": [
        "x = {}"
      ],
      "execution_count": 45,
      "outputs": []
    },
    {
      "cell_type": "code",
      "metadata": {
        "colab": {
          "base_uri": "https://localhost:8080/"
        },
        "id": "GdTm2FfzSpAt",
        "outputId": "1ef6aaaf-19ca-462f-8fcd-a1c76c2d1850"
      },
      "source": [
        "type(x)"
      ],
      "execution_count": 46,
      "outputs": [
        {
          "output_type": "execute_result",
          "data": {
            "text/plain": [
              "dict"
            ]
          },
          "metadata": {
            "tags": []
          },
          "execution_count": 46
        }
      ]
    },
    {
      "cell_type": "code",
      "metadata": {
        "id": "YMS_rD2nSp_R"
      },
      "source": [
        "x = {1,2,3,5,6,7}"
      ],
      "execution_count": 47,
      "outputs": []
    },
    {
      "cell_type": "code",
      "metadata": {
        "colab": {
          "base_uri": "https://localhost:8080/"
        },
        "id": "01afM86VUrbq",
        "outputId": "49227330-d2fd-428f-8df2-38b3a8fcf634"
      },
      "source": [
        "print(input().upper())"
      ],
      "execution_count": 49,
      "outputs": [
        {
          "output_type": "stream",
          "text": [
            "austin\n",
            "AUSTIN\n"
          ],
          "name": "stdout"
        }
      ]
    },
    {
      "cell_type": "code",
      "metadata": {
        "colab": {
          "base_uri": "https://localhost:8080/"
        },
        "id": "GbgI8ijlS1dd",
        "outputId": "21322258-50a6-4be7-e976-8881f7b55690"
      },
      "source": [
        "type(x)"
      ],
      "execution_count": 48,
      "outputs": [
        {
          "output_type": "execute_result",
          "data": {
            "text/plain": [
              "set"
            ]
          },
          "metadata": {
            "tags": []
          },
          "execution_count": 48
        }
      ]
    },
    {
      "cell_type": "code",
      "metadata": {
        "colab": {
          "base_uri": "https://localhost:8080/"
        },
        "id": "8H1E2AsCS2_V",
        "outputId": "7581ab44-6ba6-4ca7-8393-fe977337993a"
      },
      "source": [
        "# 함수 형태로 푸세요\r\n",
        "\r\n",
        "def circle(n):\r\n",
        "  return n * n * 3.14\r\n",
        "\r\n",
        "circle(int(input()))"
      ],
      "execution_count": 51,
      "outputs": [
        {
          "output_type": "stream",
          "text": [
            "5\n"
          ],
          "name": "stdout"
        },
        {
          "output_type": "execute_result",
          "data": {
            "text/plain": [
              "78.5"
            ]
          },
          "metadata": {
            "tags": []
          },
          "execution_count": 51
        }
      ]
    },
    {
      "cell_type": "code",
      "metadata": {
        "id": "xHSPqkTzXCjl"
      },
      "source": [
        "# 딕셔너리 사용할 것.\r\n",
        "# 찾는 행성이 없을 경우 에러를 발생시키지 말 것\r\n",
        "\r\n"
      ],
      "execution_count": null,
      "outputs": []
    },
    {
      "cell_type": "code",
      "metadata": {
        "colab": {
          "base_uri": "https://localhost:8080/"
        },
        "id": "cY24_XyUWeqs",
        "outputId": "a12d04a9-5ad7-4433-eee3-0bad208ec442"
      },
      "source": [
        "planet = {\r\n",
        "    '수성':'Mercury',\r\n",
        "    '금성':'Venus',\r\n",
        "    '지구':'Earth',\r\n",
        "    '화성':'Mars',\r\n",
        "    '목성':'Jupiter',\r\n",
        "    '토성':'Saturn',\r\n",
        "    '천왕성':'Uranus',\r\n",
        "    '해왕성':'Neptune'\r\n",
        "}\r\n",
        "try:\r\n",
        "  a= input()\r\n",
        "  print(planet[a])\r\n",
        "except KeyError:\r\n",
        "  print('찾는 행성이 없습니다.')"
      ],
      "execution_count": 60,
      "outputs": [
        {
          "output_type": "stream",
          "text": [
            "금성\n",
            "Venus\n"
          ],
          "name": "stdout"
        }
      ]
    }
  ]
}