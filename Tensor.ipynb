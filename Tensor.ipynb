{
  "nbformat": 4,
  "nbformat_minor": 0,
  "metadata": {
    "colab": {
      "name": "Tensor.ipynb",
      "provenance": [],
      "collapsed_sections": [],
      "authorship_tag": "ABX9TyPu1BcALyUCeJyKGSynPVzC",
      "include_colab_link": true
    },
    "kernelspec": {
      "name": "python3",
      "display_name": "Python 3"
    },
    "language_info": {
      "name": "python"
    }
  },
  "cells": [
    {
      "cell_type": "markdown",
      "metadata": {
        "id": "view-in-github",
        "colab_type": "text"
      },
      "source": [
        "<a href=\"https://colab.research.google.com/github/keunsooyoon/PYTHONclass/blob/master/Tensor.ipynb\" target=\"_parent\"><img src=\"https://colab.research.google.com/assets/colab-badge.svg\" alt=\"Open In Colab\"/></a>"
      ]
    },
    {
      "cell_type": "code",
      "execution_count": null,
      "metadata": {
        "id": "sbCsqOJiNR6w"
      },
      "outputs": [],
      "source": [
        "# 텐서플로 TensorFlow : 2015년 구글 브레인 팀에서 공개한 라이브러리\n",
        "#  파이썬 뿐만 아니라 JS  Swift ... 등등 을 지원한다. \n",
        "#  텐서플로는 딥러닝 연산 처리 라이브러리 \n",
        "#  이름에서 볼수 있듯 텐서 Tensor 라고 부르는 데이터를 사용한다.\n",
        "# 노드와 노드를 연결하는 간선 edge로 이루어진 그래프 구조를 통해 \n",
        "# 데이터를 이용시키면서 연산이 이루어진다.  \n",
        "\n",
        "# 텐서플로2의 특징\n",
        "# 1. 모델구조를 만들고 학습을 진행하는 과정이 직관적이다. \n",
        "# 2. 실행결과를 즉시 바로 확인 할수 있어 편리하다. \n",
        "# 3. 파이썬 도구를 사용해서 학습과정을 설계한다. \n",
        "# *. 텐서플로1은 일종의 컴파일러 방식으로 볼수 있고 텐서플로2는\n",
        "#    일종의 인터프리터 방식이라고 볼수 있다. \n",
        "\n",
        "\n"
      ]
    },
    {
      "cell_type": "code",
      "source": [
        "import tensorflow as tf"
      ],
      "metadata": {
        "id": "OEQOXvwCRL1x"
      },
      "execution_count": 1,
      "outputs": []
    },
    {
      "cell_type": "code",
      "source": [
        "from typing import cast\n",
        "a = 1\n",
        "b = 2 \n",
        "c = tf.math.add(a,b)\n",
        "print(c)"
      ],
      "metadata": {
        "colab": {
          "base_uri": "https://localhost:8080/"
        },
        "id": "fxWElIRuRQZB",
        "outputId": "a18a230a-5e20-4f1a-ec08-62598eac632a"
      },
      "execution_count": 2,
      "outputs": [
        {
          "output_type": "stream",
          "name": "stdout",
          "text": [
            "tf.Tensor(3, shape=(), dtype=int32)\n"
          ]
        }
      ]
    },
    {
      "cell_type": "code",
      "source": [
        "# 텐서플로 자료구조\n",
        "# 텐서플로에서 자료를 표현하는 기본구조인 텐서\n",
        "\n",
        "# 0차원 텐서 - 스칼라 Scalar\n",
        "# 1차원 텐서 - 벡터 Vector\n",
        "# 2차원 텐서 - 행렬 Matrix\n",
        "# 고차원 텐서 .....\n",
        "\n",
        "# 점이 선으로 선이 면으로 면이 입체로 변하는 공간개념으로 생각하자\n",
        "# 텐서에서의 각 차원은 각각 고유 정보를 나타내는 축이라고 이해하자\n",
        "\n",
        "#  tensor 의 사전적 의미는 \n",
        "#  '어떤 방향으로 뻗다','어떤 방향으로 잡아당기다' 이다. \n",
        "#  즉 방향성을 갖는 어떤 물리량 ->백터\n",
        "\n",
        "# 스칼라 Scalar - 스칼라는 정수, 실수 와 같은 상수를 나타낸다. \n",
        "#                 양은 나타내지만 방향성은 없다.따라서 차수가 0이된다. \n",
        "#                 또 다른 표현으로 rank - 0 텐서 , 여기서 랭크는 \n",
        "#                 텐서의 차수를 나타낸다.  "
      ],
      "metadata": {
        "id": "dUZHCNZyRf1e"
      },
      "execution_count": 3,
      "outputs": []
    },
    {
      "cell_type": "code",
      "source": [
        "a = tf.constant(1)\n",
        "b = tf.constant(2)\n",
        "\n",
        "print(a)\n",
        "print(b)\n",
        "# shape=() 차수가 0인 스칼라를 의미한다. \n",
        "# 정수 1과 2는 0차원 텐서인 스칼라로 저장이 되었다. \n",
        "# dtype=int32   32비트 정수형"
      ],
      "metadata": {
        "colab": {
          "base_uri": "https://localhost:8080/"
        },
        "id": "zG86mRUoTl8O",
        "outputId": "71349481-955e-4a06-d8ad-3503f00446d4"
      },
      "execution_count": 4,
      "outputs": [
        {
          "output_type": "stream",
          "name": "stdout",
          "text": [
            "tf.Tensor(1, shape=(), dtype=int32)\n",
            "tf.Tensor(2, shape=(), dtype=int32)\n"
          ]
        }
      ]
    },
    {
      "cell_type": "code",
      "source": [
        "print(tf.rank(a))\n",
        "#  변수 a 에 저장된 텐서의 랭크 값은 0인 스칼라 텐서.\n"
      ],
      "metadata": {
        "colab": {
          "base_uri": "https://localhost:8080/"
        },
        "id": "EG3P6cFZTzVE",
        "outputId": "d5db5428-fdd4-49f2-ef32-dfae66f20ac6"
      },
      "execution_count": 5,
      "outputs": [
        {
          "output_type": "stream",
          "name": "stdout",
          "text": [
            "tf.Tensor(0, shape=(), dtype=int32)\n"
          ]
        }
      ]
    },
    {
      "cell_type": "code",
      "source": [
        "# 텐서 자료형 변환\n",
        "a = tf.cast(a, tf.float32)"
      ],
      "metadata": {
        "id": "19Ha_H0UU2VZ"
      },
      "execution_count": 6,
      "outputs": []
    },
    {
      "cell_type": "code",
      "source": [
        "print(a.dtype)"
      ],
      "metadata": {
        "colab": {
          "base_uri": "https://localhost:8080/"
        },
        "id": "pu8BcxRPVBAT",
        "outputId": "9cfd36c7-9f36-4c3b-9ce7-492c80a757bf"
      },
      "execution_count": 8,
      "outputs": [
        {
          "output_type": "stream",
          "name": "stdout",
          "text": [
            "<dtype: 'float32'>\n"
          ]
        }
      ]
    },
    {
      "cell_type": "code",
      "source": [
        "b = tf.cast(b, tf.float32)"
      ],
      "metadata": {
        "id": "4rCxHoHAVJ4e"
      },
      "execution_count": 9,
      "outputs": []
    },
    {
      "cell_type": "code",
      "source": [
        "print(b.dtype)"
      ],
      "metadata": {
        "colab": {
          "base_uri": "https://localhost:8080/"
        },
        "id": "6PQDqHA0VViF",
        "outputId": "08d4883c-d651-4d23-a5a4-db8e0d628f1f"
      },
      "execution_count": 10,
      "outputs": [
        {
          "output_type": "stream",
          "name": "stdout",
          "text": [
            "<dtype: 'float32'>\n"
          ]
        }
      ]
    },
    {
      "cell_type": "code",
      "source": [
        "# 텐서플로에서는 float32를 숫자의 기본 자료형으로 사용한다. "
      ],
      "metadata": {
        "id": "3AgMbN88VXzr"
      },
      "execution_count": null,
      "outputs": []
    },
    {
      "cell_type": "code",
      "source": [
        "c = tf.math.add(a,b)\n",
        "print(c)"
      ],
      "metadata": {
        "colab": {
          "base_uri": "https://localhost:8080/"
        },
        "id": "Lmk92DGDVCyh",
        "outputId": "3ece82a9-171b-49ea-c74d-14867025a50d"
      },
      "execution_count": 11,
      "outputs": [
        {
          "output_type": "stream",
          "name": "stdout",
          "text": [
            "tf.Tensor(3.0, shape=(), dtype=float32)\n"
          ]
        }
      ]
    },
    {
      "cell_type": "code",
      "source": [
        "tf.rank(c)"
      ],
      "metadata": {
        "colab": {
          "base_uri": "https://localhost:8080/"
        },
        "id": "DKjN0rVBV35m",
        "outputId": "af5f9987-6be0-4d77-fcd4-bc61851add71"
      },
      "execution_count": 12,
      "outputs": [
        {
          "output_type": "execute_result",
          "data": {
            "text/plain": [
              "<tf.Tensor: shape=(), dtype=int32, numpy=0>"
            ]
          },
          "metadata": {},
          "execution_count": 12
        }
      ]
    },
    {
      "cell_type": "code",
      "source": [
        "print(tf.math.subtract(a,b))"
      ],
      "metadata": {
        "colab": {
          "base_uri": "https://localhost:8080/"
        },
        "id": "Y3fm3qzJWAUS",
        "outputId": "2331a62c-0abf-4b51-ee1a-05b4a8e4ef81"
      },
      "execution_count": 13,
      "outputs": [
        {
          "output_type": "stream",
          "name": "stdout",
          "text": [
            "tf.Tensor(-1.0, shape=(), dtype=float32)\n"
          ]
        }
      ]
    },
    {
      "cell_type": "code",
      "source": [
        "print(tf.math.multiply(a,b))"
      ],
      "metadata": {
        "colab": {
          "base_uri": "https://localhost:8080/"
        },
        "id": "W7Q9um5KZd3U",
        "outputId": "5b4d76ae-17b8-4b30-9397-54a1f16e2127"
      },
      "execution_count": 14,
      "outputs": [
        {
          "output_type": "stream",
          "name": "stdout",
          "text": [
            "tf.Tensor(2.0, shape=(), dtype=float32)\n"
          ]
        }
      ]
    },
    {
      "cell_type": "code",
      "source": [
        "print(tf.math.divide(a,b))"
      ],
      "metadata": {
        "colab": {
          "base_uri": "https://localhost:8080/"
        },
        "id": "VYOgdxDTZmyy",
        "outputId": "8503bb9e-bd88-4f85-f90b-5d53ad22bddd"
      },
      "execution_count": 15,
      "outputs": [
        {
          "output_type": "stream",
          "name": "stdout",
          "text": [
            "tf.Tensor(0.5, shape=(), dtype=float32)\n"
          ]
        }
      ]
    },
    {
      "cell_type": "markdown",
      "source": [
        ""
      ],
      "metadata": {
        "id": "71k3lfl1aKqP"
      }
    },
    {
      "cell_type": "code",
      "source": [
        "print(tf.math.mod(a,b))"
      ],
      "metadata": {
        "colab": {
          "base_uri": "https://localhost:8080/"
        },
        "id": "fPNbGg0eZy1v",
        "outputId": "751234d5-b363-4e80-c4ba-d2f1c4a4ef85"
      },
      "execution_count": 16,
      "outputs": [
        {
          "output_type": "stream",
          "name": "stdout",
          "text": [
            "tf.Tensor(1.0, shape=(), dtype=float32)\n"
          ]
        }
      ]
    },
    {
      "cell_type": "code",
      "source": [
        "print(tf.math.floordiv(a,b))"
      ],
      "metadata": {
        "colab": {
          "base_uri": "https://localhost:8080/"
        },
        "id": "xD3l4dLVZ57g",
        "outputId": "6a362502-6571-4f3f-f1ba-26adbb38485a"
      },
      "execution_count": 17,
      "outputs": [
        {
          "output_type": "stream",
          "name": "stdout",
          "text": [
            "tf.Tensor(0.0, shape=(), dtype=float32)\n"
          ]
        }
      ]
    },
    {
      "cell_type": "code",
      "source": [
        "# 백터 (Vector) - 백터는 여러개의 스칼라를 원소로 갖는 1차원의 배열\n",
        "#              스칼라 여러개가 동일한 축 방향으로 나열되는 개념\n",
        "#              백터는 원소들로 구성되는 여러개의 값들이 모여서 하나의 \n",
        "#              대표성을 갖는 값이 된다. 크기와 방향을 갖는다. \n",
        "#              각 원소들의 크기 뿐 아니라 원소들이 나열되는 순서에도\n",
        "#              의미가 있다. \n",
        "#              형태만 보면 파이썬의 리스트와 유사하다. \n",
        "#              백터는 하나의 축을 갖고 차수가 1인 랭크-1 텐서라고 부른다. \n",
        "\n",
        "py_list = [10,20,30]\n",
        "\n",
        "vec1 = tf.constant(py_list, dtype=tf.float32)\n",
        "print(vec1)\n",
        "\n"
      ],
      "metadata": {
        "colab": {
          "base_uri": "https://localhost:8080/"
        },
        "id": "lUlnUKbOaE0a",
        "outputId": "fdf94ceb-f6db-4148-9ba0-ac0396b6cf03"
      },
      "execution_count": 20,
      "outputs": [
        {
          "output_type": "stream",
          "name": "stdout",
          "text": [
            "tf.Tensor([10. 20. 30.], shape=(3,), dtype=float32)\n"
          ]
        }
      ]
    },
    {
      "cell_type": "code",
      "source": [
        "import numpy as np\n",
        "num_arr = np.array([10.,10.,10.])\n",
        "vec2 = tf.constant(num_arr, dtype= tf.float32)\n",
        "\n",
        "print(vec2)\n",
        "# shape(3,) 원소의 갯수 1개의 축 "
      ],
      "metadata": {
        "colab": {
          "base_uri": "https://localhost:8080/"
        },
        "id": "dH2p7kDqb97c",
        "outputId": "eb2bd555-5f25-4f6e-f12d-4c78481191d2"
      },
      "execution_count": 23,
      "outputs": [
        {
          "output_type": "stream",
          "name": "stdout",
          "text": [
            "tf.Tensor([10. 10. 10.], shape=(3,), dtype=float32)\n"
          ]
        }
      ]
    },
    {
      "cell_type": "code",
      "source": [
        "print(tf.rank(vec1))\n",
        "print(tf.rank(vec2))"
      ],
      "metadata": {
        "colab": {
          "base_uri": "https://localhost:8080/"
        },
        "id": "Z-s6kNLicRtS",
        "outputId": "89b5ffd2-63e1-4ba3-ede0-62965f013ec1"
      },
      "execution_count": 24,
      "outputs": [
        {
          "output_type": "stream",
          "name": "stdout",
          "text": [
            "tf.Tensor(1, shape=(), dtype=int32)\n",
            "tf.Tensor(1, shape=(), dtype=int32)\n"
          ]
        }
      ]
    },
    {
      "cell_type": "code",
      "source": [
        "add1 = tf.math.add(vec1, vec2)\n",
        "print(add1)\n",
        "print(tf.rank(add1))\n",
        "# 계산을 할때는 같은 위치에 있는 원소들 끼리 짝을 이루어 계산한다. \n",
        "# 따라서, 원소 3개를 갖는 벡서 형태가 그대로 유지된다. "
      ],
      "metadata": {
        "colab": {
          "base_uri": "https://localhost:8080/"
        },
        "id": "9AUmM9hUcprP",
        "outputId": "fa9a4ca2-30ce-47c0-970c-4ca9902ced4b"
      },
      "execution_count": 26,
      "outputs": [
        {
          "output_type": "stream",
          "name": "stdout",
          "text": [
            "tf.Tensor([20. 30. 40.], shape=(3,), dtype=float32)\n",
            "tf.Tensor(1, shape=(), dtype=int32)\n"
          ]
        }
      ]
    },
    {
      "cell_type": "code",
      "source": [
        "add2 = vec1 + vec2\n",
        "print(add2)\n",
        "print(tf.rank(add2))"
      ],
      "metadata": {
        "colab": {
          "base_uri": "https://localhost:8080/"
        },
        "id": "w8t8ofoXdD34",
        "outputId": "d4c5e394-a832-457c-d5e7-83b6add3909b"
      },
      "execution_count": 27,
      "outputs": [
        {
          "output_type": "stream",
          "name": "stdout",
          "text": [
            "tf.Tensor([20. 30. 40.], shape=(3,), dtype=float32)\n",
            "tf.Tensor(1, shape=(), dtype=int32)\n"
          ]
        }
      ]
    },
    {
      "cell_type": "code",
      "source": [
        "# 스칼라와 마찬가지로 백터도 tf.math 모듈을통해 다양한 함수를\n",
        "# 산술 연산 할수 있다. 이때,,, 같은 위치에 있는 원소들끼리 연산한다. \n",
        "print(tf.math.subtract(vec1, vec2))\n",
        "print(tf.math.multiply(vec1, vec2))\n",
        "print(tf.math.divide(vec1, vec2))\n",
        "print(tf.math.mod(vec1, vec2))"
      ],
      "metadata": {
        "colab": {
          "base_uri": "https://localhost:8080/"
        },
        "id": "HSYQputIdhzN",
        "outputId": "dc796676-7e95-4eff-f468-3301b4c224f3"
      },
      "execution_count": 29,
      "outputs": [
        {
          "output_type": "stream",
          "name": "stdout",
          "text": [
            "tf.Tensor([ 0. 10. 20.], shape=(3,), dtype=float32)\n",
            "tf.Tensor([100. 200. 300.], shape=(3,), dtype=float32)\n",
            "tf.Tensor([1. 2. 3.], shape=(3,), dtype=float32)\n",
            "tf.Tensor([0. 0. 0.], shape=(3,), dtype=float32)\n"
          ]
        }
      ]
    },
    {
      "cell_type": "code",
      "source": [
        "print(vec1-vec2)\n",
        "print(vec1*vec2)\n",
        "print(vec1/vec2)\n",
        "print(vec1%vec2)"
      ],
      "metadata": {
        "colab": {
          "base_uri": "https://localhost:8080/"
        },
        "id": "caaCaCDHeNQa",
        "outputId": "7d6980d3-b00e-47ac-a828-8ff76571d227"
      },
      "execution_count": 30,
      "outputs": [
        {
          "output_type": "stream",
          "name": "stdout",
          "text": [
            "tf.Tensor([ 0. 10. 20.], shape=(3,), dtype=float32)\n",
            "tf.Tensor([100. 200. 300.], shape=(3,), dtype=float32)\n",
            "tf.Tensor([1. 2. 3.], shape=(3,), dtype=float32)\n",
            "tf.Tensor([0. 0. 0.], shape=(3,), dtype=float32)\n"
          ]
        }
      ]
    },
    {
      "cell_type": "code",
      "source": [
        "# 여러 원소들의 합\n",
        "print(tf.reduce_sum(vec1))\n",
        "print(tf.reduce_sum(vec2))"
      ],
      "metadata": {
        "colab": {
          "base_uri": "https://localhost:8080/"
        },
        "id": "WDyj47Ifeb4O",
        "outputId": "f49aa861-6ec4-4048-e51b-3dc698a6d963"
      },
      "execution_count": 31,
      "outputs": [
        {
          "output_type": "stream",
          "name": "stdout",
          "text": [
            "tf.Tensor(60.0, shape=(), dtype=float32)\n",
            "tf.Tensor(30.0, shape=(), dtype=float32)\n"
          ]
        }
      ]
    },
    {
      "cell_type": "code",
      "source": [
        "#브로드 캐스팅\n",
        "print(vec1)\n",
        "print(vec1 + 1)"
      ],
      "metadata": {
        "colab": {
          "base_uri": "https://localhost:8080/"
        },
        "id": "N3XCoHgAeyl6",
        "outputId": "373f4175-8c6a-465a-cc59-9ee32df4c7e0"
      },
      "execution_count": 34,
      "outputs": [
        {
          "output_type": "stream",
          "name": "stdout",
          "text": [
            "tf.Tensor([10. 20. 30.], shape=(3,), dtype=float32)\n",
            "tf.Tensor([11. 21. 31.], shape=(3,), dtype=float32)\n"
          ]
        }
      ]
    },
    {
      "cell_type": "code",
      "source": [
        "# 행렬 Matrix\n",
        "\n",
        "# 행렬은 차수가1인 즉 백터를 같은 축 방향으로 여러개를 나열하는 개념.\n",
        "# 즉 1차원 백터 여러개를 원호로 갖는 배열이다. 텐서플로에서는\n",
        "# 랭크-2\n",
        "# pandas에서의 dataframe 과 유사하다. \n",
        "\n",
        "# 2차원 리스트 생성\n",
        "list = [[10,20],[30,40]]\n",
        "\n",
        "# 텐서 변환\n",
        "mat = tf.constant(list)\n",
        "print(mat)\n",
        "print(tf.rank(mat))"
      ],
      "metadata": {
        "colab": {
          "base_uri": "https://localhost:8080/"
        },
        "id": "YBcM2xb5fF4t",
        "outputId": "99443ae8-c31b-4404-e187-da62b8f5046d"
      },
      "execution_count": 36,
      "outputs": [
        {
          "output_type": "stream",
          "name": "stdout",
          "text": [
            "tf.Tensor(\n",
            "[[10 20]\n",
            " [30 40]], shape=(2, 2), dtype=int32)\n",
            "tf.Tensor(2, shape=(), dtype=int32)\n"
          ]
        }
      ]
    },
    {
      "cell_type": "code",
      "source": [
        "vec1 = tf.constant([1,0])\n",
        "vec2 = tf.constant([-1,2])\n",
        "\n",
        "# 텐서 변환\n",
        "mat2 = tf.stack([vec1, vec2])\n",
        "\n",
        "print(mat2)\n",
        "print(tf.rank(mat2))"
      ],
      "metadata": {
        "colab": {
          "base_uri": "https://localhost:8080/"
        },
        "id": "ZrNdwopNgZiw",
        "outputId": "423021d0-9701-4fa1-dcea-355bbb22adaa"
      },
      "execution_count": 37,
      "outputs": [
        {
          "output_type": "stream",
          "name": "stdout",
          "text": [
            "tf.Tensor(\n",
            "[[ 1  0]\n",
            " [-1  2]], shape=(2, 2), dtype=int32)\n",
            "tf.Tensor(2, shape=(), dtype=int32)\n"
          ]
        }
      ]
    },
    {
      "cell_type": "code",
      "source": [
        "# 산술 연산\n",
        "mul = tf.math.multiply(mat,mat2)\n",
        "print(mul)\n",
        "print(tf.rank(mul))"
      ],
      "metadata": {
        "colab": {
          "base_uri": "https://localhost:8080/"
        },
        "id": "ubNs4tGEhCkK",
        "outputId": "1fde23d5-114e-4db8-8b0c-e2f64bbe8f74"
      },
      "execution_count": 40,
      "outputs": [
        {
          "output_type": "stream",
          "name": "stdout",
          "text": [
            "tf.Tensor(\n",
            "[[ 10   0]\n",
            " [-30  80]], shape=(2, 2), dtype=int32)\n",
            "tf.Tensor(2, shape=(), dtype=int32)\n"
          ]
        }
      ]
    },
    {
      "cell_type": "code",
      "source": [
        "#브로드 캐스팅 \n",
        "bc = tf.math.multiply(mat,3)\n",
        "bc"
      ],
      "metadata": {
        "colab": {
          "base_uri": "https://localhost:8080/"
        },
        "id": "OYnRPmFZhu9B",
        "outputId": "ec12ae8e-542c-47f7-82ae-dbec57fdd066"
      },
      "execution_count": 41,
      "outputs": [
        {
          "output_type": "execute_result",
          "data": {
            "text/plain": [
              "<tf.Tensor: shape=(2, 2), dtype=int32, numpy=\n",
              "array([[ 30,  60],\n",
              "       [ 90, 120]], dtype=int32)>"
            ]
          },
          "metadata": {},
          "execution_count": 41
        }
      ]
    },
    {
      "cell_type": "code",
      "source": [
        "add2 = mat + mat2\n",
        "add2"
      ],
      "metadata": {
        "colab": {
          "base_uri": "https://localhost:8080/"
        },
        "id": "tBhT8xxtiarY",
        "outputId": "3abceb08-7d5c-4e96-de0a-8097ffdefd64"
      },
      "execution_count": 42,
      "outputs": [
        {
          "output_type": "execute_result",
          "data": {
            "text/plain": [
              "<tf.Tensor: shape=(2, 2), dtype=int32, numpy=\n",
              "array([[11, 20],\n",
              "       [29, 42]], dtype=int32)>"
            ]
          },
          "metadata": {},
          "execution_count": 42
        }
      ]
    },
    {
      "cell_type": "code",
      "source": [
        "# 텐서를 넘파이로 변환.\n",
        "\n",
        "np_arr = mat.numpy()\n",
        "np_arr"
      ],
      "metadata": {
        "colab": {
          "base_uri": "https://localhost:8080/"
        },
        "id": "FvQN8kDjioM_",
        "outputId": "184986a9-634b-433c-c356-9fd0b6b5ec8b"
      },
      "execution_count": 43,
      "outputs": [
        {
          "output_type": "execute_result",
          "data": {
            "text/plain": [
              "array([[10, 20],\n",
              "       [30, 40]], dtype=int32)"
            ]
          },
          "metadata": {},
          "execution_count": 43
        }
      ]
    },
    {
      "cell_type": "code",
      "source": [
        "type(np_arr)"
      ],
      "metadata": {
        "colab": {
          "base_uri": "https://localhost:8080/"
        },
        "id": "lLGaZvkfjC2x",
        "outputId": "a066750f-f0b4-4ae0-8ba7-2ba6a2b67170"
      },
      "execution_count": 44,
      "outputs": [
        {
          "output_type": "execute_result",
          "data": {
            "text/plain": [
              "numpy.ndarray"
            ]
          },
          "metadata": {},
          "execution_count": 44
        }
      ]
    },
    {
      "cell_type": "code",
      "source": [
        "# indexing 인덱싱 - 위치를 기준으로 원소를 추출하는 방법\n",
        "# 파이썬 리스트 또는 넘파이 배열의 인덱싱과 유사하다. \n",
        "# 0부터 시작하고 마지막은 -1로 나타낸다. \n",
        "# 하나만 추출 뿐아니라 여러 원소를 추출하는 슬라이싱  slicing도 가능\n",
        "\n",
        "vec = tf.constant([10,20,30,40,50])\n",
        "print(vec)\n",
        "# 5개 원소의 1차원 텐서인 백터 작성"
      ],
      "metadata": {
        "colab": {
          "base_uri": "https://localhost:8080/"
        },
        "id": "hAU4yvwyjGkw",
        "outputId": "21f2a9fa-f783-4967-d28d-ad68b6f2e5e5"
      },
      "execution_count": 45,
      "outputs": [
        {
          "output_type": "stream",
          "name": "stdout",
          "text": [
            "tf.Tensor([10 20 30 40 50], shape=(5,), dtype=int32)\n"
          ]
        }
      ]
    },
    {
      "cell_type": "code",
      "source": [
        "print(vec[0])"
      ],
      "metadata": {
        "colab": {
          "base_uri": "https://localhost:8080/"
        },
        "id": "8BznsBFIn9xI",
        "outputId": "b9c19dc0-873c-4152-bc9a-12aadde5eb98"
      },
      "execution_count": 47,
      "outputs": [
        {
          "output_type": "stream",
          "name": "stdout",
          "text": [
            "tf.Tensor(10, shape=(), dtype=int32)\n"
          ]
        }
      ]
    },
    {
      "cell_type": "code",
      "source": [
        "print(vec[-1])"
      ],
      "metadata": {
        "colab": {
          "base_uri": "https://localhost:8080/"
        },
        "id": "V6OwqijjoUkc",
        "outputId": "b7a04f28-eb78-413f-fb82-f5a021843250"
      },
      "execution_count": 48,
      "outputs": [
        {
          "output_type": "stream",
          "name": "stdout",
          "text": [
            "tf.Tensor(50, shape=(), dtype=int32)\n"
          ]
        }
      ]
    },
    {
      "cell_type": "code",
      "source": [
        "print(vec[:3])"
      ],
      "metadata": {
        "colab": {
          "base_uri": "https://localhost:8080/"
        },
        "id": "wWeYqiMiocsn",
        "outputId": "44737b96-3899-4ce0-8006-5cf62e3dba58"
      },
      "execution_count": 49,
      "outputs": [
        {
          "output_type": "stream",
          "name": "stdout",
          "text": [
            "tf.Tensor([10 20 30], shape=(3,), dtype=int32)\n"
          ]
        }
      ]
    },
    {
      "cell_type": "code",
      "source": [
        "mat = tf.constant([[10,20,30],\n",
        "                   [40,50,60]])\n",
        "print(mat)"
      ],
      "metadata": {
        "colab": {
          "base_uri": "https://localhost:8080/"
        },
        "id": "JfFppcieol0k",
        "outputId": "2ad78750-f6ba-4765-c63b-f58b320e47d6"
      },
      "execution_count": 50,
      "outputs": [
        {
          "output_type": "stream",
          "name": "stdout",
          "text": [
            "tf.Tensor(\n",
            "[[10 20 30]\n",
            " [40 50 60]], shape=(2, 3), dtype=int32)\n"
          ]
        }
      ]
    },
    {
      "cell_type": "code",
      "source": [
        "print(mat[0,:])\n",
        "# : 모든 열 0번째 행0"
      ],
      "metadata": {
        "colab": {
          "base_uri": "https://localhost:8080/"
        },
        "id": "yT4NSvRvo6o7",
        "outputId": "62b6b8c3-20fe-4bff-d525-66be41e9c945"
      },
      "execution_count": 51,
      "outputs": [
        {
          "output_type": "stream",
          "name": "stdout",
          "text": [
            "tf.Tensor([10 20 30], shape=(3,), dtype=int32)\n"
          ]
        }
      ]
    },
    {
      "cell_type": "code",
      "source": [
        "print(mat[:,1])\n",
        "# 모든 행, 열 1 만 출력"
      ],
      "metadata": {
        "colab": {
          "base_uri": "https://localhost:8080/"
        },
        "id": "JW3CaxbOpGCT",
        "outputId": "c598d60c-e8bf-4ee4-b4b0-9618783792fa"
      },
      "execution_count": 52,
      "outputs": [
        {
          "output_type": "stream",
          "name": "stdout",
          "text": [
            "tf.Tensor([20 50], shape=(2,), dtype=int32)\n"
          ]
        }
      ]
    },
    {
      "cell_type": "code",
      "source": [
        "# 형태 변환 reshape\n",
        "# 앞으로의 머신러닝, 딥러닝에서 텐서 형태를 변환하는 것 매우 중요하다.\n",
        "\n",
        "tensor = tf.constant(range(0,24))\n",
        "tensor"
      ],
      "metadata": {
        "colab": {
          "base_uri": "https://localhost:8080/"
        },
        "id": "vYYpyoxfpSxK",
        "outputId": "c21179c4-253d-417d-848f-ec1f63a30796"
      },
      "execution_count": 54,
      "outputs": [
        {
          "output_type": "execute_result",
          "data": {
            "text/plain": [
              "<tf.Tensor: shape=(24,), dtype=int32, numpy=\n",
              "array([ 0,  1,  2,  3,  4,  5,  6,  7,  8,  9, 10, 11, 12, 13, 14, 15, 16,\n",
              "       17, 18, 19, 20, 21, 22, 23], dtype=int32)>"
            ]
          },
          "metadata": {},
          "execution_count": 54
        }
      ]
    },
    {
      "cell_type": "code",
      "source": [
        "# (24, ) -> (3,8)\n",
        "tensor1 = tf.reshape(tensor,[3,8])\n",
        "print(tensor1)"
      ],
      "metadata": {
        "colab": {
          "base_uri": "https://localhost:8080/"
        },
        "id": "fImDi7BxqW45",
        "outputId": "6db7fce4-5702-4197-a2da-4b7369a2f7e9"
      },
      "execution_count": 55,
      "outputs": [
        {
          "output_type": "stream",
          "name": "stdout",
          "text": [
            "tf.Tensor(\n",
            "[[ 0  1  2  3  4  5  6  7]\n",
            " [ 8  9 10 11 12 13 14 15]\n",
            " [16 17 18 19 20 21 22 23]], shape=(3, 8), dtype=int32)\n"
          ]
        }
      ]
    },
    {
      "cell_type": "code",
      "source": [
        "# -1을 지정하면 '어떤 값이 와도 상관없다.'\n",
        "tensor2 = tf.reshape(tensor1,[-1, 4])\n",
        "print(tensor2)"
      ],
      "metadata": {
        "colab": {
          "base_uri": "https://localhost:8080/"
        },
        "id": "0UQebXu0qwzr",
        "outputId": "0645e4e9-29a3-4129-bd82-681cfd1ba93b"
      },
      "execution_count": 56,
      "outputs": [
        {
          "output_type": "stream",
          "name": "stdout",
          "text": [
            "tf.Tensor(\n",
            "[[ 0  1  2  3]\n",
            " [ 4  5  6  7]\n",
            " [ 8  9 10 11]\n",
            " [12 13 14 15]\n",
            " [16 17 18 19]\n",
            " [20 21 22 23]], shape=(6, 4), dtype=int32)\n"
          ]
        }
      ]
    },
    {
      "cell_type": "code",
      "source": [
        "# 배열을 구성하는 원소가 매우 많고 배열 구조를 알지 못할때\n",
        "# -1 을 사용하면 편리하다. \n",
        "tensor3 = tf.reshape(tensor2, [-1])\n",
        "print(tensor3)"
      ],
      "metadata": {
        "colab": {
          "base_uri": "https://localhost:8080/"
        },
        "id": "Xkt15vOqrTw-",
        "outputId": "19215fa1-53e8-41b0-a01f-df03ae77e50a"
      },
      "execution_count": 57,
      "outputs": [
        {
          "output_type": "stream",
          "name": "stdout",
          "text": [
            "tf.Tensor([ 0  1  2  3  4  5  6  7  8  9 10 11 12 13 14 15 16 17 18 19 20 21 22 23], shape=(24,), dtype=int32)\n"
          ]
        }
      ]
    },
    {
      "cell_type": "code",
      "source": [
        "# 다차원 텐서 \n",
        "tensor4 = tf.reshape(tensor3, [-1,3,4])\n",
        "print(tensor4)"
      ],
      "metadata": {
        "colab": {
          "base_uri": "https://localhost:8080/"
        },
        "id": "q4L4OPkTrlrS",
        "outputId": "3995b086-d3ab-4d86-ebf3-096885778937"
      },
      "execution_count": 58,
      "outputs": [
        {
          "output_type": "stream",
          "name": "stdout",
          "text": [
            "tf.Tensor(\n",
            "[[[ 0  1  2  3]\n",
            "  [ 4  5  6  7]\n",
            "  [ 8  9 10 11]]\n",
            "\n",
            " [[12 13 14 15]\n",
            "  [16 17 18 19]\n",
            "  [20 21 22 23]]], shape=(2, 3, 4), dtype=int32)\n"
          ]
        }
      ]
    },
    {
      "cell_type": "code",
      "source": [
        "tensor5 = tf.reshape(tensor4,[3,2,4])\n",
        "print(tensor5)"
      ],
      "metadata": {
        "colab": {
          "base_uri": "https://localhost:8080/"
        },
        "id": "Y4BHqcmxsEWH",
        "outputId": "d295337e-bbfd-41d0-e8cf-a90670d6d633"
      },
      "execution_count": 59,
      "outputs": [
        {
          "output_type": "stream",
          "name": "stdout",
          "text": [
            "tf.Tensor(\n",
            "[[[ 0  1  2  3]\n",
            "  [ 4  5  6  7]]\n",
            "\n",
            " [[ 8  9 10 11]\n",
            "  [12 13 14 15]]\n",
            "\n",
            " [[16 17 18 19]\n",
            "  [20 21 22 23]]], shape=(3, 2, 4), dtype=int32)\n"
          ]
        }
      ]
    },
    {
      "cell_type": "code",
      "source": [
        "tensor6 = tf.reshape(tensor5,[3,2,2,2])\n",
        "print(tensor6)"
      ],
      "metadata": {
        "colab": {
          "base_uri": "https://localhost:8080/"
        },
        "id": "G3SjhER1sZvd",
        "outputId": "e1bed73b-bc31-481e-d793-5b06d1142078"
      },
      "execution_count": 60,
      "outputs": [
        {
          "output_type": "stream",
          "name": "stdout",
          "text": [
            "tf.Tensor(\n",
            "[[[[ 0  1]\n",
            "   [ 2  3]]\n",
            "\n",
            "  [[ 4  5]\n",
            "   [ 6  7]]]\n",
            "\n",
            "\n",
            " [[[ 8  9]\n",
            "   [10 11]]\n",
            "\n",
            "  [[12 13]\n",
            "   [14 15]]]\n",
            "\n",
            "\n",
            " [[[16 17]\n",
            "   [18 19]]\n",
            "\n",
            "  [[20 21]\n",
            "   [22 23]]]], shape=(3, 2, 2, 2), dtype=int32)\n"
          ]
        }
      ]
    },
    {
      "cell_type": "code",
      "source": [
        "# tf.Variable 변수\n",
        "\n",
        "# 텐서 플로는 그래프 구조를 이용하여 복잡한 미분 연산을 한다. 이때\n",
        "# 수많은 미분연산을 반복하게 된다. 이때 각각의 중간 연산 결과를 저장하는\n",
        "# 용도로도 변수를 이용하게 된다. 모델을 학습하는 중간 단계마다 모델의\n",
        "# 가중치를 변수에 저장하고 계속 반복하면서 변수 값을 업데이트한다. \n",
        "\n",
        "tensor1 = tf.constant([[0,2,3],\n",
        "                       [3,4,5]])\n",
        "\n",
        "print(tensor1)"
      ],
      "metadata": {
        "colab": {
          "base_uri": "https://localhost:8080/"
        },
        "id": "lBzvacsVsquP",
        "outputId": "28fb1598-dd7f-4387-d28a-fc9c02cb1b29"
      },
      "execution_count": 61,
      "outputs": [
        {
          "output_type": "stream",
          "name": "stdout",
          "text": [
            "tf.Tensor(\n",
            "[[0 2 3]\n",
            " [3 4 5]], shape=(2, 3), dtype=int32)\n"
          ]
        }
      ]
    },
    {
      "cell_type": "code",
      "source": [
        "tensor_var1 = tf.Variable(tensor1)\n",
        "print(tensor_var1)\n",
        "\n",
        "# 변수는 텐서 구조에 저장되어 있는 값이 달라질 수 있다는 점에서 값을 변경\n",
        "# 할수 없는 상수 형태의 텐서를 만드는  constant함수와 구별된다. "
      ],
      "metadata": {
        "colab": {
          "base_uri": "https://localhost:8080/"
        },
        "id": "NvxnS0X4tZDp",
        "outputId": "78d33828-cd5d-4a75-dacb-d6da56f5da18"
      },
      "execution_count": 62,
      "outputs": [
        {
          "output_type": "stream",
          "name": "stdout",
          "text": [
            "<tf.Variable 'Variable:0' shape=(2, 3) dtype=int32, numpy=\n",
            "array([[0, 2, 3],\n",
            "       [3, 4, 5]], dtype=int32)>\n"
          ]
        }
      ]
    },
    {
      "cell_type": "code",
      "source": [
        "tensor_var1.name"
      ],
      "metadata": {
        "colab": {
          "base_uri": "https://localhost:8080/",
          "height": 35
        },
        "id": "Wy01yK0Stpkt",
        "outputId": "7b0eae04-a24f-44d4-98c2-fcf80300c460"
      },
      "execution_count": 63,
      "outputs": [
        {
          "output_type": "execute_result",
          "data": {
            "application/vnd.google.colaboratory.intrinsic+json": {
              "type": "string"
            },
            "text/plain": [
              "'Variable:0'"
            ]
          },
          "metadata": {},
          "execution_count": 63
        }
      ]
    },
    {
      "cell_type": "code",
      "source": [
        "tensor_var1.shape"
      ],
      "metadata": {
        "colab": {
          "base_uri": "https://localhost:8080/"
        },
        "id": "wjHkGKchuEEn",
        "outputId": "c9c5b69f-5279-4be3-e15e-34434015d0c2"
      },
      "execution_count": 64,
      "outputs": [
        {
          "output_type": "execute_result",
          "data": {
            "text/plain": [
              "TensorShape([2, 3])"
            ]
          },
          "metadata": {},
          "execution_count": 64
        }
      ]
    },
    {
      "cell_type": "code",
      "source": [
        "tensor_var1.dtype"
      ],
      "metadata": {
        "colab": {
          "base_uri": "https://localhost:8080/"
        },
        "id": "PGmJJy4PuHgo",
        "outputId": "f316ea55-0969-4062-f50b-48ea81b4d9c2"
      },
      "execution_count": 65,
      "outputs": [
        {
          "output_type": "execute_result",
          "data": {
            "text/plain": [
              "tf.int32"
            ]
          },
          "metadata": {},
          "execution_count": 65
        }
      ]
    },
    {
      "cell_type": "code",
      "source": [
        "tensor_var1.numpy()\n",
        "\n",
        "# 변수로 설정하면 변수의 이름 크기 자료형 배열을 확인할수 있다. "
      ],
      "metadata": {
        "colab": {
          "base_uri": "https://localhost:8080/"
        },
        "id": "LfgJa7FWuLCA",
        "outputId": "d6e13e9e-deaa-4379-eefa-93b0005bf431"
      },
      "execution_count": 66,
      "outputs": [
        {
          "output_type": "execute_result",
          "data": {
            "text/plain": [
              "array([[0, 2, 3],\n",
              "       [3, 4, 5]], dtype=int32)"
            ]
          },
          "metadata": {},
          "execution_count": 66
        }
      ]
    },
    {
      "cell_type": "code",
      "source": [
        "# assig()  매소드를 이용하여 변수에 새로운 데이터를 할당 할수도 있다. \n",
        "\n",
        "tensor_var1"
      ],
      "metadata": {
        "colab": {
          "base_uri": "https://localhost:8080/"
        },
        "id": "D8SAY3K0oKUQ",
        "outputId": "49e83583-702c-49f5-b764-e0ac2259cb02"
      },
      "execution_count": 67,
      "outputs": [
        {
          "output_type": "execute_result",
          "data": {
            "text/plain": [
              "<tf.Variable 'Variable:0' shape=(2, 3) dtype=int32, numpy=\n",
              "array([[0, 2, 3],\n",
              "       [3, 4, 5]], dtype=int32)>"
            ]
          },
          "metadata": {},
          "execution_count": 67
        }
      ]
    },
    {
      "cell_type": "code",
      "source": [
        "tensor_var1.assign([[1,1,1],\n",
        "                   [2,2,2]])"
      ],
      "metadata": {
        "colab": {
          "base_uri": "https://localhost:8080/"
        },
        "id": "G1QklfETul9K",
        "outputId": "7de82a78-1972-4230-8a75-bbf330165f28"
      },
      "execution_count": 69,
      "outputs": [
        {
          "output_type": "execute_result",
          "data": {
            "text/plain": [
              "<tf.Variable 'UnreadVariable' shape=(2, 3) dtype=int32, numpy=\n",
              "array([[1, 1, 1],\n",
              "       [2, 2, 2]], dtype=int32)>"
            ]
          },
          "metadata": {},
          "execution_count": 69
        }
      ]
    },
    {
      "cell_type": "code",
      "source": [
        "print(tensor_var1)"
      ],
      "metadata": {
        "colab": {
          "base_uri": "https://localhost:8080/"
        },
        "id": "L86ZUs3BuwJC",
        "outputId": "56f4a4f9-50ca-47fe-9474-fef55998d385"
      },
      "execution_count": 70,
      "outputs": [
        {
          "output_type": "stream",
          "name": "stdout",
          "text": [
            "<tf.Variable 'Variable:0' shape=(2, 3) dtype=int32, numpy=\n",
            "array([[1, 1, 1],\n",
            "       [2, 2, 2]], dtype=int32)>\n"
          ]
        }
      ]
    },
    {
      "cell_type": "code",
      "source": [
        "# convert_to_tensor() 함수를 사용하면 변수를 텐서로 변환할 수 있다. \n",
        "# 텐서로 변환하고 나면 그 텐서의 크기와 값을 변경할수 없다. "
      ],
      "metadata": {
        "id": "ZPJK7VcPhmZx"
      },
      "execution_count": null,
      "outputs": []
    },
    {
      "cell_type": "code",
      "source": [
        "tensor2 = tf.convert_to_tensor(tensor_var1)\n",
        "print(tensor2)"
      ],
      "metadata": {
        "colab": {
          "base_uri": "https://localhost:8080/"
        },
        "id": "3_o3Q-xsfBAk",
        "outputId": "59ce453f-aa8f-44ca-e6dc-62227be18025"
      },
      "execution_count": 72,
      "outputs": [
        {
          "output_type": "stream",
          "name": "stdout",
          "text": [
            "tf.Tensor(\n",
            "[[1 1 1]\n",
            " [2 2 2]], shape=(2, 3), dtype=int32)\n"
          ]
        }
      ]
    },
    {
      "cell_type": "code",
      "source": [
        "# 특히 텐서 변수는 name 속성을 갖을 수 있다.\n",
        "tensor_var2 = tf.Variable(tensor2, name=\"New Name\")\n",
        "print(tensor_var2)"
      ],
      "metadata": {
        "colab": {
          "base_uri": "https://localhost:8080/"
        },
        "id": "1tqn87rAvpel",
        "outputId": "68726f3b-4da4-47f8-a47e-c91874d2b47f"
      },
      "execution_count": 74,
      "outputs": [
        {
          "output_type": "stream",
          "name": "stdout",
          "text": [
            "<tf.Variable 'New Name:0' shape=(2, 3) dtype=int32, numpy=\n",
            "array([[1, 1, 1],\n",
            "       [2, 2, 2]], dtype=int32)>\n"
          ]
        }
      ]
    },
    {
      "cell_type": "code",
      "source": [
        "# 텐서 변수도 텐서 연산과 동일하게 사칙연산등의 계산을 처리할수 있다. \n",
        "tensor_var1 + tensor_var2"
      ],
      "metadata": {
        "colab": {
          "base_uri": "https://localhost:8080/"
        },
        "id": "zqMTWpttwLh9",
        "outputId": "1dccf1f3-7a0c-4f0a-8d17-0365d17fa595"
      },
      "execution_count": 75,
      "outputs": [
        {
          "output_type": "execute_result",
          "data": {
            "text/plain": [
              "<tf.Tensor: shape=(2, 3), dtype=int32, numpy=\n",
              "array([[2, 2, 2],\n",
              "       [4, 4, 4]], dtype=int32)>"
            ]
          },
          "metadata": {},
          "execution_count": 75
        }
      ]
    },
    {
      "cell_type": "code",
      "source": [
        "# Keras : 딥러닝 라이브러리들을 쉽고 간결하게 사용할 수 있도록 하는 것이\n",
        "#         목적 케라스 2.3까지는 다른 딥러닝 라이브러리 들도 지원했지만\n",
        "#         2.4 부터는 더이상 다른 라이브러리를 지원하지 않고 오직 텐서플로만\n",
        "#         지원한다. \n",
        "\n",
        "# 하이퍼파라미터 hyper parameter - 파이썬에서의 하이퍼파라미터와는 다른 의미를\n",
        "#                가진다. 하이퍼 파라미터는 딥러닝 뿐 아니라 머신러닝 모델을 \n",
        "#                훈련할때 사용자가 직접 설정해주는 설정 값을 뜻한다. \n",
        "#                가중치(weights) 편향(bias)는 자동으로 업데이트 되지만\n",
        "#                학습 속도나 반복 훈련 횟수 등 사용자가 직접 설정해야 하는 값들이\n",
        "#                많다. 사용자가 어떤 값을 설정하느냐에 따라 모델의 성능 과 결과가\n",
        "#                많이 달라진다. 따라서 매우 중요하다.\n",
        "\n",
        "# 과소 적합 unerfitting vs  과대적합 overfitting\n",
        "\n",
        "# 에포크 (epoch) - 딥러닝은 데이터셋을 학습하는 과정을 엄청나게 많이 반복하면서\n",
        "#        최적의 모델 가중치를 찾는 과정이다. 반복 훈련을 할 때 데이터 셋을 \n",
        "#        전부 학습에 사용하는 1회의 훈련 루프를 1 epoch\n",
        "#        특히 에폭은 중요한 파라미터이다. 과소적합이다라고 판단되면 epoch을 늘려서\n",
        "#        다시 학습시킬 필요가 있다.  과대적합이다라고 판단되면 epoch을 줄여서 학습을\n",
        "#        조기 종료 시키는 것이 과대 적합을 방지하는 하나의 방법이다. \n",
        "\n",
        "# 손실 함수 loss function 예측 값과 정답 간의 차이 또는 오차(출력값과 실제값의 차이0)"
      ],
      "metadata": {
        "id": "j0x7IB3iwe4W"
      },
      "execution_count": 78,
      "outputs": []
    },
    {
      "cell_type": "code",
      "source": [
        "import numpy as np\n",
        "import matplotlib.pyplot as plt\n",
        "\n",
        "def make_linear(w=0.5, b=0.8, size= 50, noise=1.0) :\n",
        "  x = np.random.rand(size)\n",
        "  y = w * x + b\n",
        "  noise = np.random.uniform(-abs(noise), abs(noise), size = y.shape)\n",
        "  yy = y + noise\n",
        "  plt.figure(figsize=(10,7))\n",
        "  plt.plot(x,y,color='r', label=f'y={w}*x+{b}')\n",
        "  plt.scatter(x,yy,label='data')\n",
        "  plt.legend(fontsize=20)\n",
        "  plt.show()\n",
        "  print(f'w:{w}, b:{b}')\n",
        "  return x, yy \n",
        "\n",
        "x,y = make_linear(w=0.3, b=0.5, size=100, noise=0.01)\n",
        "# 생성된 y 데이터는 y = 0.3x + 0.5 식과 완전히 일치하지 않고 \n",
        "# 약간의 노이즈가 추가되었다. "
      ],
      "metadata": {
        "colab": {
          "base_uri": "https://localhost:8080/",
          "height": 446
        },
        "id": "cqpRMhz1xwgB",
        "outputId": "326d3b1d-c39a-4b93-939f-15e1fe03fd34"
      },
      "execution_count": 79,
      "outputs": [
        {
          "output_type": "display_data",
          "data": {
            "image/png": "[encoded data removed]",
            "text/plain": [
              "<Figure size 720x504 with 1 Axes>"
            ]
          },
          "metadata": {
            "needs_background": "light"
          }
        },
        {
          "output_type": "stream",
          "name": "stdout",
          "text": [
            "w:0.3, b:0.5\n"
          ]
        }
      ]
    },
    {
      "cell_type": "code",
      "source": [
        "딥러닝 프로세스 \n",
        "\n",
        "데이터 로드 -> 데이터 전처리 -> 데이터 분할 -> \n",
        "\n",
        "모델 생성 -> 훈련 -> 검증 -> 예측\n"
      ],
      "metadata": {
        "id": "036fgyRU5xQb"
      },
      "execution_count": null,
      "outputs": []
    },
    {
      "cell_type": "code",
      "source": [
        "import numpy as np\n",
        "\n",
        "x = np.arange(1,6)\n",
        "y = 3 * x + 2\n",
        "print(x)\n",
        "print(y)"
      ],
      "metadata": {
        "colab": {
          "base_uri": "https://localhost:8080/"
        },
        "id": "QF-KbemBxudA",
        "outputId": "63cc36ad-1539-402e-d8d4-80d585337e9d"
      },
      "execution_count": 82,
      "outputs": [
        {
          "output_type": "stream",
          "name": "stdout",
          "text": [
            "[1 2 3 4 5]\n",
            "[ 5  8 11 14 17]\n"
          ]
        }
      ]
    },
    {
      "cell_type": "code",
      "source": [
        "plt.plot(x,y)"
      ],
      "metadata": {
        "colab": {
          "base_uri": "https://localhost:8080/",
          "height": 283
        },
        "id": "qTRqwojb7wOd",
        "outputId": "7ef22b25-c6de-44aa-d674-aecabf574543"
      },
      "execution_count": 83,
      "outputs": [
        {
          "output_type": "execute_result",
          "data": {
            "text/plain": [
              "[<matplotlib.lines.Line2D at 0x7f99fe4d1c50>]"
            ]
          },
          "metadata": {},
          "execution_count": 83
        },
        {
          "output_type": "display_data",
          "data": {
            "image/png": "[encoded data removed]",
            "text/plain": [
              "<Figure size 432x288 with 1 Axes>"
            ]
          },
          "metadata": {
            "needs_background": "light"
          }
        }
      ]
    },
    {
      "cell_type": "code",
      "source": [
        "# 텐서프로 케라스는 보통 세 가지 방식으로 모델을 생성한다.\n",
        "# 그 중 제일 간결한 Sequential API 방식을 사용하면 쉽게 만들수 있다. \n",
        "# 층을 이어 붙이듯 일렬로 연결하는 방식이다. 따라서 입력 레이어 부터\n",
        "# 출력 레이어까지 순서를 갖는다. \n",
        "# 입력 데이터는 시퀀스에 가장 앞에 위치하고 순서대로 각 층을 하나씩 통과\n",
        "# 하면서 딥러닝 연산을 수행하게 된다.  \n",
        "\n",
        "# 직관적으로 구조를 이해할 수 있기 때문에 케라스  중 가장 간단한 방법이다. \n",
        "# 2개 이상의 다중 입력이나 다중 출력을 갖는 복잡한 구조를 만들수는 없다. \n",
        "\n",
        "model = tf.keras.Sequential([\n",
        "        tf.keras.layers.Dense(10),                     \n",
        "        tf.keras.layers.Dense(5),\n",
        "        tf.keras.layers.Dense(1)\n",
        "])\n"
      ],
      "metadata": {
        "id": "jn8KBFI074e7"
      },
      "execution_count": 85,
      "outputs": []
    },
    {
      "cell_type": "code",
      "source": [
        "# add 함수를 통해서 추가로 층을 추가할 수 있다. \n",
        "model = tf.keras.Sequential()\n",
        "model.add(tf.keras.layers.Dense(10))\n",
        "model.add(tf.keras.layers.Dense(5))\n",
        "model.add(tf.keras.layers.Dense(1))\n"
      ],
      "metadata": {
        "id": "16LJBQHW7sha"
      },
      "execution_count": 86,
      "outputs": []
    },
    {
      "cell_type": "code",
      "source": [
        "#Sequential API 를 사용하여 모델을 구성할 때는 반드시 첫번째 층은\n",
        "# input_shape 매개변수를 지정해야 한다. input_shape매개변수는 주입할 데이터 셋의\n",
        "# shape을 튜플 혹은 리스트로 지정할 수 있다. \n",
        "# 예를들면 데이터셋의 shape이 (150, 4)로 구성되었다고 가정하면 \n",
        "# input_shape은 (4,) 혹은 [4]로 지정한다. \n",
        "\n",
        "model = tf.keras.Sequential([\n",
        "  tf.keras.layers.Dense(10,input_shape=[4]),\n",
        "  tf.keras.layers.Dense(5),\n",
        "  tf.keras.layers.Dense(1),\n",
        "])"
      ],
      "metadata": {
        "id": "hcR6MoCvwJLe"
      },
      "execution_count": 88,
      "outputs": []
    },
    {
      "cell_type": "code",
      "source": [
        "# 단순선형회귀 모델\n",
        "model = tf.keras.Sequential([\n",
        "        tf.keras.layers.Dense(1, input_shape=[1])                     \n",
        "])"
      ],
      "metadata": {
        "id": "l3EteP0qc-Gp"
      },
      "execution_count": 91,
      "outputs": []
    },
    {
      "cell_type": "code",
      "source": [
        "model.summary()\n",
        "# 모델의 요약 : 구조를 확인할 수 있고 층별 노드의 개수가 표기된다. \n",
        "#               하단에는 훈련시 업데이트 할 파라미터의 개수가 표시된다. \n",
        "# Total params 모델 내부에 존재하는 모든 파라미터의 합계\n",
        "# Trainable params 모델 훈련 시 업데이트 할 파라미터의 홍 개수\n",
        "# Non ---- 훈련시 업데이트 하지 않을 파라미터의 총 개수\n",
        "# 단순선형회귀 모델에서는 업데이트 파라미터가 가중치  w 편향 b 두개이다. \n",
        "# 따라서 총 Param의 개수가 2개로 표기되는 것을 확인 할 수 있다. "
      ],
      "metadata": {
        "colab": {
          "base_uri": "https://localhost:8080/"
        },
        "id": "wVIBeBmbcHdM",
        "outputId": "61cb96c8-280c-478b-e425-e88d3f99a409"
      },
      "execution_count": 92,
      "outputs": [
        {
          "output_type": "stream",
          "name": "stdout",
          "text": [
            "Model: \"sequential_5\"\n",
            "_________________________________________________________________\n",
            " Layer (type)                Output Shape              Param #   \n",
            "=================================================================\n",
            " dense_10 (Dense)            (None, 1)                 2         \n",
            "                                                                 \n",
            "=================================================================\n",
            "Total params: 2\n",
            "Trainable params: 2\n",
            "Non-trainable params: 0\n",
            "_________________________________________________________________\n"
          ]
        }
      ]
    },
    {
      "cell_type": "code",
      "source": [
        "model.compile(optimizer='sgd', loss='mse', metrics=['mse','mae'])\n",
        "# sgd 경사하강법 - 최적화 방법 \n",
        "# 평가 지표 와 손실 함수 : mse 평균 제곱 오차 mae 평균 절대 오차"
      ],
      "metadata": {
        "id": "IqK0iec0D3bp"
      },
      "execution_count": 99,
      "outputs": []
    },
    {
      "cell_type": "code",
      "source": [
        ""
      ],
      "metadata": {
        "id": "tcScTZagEyFC"
      },
      "execution_count": null,
      "outputs": []
    },
    {
      "cell_type": "code",
      "source": [
        ""
      ],
      "metadata": {
        "id": "mLZ27mHbEHL3"
      },
      "execution_count": null,
      "outputs": []
    },
    {
      "cell_type": "code",
      "source": [
        "history = model.fit(x,y, epochs=1000)"
      ],
      "metadata": {
        "colab": {
          "base_uri": "https://localhost:8080/"
        },
        "id": "4ETMuBPnCpR6",
        "outputId": "9b385cc3-efb3-4e81-d843-48cfba433a86"
      },
      "execution_count": 102,
      "outputs": [
        {
          "output_type": "stream",
          "name": "stdout",
          "text": [
            "Epoch 1/1000\n",
            "1/1 [==============================] - 0s 6ms/step - loss: 0.7208 - mse: 0.7208 - mae: 0.8289\n",
            "Epoch 2/1000\n",
            "1/1 [==============================] - 0s 6ms/step - loss: 0.5215 - mse: 0.5215 - mae: 0.6787\n",
            "Epoch 3/1000\n",
            "1/1 [==============================] - 0s 8ms/step - loss: 0.4046 - mse: 0.4046 - mae: 0.5639\n",
            "Epoch 4/1000\n",
            "1/1 [==============================] - 0s 7ms/step - loss: 0.3359 - mse: 0.3359 - mae: 0.4761\n",
            "Epoch 5/1000\n",
            "1/1 [==============================] - 0s 5ms/step - loss: 0.2951 - mse: 0.2951 - mae: 0.4477\n",
            "Epoch 6/1000\n",
            "1/1 [==============================] - 0s 11ms/step - loss: 0.2707 - mse: 0.2707 - mae: 0.4283\n",
            "Epoch 7/1000\n",
            "1/1 [==============================] - 0s 10ms/step - loss: 0.2558 - mse: 0.2558 - mae: 0.4133\n",
            "Epoch 8/1000\n",
            "1/1 [==============================] - 0s 6ms/step - loss: 0.2464 - mse: 0.2464 - mae: 0.4015\n",
            "Epoch 9/1000\n",
            "1/1 [==============================] - 0s 6ms/step - loss: 0.2403 - mse: 0.2403 - mae: 0.4031\n",
            "Epoch 10/1000\n",
            "1/1 [==============================] - 0s 4ms/step - loss: 0.2361 - mse: 0.2361 - mae: 0.4046\n",
            "Epoch 11/1000\n",
            "1/1 [==============================] - 0s 6ms/step - loss: 0.2330 - mse: 0.2330 - mae: 0.4054\n",
            "Epoch 12/1000\n",
            "1/1 [==============================] - 0s 7ms/step - loss: 0.2306 - mse: 0.2306 - mae: 0.4057\n",
            "Epoch 13/1000\n",
            "1/1 [==============================] - 0s 6ms/step - loss: 0.2285 - mse: 0.2285 - mae: 0.4055\n",
            "Epoch 14/1000\n",
            "1/1 [==============================] - 0s 4ms/step - loss: 0.2267 - mse: 0.2267 - mae: 0.4051\n",
            "Epoch 15/1000\n",
            "1/1 [==============================] - 0s 7ms/step - loss: 0.2250 - mse: 0.2250 - mae: 0.4045\n",
            "Epoch 16/1000\n",
            "1/1 [==============================] - 0s 4ms/step - loss: 0.2233 - mse: 0.2233 - mae: 0.4037\n",
            "Epoch 17/1000\n",
            "1/1 [==============================] - 0s 7ms/step - loss: 0.2218 - mse: 0.2218 - mae: 0.4027\n",
            "Epoch 18/1000\n",
            "1/1 [==============================] - 0s 7ms/step - loss: 0.2203 - mse: 0.2203 - mae: 0.4017\n",
            "Epoch 19/1000\n",
            "1/1 [==============================] - 0s 8ms/step - loss: 0.2187 - mse: 0.2187 - mae: 0.4006\n",
            "Epoch 20/1000\n",
            "1/1 [==============================] - 0s 8ms/step - loss: 0.2173 - mse: 0.2173 - mae: 0.3994\n",
            "Epoch 21/1000\n",
            "1/1 [==============================] - 0s 9ms/step - loss: 0.2158 - mse: 0.2158 - mae: 0.3982\n",
            "Epoch 22/1000\n",
            "1/1 [==============================] - 0s 7ms/step - loss: 0.2143 - mse: 0.2143 - mae: 0.3970\n",
            "Epoch 23/1000\n",
            "1/1 [==============================] - 0s 6ms/step - loss: 0.2129 - mse: 0.2129 - mae: 0.3957\n",
            "Epoch 24/1000\n",
            "1/1 [==============================] - 0s 5ms/step - loss: 0.2114 - mse: 0.2114 - mae: 0.3945\n",
            "Epoch 25/1000\n",
            "1/1 [==============================] - 0s 6ms/step - loss: 0.2100 - mse: 0.2100 - mae: 0.3932\n",
            "Epoch 26/1000\n",
            "1/1 [==============================] - 0s 5ms/step - loss: 0.2086 - mse: 0.2086 - mae: 0.3919\n",
            "Epoch 27/1000\n",
            "1/1 [==============================] - 0s 5ms/step - loss: 0.2072 - mse: 0.2072 - mae: 0.3906\n",
            "Epoch 28/1000\n",
            "1/1 [==============================] - 0s 8ms/step - loss: 0.2058 - mse: 0.2058 - mae: 0.3893\n",
            "Epoch 29/1000\n",
            "1/1 [==============================] - 0s 5ms/step - loss: 0.2044 - mse: 0.2044 - mae: 0.3880\n",
            "Epoch 30/1000\n",
            "1/1 [==============================] - 0s 5ms/step - loss: 0.2030 - mse: 0.2030 - mae: 0.3867\n",
            "Epoch 31/1000\n",
            "1/1 [==============================] - 0s 7ms/step - loss: 0.2016 - mse: 0.2016 - mae: 0.3854\n",
            "Epoch 32/1000\n",
            "1/1 [==============================] - 0s 5ms/step - loss: 0.2003 - mse: 0.2003 - mae: 0.3841\n",
            "Epoch 33/1000\n",
            "1/1 [==============================] - 0s 7ms/step - loss: 0.1989 - mse: 0.1989 - mae: 0.3828\n",
            "Epoch 34/1000\n",
            "1/1 [==============================] - 0s 7ms/step - loss: 0.1976 - mse: 0.1976 - mae: 0.3815\n",
            "Epoch 35/1000\n",
            "1/1 [==============================] - 0s 6ms/step - loss: 0.1963 - mse: 0.1963 - mae: 0.3802\n",
            "Epoch 36/1000\n",
            "1/1 [==============================] - 0s 6ms/step - loss: 0.1949 - mse: 0.1949 - mae: 0.3789\n",
            "Epoch 37/1000\n",
            "1/1 [==============================] - 0s 6ms/step - loss: 0.1936 - mse: 0.1936 - mae: 0.3777\n",
            "Epoch 38/1000\n",
            "1/1 [==============================] - 0s 5ms/step - loss: 0.1923 - mse: 0.1923 - mae: 0.3764\n",
            "Epoch 39/1000\n",
            "1/1 [==============================] - 0s 6ms/step - loss: 0.1910 - mse: 0.1910 - mae: 0.3751\n",
            "Epoch 40/1000\n",
            "1/1 [==============================] - 0s 15ms/step - loss: 0.1897 - mse: 0.1897 - mae: 0.3739\n",
            "Epoch 41/1000\n",
            "1/1 [==============================] - 0s 8ms/step - loss: 0.1884 - mse: 0.1884 - mae: 0.3726\n",
            "Epoch 42/1000\n",
            "1/1 [==============================] - 0s 4ms/step - loss: 0.1872 - mse: 0.1872 - mae: 0.3713\n",
            "Epoch 43/1000\n",
            "1/1 [==============================] - 0s 8ms/step - loss: 0.1859 - mse: 0.1859 - mae: 0.3701\n",
            "Epoch 44/1000\n",
            "1/1 [==============================] - 0s 7ms/step - loss: 0.1846 - mse: 0.1846 - mae: 0.3688\n",
            "Epoch 45/1000\n",
            "1/1 [==============================] - 0s 11ms/step - loss: 0.1834 - mse: 0.1834 - mae: 0.3676\n",
            "Epoch 46/1000\n",
            "1/1 [==============================] - 0s 5ms/step - loss: 0.1822 - mse: 0.1822 - mae: 0.3663\n",
            "Epoch 47/1000\n",
            "1/1 [==============================] - 0s 10ms/step - loss: 0.1809 - mse: 0.1809 - mae: 0.3651\n",
            "Epoch 48/1000\n",
            "1/1 [==============================] - 0s 6ms/step - loss: 0.1797 - mse: 0.1797 - mae: 0.3639\n",
            "Epoch 49/1000\n",
            "1/1 [==============================] - 0s 10ms/step - loss: 0.1785 - mse: 0.1785 - mae: 0.3626\n",
            "Epoch 50/1000\n",
            "1/1 [==============================] - 0s 4ms/step - loss: 0.1773 - mse: 0.1773 - mae: 0.3614\n",
            "Epoch 51/1000\n",
            "1/1 [==============================] - 0s 8ms/step - loss: 0.1761 - mse: 0.1761 - mae: 0.3602\n",
            "Epoch 52/1000\n",
            "1/1 [==============================] - 0s 8ms/step - loss: 0.1749 - mse: 0.1749 - mae: 0.3590\n",
            "Epoch 53/1000\n",
            "1/1 [==============================] - 0s 5ms/step - loss: 0.1737 - mse: 0.1737 - mae: 0.3578\n",
            "Epoch 54/1000\n",
            "1/1 [==============================] - 0s 11ms/step - loss: 0.1726 - mse: 0.1726 - mae: 0.3565\n",
            "Epoch 55/1000\n",
            "1/1 [==============================] - 0s 12ms/step - loss: 0.1714 - mse: 0.1714 - mae: 0.3553\n",
            "Epoch 56/1000\n",
            "1/1 [==============================] - 0s 8ms/step - loss: 0.1702 - mse: 0.1702 - mae: 0.3541\n",
            "Epoch 57/1000\n",
            "1/1 [==============================] - 0s 7ms/step - loss: 0.1691 - mse: 0.1691 - mae: 0.3529\n",
            "Epoch 58/1000\n",
            "1/1 [==============================] - 0s 4ms/step - loss: 0.1679 - mse: 0.1679 - mae: 0.3517\n",
            "Epoch 59/1000\n",
            "1/1 [==============================] - 0s 6ms/step - loss: 0.1668 - mse: 0.1668 - mae: 0.3506\n",
            "Epoch 60/1000\n",
            "1/1 [==============================] - 0s 10ms/step - loss: 0.1657 - mse: 0.1657 - mae: 0.3494\n",
            "Epoch 61/1000\n",
            "1/1 [==============================] - 0s 8ms/step - loss: 0.1646 - mse: 0.1646 - mae: 0.3482\n",
            "Epoch 62/1000\n",
            "1/1 [==============================] - 0s 8ms/step - loss: 0.1635 - mse: 0.1635 - mae: 0.3470\n",
            "Epoch 63/1000\n",
            "1/1 [==============================] - 0s 5ms/step - loss: 0.1623 - mse: 0.1623 - mae: 0.3458\n",
            "Epoch 64/1000\n",
            "1/1 [==============================] - 0s 9ms/step - loss: 0.1613 - mse: 0.1613 - mae: 0.3447\n",
            "Epoch 65/1000\n",
            "1/1 [==============================] - 0s 5ms/step - loss: 0.1602 - mse: 0.1602 - mae: 0.3435\n",
            "Epoch 66/1000\n",
            "1/1 [==============================] - 0s 11ms/step - loss: 0.1591 - mse: 0.1591 - mae: 0.3423\n",
            "Epoch 67/1000\n",
            "1/1 [==============================] - 0s 8ms/step - loss: 0.1580 - mse: 0.1580 - mae: 0.3412\n",
            "Epoch 68/1000\n",
            "1/1 [==============================] - 0s 7ms/step - loss: 0.1569 - mse: 0.1569 - mae: 0.3400\n",
            "Epoch 69/1000\n",
            "1/1 [==============================] - 0s 8ms/step - loss: 0.1559 - mse: 0.1559 - mae: 0.3389\n",
            "Epoch 70/1000\n",
            "1/1 [==============================] - 0s 7ms/step - loss: 0.1548 - mse: 0.1548 - mae: 0.3377\n",
            "Epoch 71/1000\n",
            "1/1 [==============================] - 0s 7ms/step - loss: 0.1538 - mse: 0.1538 - mae: 0.3366\n",
            "Epoch 72/1000\n",
            "1/1 [==============================] - 0s 8ms/step - loss: 0.1527 - mse: 0.1527 - mae: 0.3355\n",
            "Epoch 73/1000\n",
            "1/1 [==============================] - 0s 8ms/step - loss: 0.1517 - mse: 0.1517 - mae: 0.3343\n",
            "Epoch 74/1000\n",
            "1/1 [==============================] - 0s 7ms/step - loss: 0.1507 - mse: 0.1507 - mae: 0.3332\n",
            "Epoch 75/1000\n",
            "1/1 [==============================] - 0s 8ms/step - loss: 0.1497 - mse: 0.1497 - mae: 0.3321\n",
            "Epoch 76/1000\n",
            "1/1 [==============================] - 0s 9ms/step - loss: 0.1487 - mse: 0.1487 - mae: 0.3309\n",
            "Epoch 77/1000\n",
            "1/1 [==============================] - 0s 8ms/step - loss: 0.1477 - mse: 0.1477 - mae: 0.3298\n",
            "Epoch 78/1000\n",
            "1/1 [==============================] - 0s 7ms/step - loss: 0.1467 - mse: 0.1467 - mae: 0.3287\n",
            "Epoch 79/1000\n",
            "1/1 [==============================] - 0s 9ms/step - loss: 0.1457 - mse: 0.1457 - mae: 0.3276\n",
            "Epoch 80/1000\n",
            "1/1 [==============================] - 0s 8ms/step - loss: 0.1447 - mse: 0.1447 - mae: 0.3265\n",
            "Epoch 81/1000\n",
            "1/1 [==============================] - 0s 4ms/step - loss: 0.1437 - mse: 0.1437 - mae: 0.3254\n",
            "Epoch 82/1000\n",
            "1/1 [==============================] - 0s 7ms/step - loss: 0.1427 - mse: 0.1427 - mae: 0.3243\n",
            "Epoch 83/1000\n",
            "1/1 [==============================] - 0s 9ms/step - loss: 0.1418 - mse: 0.1418 - mae: 0.3232\n",
            "Epoch 84/1000\n",
            "1/1 [==============================] - 0s 4ms/step - loss: 0.1408 - mse: 0.1408 - mae: 0.3221\n",
            "Epoch 85/1000\n",
            "1/1 [==============================] - 0s 8ms/step - loss: 0.1399 - mse: 0.1399 - mae: 0.3210\n",
            "Epoch 86/1000\n",
            "1/1 [==============================] - 0s 10ms/step - loss: 0.1389 - mse: 0.1389 - mae: 0.3199\n",
            "Epoch 87/1000\n",
            "1/1 [==============================] - 0s 7ms/step - loss: 0.1380 - mse: 0.1380 - mae: 0.3188\n",
            "Epoch 88/1000\n",
            "1/1 [==============================] - 0s 4ms/step - loss: 0.1371 - mse: 0.1371 - mae: 0.3178\n",
            "Epoch 89/1000\n",
            "1/1 [==============================] - 0s 13ms/step - loss: 0.1361 - mse: 0.1361 - mae: 0.3167\n",
            "Epoch 90/1000\n",
            "1/1 [==============================] - 0s 7ms/step - loss: 0.1352 - mse: 0.1352 - mae: 0.3156\n",
            "Epoch 91/1000\n",
            "1/1 [==============================] - 0s 7ms/step - loss: 0.1343 - mse: 0.1343 - mae: 0.3146\n",
            "Epoch 92/1000\n",
            "1/1 [==============================] - 0s 6ms/step - loss: 0.1334 - mse: 0.1334 - mae: 0.3135\n",
            "Epoch 93/1000\n",
            "1/1 [==============================] - 0s 6ms/step - loss: 0.1325 - mse: 0.1325 - mae: 0.3124\n",
            "Epoch 94/1000\n",
            "1/1 [==============================] - 0s 5ms/step - loss: 0.1316 - mse: 0.1316 - mae: 0.3114\n",
            "Epoch 95/1000\n",
            "1/1 [==============================] - 0s 10ms/step - loss: 0.1307 - mse: 0.1307 - mae: 0.3103\n",
            "Epoch 96/1000\n",
            "1/1 [==============================] - 0s 8ms/step - loss: 0.1298 - mse: 0.1298 - mae: 0.3093\n",
            "Epoch 97/1000\n",
            "1/1 [==============================] - 0s 11ms/step - loss: 0.1290 - mse: 0.1290 - mae: 0.3082\n",
            "Epoch 98/1000\n",
            "1/1 [==============================] - 0s 5ms/step - loss: 0.1281 - mse: 0.1281 - mae: 0.3072\n",
            "Epoch 99/1000\n",
            "1/1 [==============================] - 0s 5ms/step - loss: 0.1272 - mse: 0.1272 - mae: 0.3061\n",
            "Epoch 100/1000\n",
            "1/1 [==============================] - 0s 9ms/step - loss: 0.1264 - mse: 0.1264 - mae: 0.3051\n",
            "Epoch 101/1000\n",
            "1/1 [==============================] - 0s 5ms/step - loss: 0.1255 - mse: 0.1255 - mae: 0.3041\n",
            "Epoch 102/1000\n",
            "1/1 [==============================] - 0s 5ms/step - loss: 0.1247 - mse: 0.1247 - mae: 0.3030\n",
            "Epoch 103/1000\n",
            "1/1 [==============================] - 0s 4ms/step - loss: 0.1238 - mse: 0.1238 - mae: 0.3020\n",
            "Epoch 104/1000\n",
            "1/1 [==============================] - 0s 7ms/step - loss: 0.1230 - mse: 0.1230 - mae: 0.3010\n",
            "Epoch 105/1000\n",
            "1/1 [==============================] - 0s 13ms/step - loss: 0.1222 - mse: 0.1222 - mae: 0.3000\n",
            "Epoch 106/1000\n",
            "1/1 [==============================] - 0s 6ms/step - loss: 0.1213 - mse: 0.1213 - mae: 0.2990\n",
            "Epoch 107/1000\n",
            "1/1 [==============================] - 0s 6ms/step - loss: 0.1205 - mse: 0.1205 - mae: 0.2980\n",
            "Epoch 108/1000\n",
            "1/1 [==============================] - 0s 6ms/step - loss: 0.1197 - mse: 0.1197 - mae: 0.2970\n",
            "Epoch 109/1000\n",
            "1/1 [==============================] - 0s 5ms/step - loss: 0.1189 - mse: 0.1189 - mae: 0.2959\n",
            "Epoch 110/1000\n",
            "1/1 [==============================] - 0s 7ms/step - loss: 0.1181 - mse: 0.1181 - mae: 0.2949\n",
            "Epoch 111/1000\n",
            "1/1 [==============================] - 0s 9ms/step - loss: 0.1173 - mse: 0.1173 - mae: 0.2940\n",
            "Epoch 112/1000\n",
            "1/1 [==============================] - 0s 14ms/step - loss: 0.1165 - mse: 0.1165 - mae: 0.2930\n",
            "Epoch 113/1000\n",
            "1/1 [==============================] - 0s 8ms/step - loss: 0.1157 - mse: 0.1157 - mae: 0.2920\n",
            "Epoch 114/1000\n",
            "1/1 [==============================] - 0s 7ms/step - loss: 0.1149 - mse: 0.1149 - mae: 0.2910\n",
            "Epoch 115/1000\n",
            "1/1 [==============================] - 0s 7ms/step - loss: 0.1142 - mse: 0.1142 - mae: 0.2900\n",
            "Epoch 116/1000\n",
            "1/1 [==============================] - 0s 7ms/step - loss: 0.1134 - mse: 0.1134 - mae: 0.2890\n",
            "Epoch 117/1000\n",
            "1/1 [==============================] - 0s 11ms/step - loss: 0.1126 - mse: 0.1126 - mae: 0.2880\n",
            "Epoch 118/1000\n",
            "1/1 [==============================] - 0s 5ms/step - loss: 0.1119 - mse: 0.1119 - mae: 0.2871\n",
            "Epoch 119/1000\n",
            "1/1 [==============================] - 0s 6ms/step - loss: 0.1111 - mse: 0.1111 - mae: 0.2861\n",
            "Epoch 120/1000\n",
            "1/1 [==============================] - 0s 5ms/step - loss: 0.1103 - mse: 0.1103 - mae: 0.2851\n",
            "Epoch 121/1000\n",
            "1/1 [==============================] - 0s 6ms/step - loss: 0.1096 - mse: 0.1096 - mae: 0.2842\n",
            "Epoch 122/1000\n",
            "1/1 [==============================] - 0s 9ms/step - loss: 0.1089 - mse: 0.1089 - mae: 0.2832\n",
            "Epoch 123/1000\n",
            "1/1 [==============================] - 0s 5ms/step - loss: 0.1081 - mse: 0.1081 - mae: 0.2822\n",
            "Epoch 124/1000\n",
            "1/1 [==============================] - 0s 7ms/step - loss: 0.1074 - mse: 0.1074 - mae: 0.2813\n",
            "Epoch 125/1000\n",
            "1/1 [==============================] - 0s 9ms/step - loss: 0.1067 - mse: 0.1067 - mae: 0.2803\n",
            "Epoch 126/1000\n",
            "1/1 [==============================] - 0s 7ms/step - loss: 0.1060 - mse: 0.1060 - mae: 0.2794\n",
            "Epoch 127/1000\n",
            "1/1 [==============================] - 0s 7ms/step - loss: 0.1052 - mse: 0.1052 - mae: 0.2784\n",
            "Epoch 128/1000\n",
            "1/1 [==============================] - 0s 6ms/step - loss: 0.1045 - mse: 0.1045 - mae: 0.2775\n",
            "Epoch 129/1000\n",
            "1/1 [==============================] - 0s 8ms/step - loss: 0.1038 - mse: 0.1038 - mae: 0.2766\n",
            "Epoch 130/1000\n",
            "1/1 [==============================] - 0s 7ms/step - loss: 0.1031 - mse: 0.1031 - mae: 0.2756\n",
            "Epoch 131/1000\n",
            "1/1 [==============================] - 0s 6ms/step - loss: 0.1024 - mse: 0.1024 - mae: 0.2747\n",
            "Epoch 132/1000\n",
            "1/1 [==============================] - 0s 7ms/step - loss: 0.1017 - mse: 0.1017 - mae: 0.2738\n",
            "Epoch 133/1000\n",
            "1/1 [==============================] - 0s 4ms/step - loss: 0.1010 - mse: 0.1010 - mae: 0.2728\n",
            "Epoch 134/1000\n",
            "1/1 [==============================] - 0s 5ms/step - loss: 0.1004 - mse: 0.1004 - mae: 0.2719\n",
            "Epoch 135/1000\n",
            "1/1 [==============================] - 0s 5ms/step - loss: 0.0997 - mse: 0.0997 - mae: 0.2710\n",
            "Epoch 136/1000\n",
            "1/1 [==============================] - 0s 3ms/step - loss: 0.0990 - mse: 0.0990 - mae: 0.2701\n",
            "Epoch 137/1000\n",
            "1/1 [==============================] - 0s 8ms/step - loss: 0.0983 - mse: 0.0983 - mae: 0.2692\n",
            "Epoch 138/1000\n",
            "1/1 [==============================] - 0s 3ms/step - loss: 0.0977 - mse: 0.0977 - mae: 0.2683\n",
            "Epoch 139/1000\n",
            "1/1 [==============================] - 0s 4ms/step - loss: 0.0970 - mse: 0.0970 - mae: 0.2674\n",
            "Epoch 140/1000\n",
            "1/1 [==============================] - 0s 7ms/step - loss: 0.0964 - mse: 0.0964 - mae: 0.2665\n",
            "Epoch 141/1000\n",
            "1/1 [==============================] - 0s 9ms/step - loss: 0.0957 - mse: 0.0957 - mae: 0.2656\n",
            "Epoch 142/1000\n",
            "1/1 [==============================] - 0s 4ms/step - loss: 0.0951 - mse: 0.0951 - mae: 0.2647\n",
            "Epoch 143/1000\n",
            "1/1 [==============================] - 0s 4ms/step - loss: 0.0944 - mse: 0.0944 - mae: 0.2638\n",
            "Epoch 144/1000\n",
            "1/1 [==============================] - 0s 9ms/step - loss: 0.0938 - mse: 0.0938 - mae: 0.2629\n",
            "Epoch 145/1000\n",
            "1/1 [==============================] - 0s 4ms/step - loss: 0.0932 - mse: 0.0932 - mae: 0.2620\n",
            "Epoch 146/1000\n",
            "1/1 [==============================] - 0s 4ms/step - loss: 0.0925 - mse: 0.0925 - mae: 0.2611\n",
            "Epoch 147/1000\n",
            "1/1 [==============================] - 0s 9ms/step - loss: 0.0919 - mse: 0.0919 - mae: 0.2602\n",
            "Epoch 148/1000\n",
            "1/1 [==============================] - 0s 4ms/step - loss: 0.0913 - mse: 0.0913 - mae: 0.2593\n",
            "Epoch 149/1000\n",
            "1/1 [==============================] - 0s 4ms/step - loss: 0.0907 - mse: 0.0907 - mae: 0.2585\n",
            "Epoch 150/1000\n",
            "1/1 [==============================] - 0s 4ms/step - loss: 0.0901 - mse: 0.0901 - mae: 0.2576\n",
            "Epoch 151/1000\n",
            "1/1 [==============================] - 0s 4ms/step - loss: 0.0895 - mse: 0.0895 - mae: 0.2567\n",
            "Epoch 152/1000\n",
            "1/1 [==============================] - 0s 7ms/step - loss: 0.0888 - mse: 0.0888 - mae: 0.2558\n",
            "Epoch 153/1000\n",
            "1/1 [==============================] - 0s 8ms/step - loss: 0.0882 - mse: 0.0882 - mae: 0.2550\n",
            "Epoch 154/1000\n",
            "1/1 [==============================] - 0s 4ms/step - loss: 0.0877 - mse: 0.0877 - mae: 0.2541\n",
            "Epoch 155/1000\n",
            "1/1 [==============================] - 0s 4ms/step - loss: 0.0871 - mse: 0.0871 - mae: 0.2533\n",
            "Epoch 156/1000\n",
            "1/1 [==============================] - 0s 10ms/step - loss: 0.0865 - mse: 0.0865 - mae: 0.2524\n",
            "Epoch 157/1000\n",
            "1/1 [==============================] - 0s 3ms/step - loss: 0.0859 - mse: 0.0859 - mae: 0.2515\n",
            "Epoch 158/1000\n",
            "1/1 [==============================] - 0s 4ms/step - loss: 0.0853 - mse: 0.0853 - mae: 0.2507\n",
            "Epoch 159/1000\n",
            "1/1 [==============================] - 0s 4ms/step - loss: 0.0847 - mse: 0.0847 - mae: 0.2498\n",
            "Epoch 160/1000\n",
            "1/1 [==============================] - 0s 4ms/step - loss: 0.0842 - mse: 0.0842 - mae: 0.2490\n",
            "Epoch 161/1000\n",
            "1/1 [==============================] - 0s 5ms/step - loss: 0.0836 - mse: 0.0836 - mae: 0.2482\n",
            "Epoch 162/1000\n",
            "1/1 [==============================] - 0s 4ms/step - loss: 0.0830 - mse: 0.0830 - mae: 0.2473\n",
            "Epoch 163/1000\n",
            "1/1 [==============================] - 0s 7ms/step - loss: 0.0825 - mse: 0.0825 - mae: 0.2465\n",
            "Epoch 164/1000\n",
            "1/1 [==============================] - 0s 4ms/step - loss: 0.0819 - mse: 0.0819 - mae: 0.2457\n",
            "Epoch 165/1000\n",
            "1/1 [==============================] - 0s 5ms/step - loss: 0.0814 - mse: 0.0814 - mae: 0.2448\n",
            "Epoch 166/1000\n",
            "1/1 [==============================] - 0s 9ms/step - loss: 0.0808 - mse: 0.0808 - mae: 0.2440\n",
            "Epoch 167/1000\n",
            "1/1 [==============================] - 0s 4ms/step - loss: 0.0803 - mse: 0.0803 - mae: 0.2432\n",
            "Epoch 168/1000\n",
            "1/1 [==============================] - 0s 4ms/step - loss: 0.0797 - mse: 0.0797 - mae: 0.2423\n",
            "Epoch 169/1000\n",
            "1/1 [==============================] - 0s 9ms/step - loss: 0.0792 - mse: 0.0792 - mae: 0.2415\n",
            "Epoch 170/1000\n",
            "1/1 [==============================] - 0s 4ms/step - loss: 0.0786 - mse: 0.0786 - mae: 0.2407\n",
            "Epoch 171/1000\n",
            "1/1 [==============================] - 0s 3ms/step - loss: 0.0781 - mse: 0.0781 - mae: 0.2399\n",
            "Epoch 172/1000\n",
            "1/1 [==============================] - 0s 4ms/step - loss: 0.0776 - mse: 0.0776 - mae: 0.2391\n",
            "Epoch 173/1000\n",
            "1/1 [==============================] - 0s 7ms/step - loss: 0.0771 - mse: 0.0771 - mae: 0.2383\n",
            "Epoch 174/1000\n",
            "1/1 [==============================] - 0s 5ms/step - loss: 0.0765 - mse: 0.0765 - mae: 0.2375\n",
            "Epoch 175/1000\n",
            "1/1 [==============================] - 0s 8ms/step - loss: 0.0760 - mse: 0.0760 - mae: 0.2367\n",
            "Epoch 176/1000\n",
            "1/1 [==============================] - 0s 5ms/step - loss: 0.0755 - mse: 0.0755 - mae: 0.2359\n",
            "Epoch 177/1000\n",
            "1/1 [==============================] - 0s 7ms/step - loss: 0.0750 - mse: 0.0750 - mae: 0.2351\n",
            "Epoch 178/1000\n",
            "1/1 [==============================] - 0s 4ms/step - loss: 0.0745 - mse: 0.0745 - mae: 0.2343\n",
            "Epoch 179/1000\n",
            "1/1 [==============================] - 0s 6ms/step - loss: 0.0740 - mse: 0.0740 - mae: 0.2335\n",
            "Epoch 180/1000\n",
            "1/1 [==============================] - 0s 6ms/step - loss: 0.0735 - mse: 0.0735 - mae: 0.2327\n",
            "Epoch 181/1000\n",
            "1/1 [==============================] - 0s 9ms/step - loss: 0.0730 - mse: 0.0730 - mae: 0.2319\n",
            "Epoch 182/1000\n",
            "1/1 [==============================] - 0s 4ms/step - loss: 0.0725 - mse: 0.0725 - mae: 0.2311\n",
            "Epoch 183/1000\n",
            "1/1 [==============================] - 0s 4ms/step - loss: 0.0720 - mse: 0.0720 - mae: 0.2303\n",
            "Epoch 184/1000\n",
            "1/1 [==============================] - 0s 3ms/step - loss: 0.0715 - mse: 0.0715 - mae: 0.2296\n",
            "Epoch 185/1000\n",
            "1/1 [==============================] - 0s 45ms/step - loss: 0.0711 - mse: 0.0711 - mae: 0.2288\n",
            "Epoch 186/1000\n",
            "1/1 [==============================] - 0s 5ms/step - loss: 0.0706 - mse: 0.0706 - mae: 0.2280\n",
            "Epoch 187/1000\n",
            "1/1 [==============================] - 0s 11ms/step - loss: 0.0701 - mse: 0.0701 - mae: 0.2272\n",
            "Epoch 188/1000\n",
            "1/1 [==============================] - 0s 6ms/step - loss: 0.0696 - mse: 0.0696 - mae: 0.2265\n",
            "Epoch 189/1000\n",
            "1/1 [==============================] - 0s 12ms/step - loss: 0.0692 - mse: 0.0692 - mae: 0.2257\n",
            "Epoch 190/1000\n",
            "1/1 [==============================] - 0s 6ms/step - loss: 0.0687 - mse: 0.0687 - mae: 0.2249\n",
            "Epoch 191/1000\n",
            "1/1 [==============================] - 0s 12ms/step - loss: 0.0682 - mse: 0.0682 - mae: 0.2242\n",
            "Epoch 192/1000\n",
            "1/1 [==============================] - 0s 9ms/step - loss: 0.0678 - mse: 0.0678 - mae: 0.2234\n",
            "Epoch 193/1000\n",
            "1/1 [==============================] - 0s 4ms/step - loss: 0.0673 - mse: 0.0673 - mae: 0.2227\n",
            "Epoch 194/1000\n",
            "1/1 [==============================] - 0s 4ms/step - loss: 0.0668 - mse: 0.0668 - mae: 0.2219\n",
            "Epoch 195/1000\n",
            "1/1 [==============================] - 0s 7ms/step - loss: 0.0664 - mse: 0.0664 - mae: 0.2212\n",
            "Epoch 196/1000\n",
            "1/1 [==============================] - 0s 8ms/step - loss: 0.0659 - mse: 0.0659 - mae: 0.2204\n",
            "Epoch 197/1000\n",
            "1/1 [==============================] - 0s 4ms/step - loss: 0.0655 - mse: 0.0655 - mae: 0.2197\n",
            "Epoch 198/1000\n",
            "1/1 [==============================] - 0s 7ms/step - loss: 0.0651 - mse: 0.0651 - mae: 0.2189\n",
            "Epoch 199/1000\n",
            "1/1 [==============================] - 0s 4ms/step - loss: 0.0646 - mse: 0.0646 - mae: 0.2182\n",
            "Epoch 200/1000\n",
            "1/1 [==============================] - 0s 4ms/step - loss: 0.0642 - mse: 0.0642 - mae: 0.2175\n",
            "Epoch 201/1000\n",
            "1/1 [==============================] - 0s 8ms/step - loss: 0.0638 - mse: 0.0638 - mae: 0.2167\n",
            "Epoch 202/1000\n",
            "1/1 [==============================] - 0s 4ms/step - loss: 0.0633 - mse: 0.0633 - mae: 0.2160\n",
            "Epoch 203/1000\n",
            "1/1 [==============================] - 0s 8ms/step - loss: 0.0629 - mse: 0.0629 - mae: 0.2153\n",
            "Epoch 204/1000\n",
            "1/1 [==============================] - 0s 3ms/step - loss: 0.0625 - mse: 0.0625 - mae: 0.2145\n",
            "Epoch 205/1000\n",
            "1/1 [==============================] - 0s 3ms/step - loss: 0.0620 - mse: 0.0620 - mae: 0.2138\n",
            "Epoch 206/1000\n",
            "1/1 [==============================] - 0s 9ms/step - loss: 0.0616 - mse: 0.0616 - mae: 0.2131\n",
            "Epoch 207/1000\n",
            "1/1 [==============================] - 0s 3ms/step - loss: 0.0612 - mse: 0.0612 - mae: 0.2124\n",
            "Epoch 208/1000\n",
            "1/1 [==============================] - 0s 3ms/step - loss: 0.0608 - mse: 0.0608 - mae: 0.2116\n",
            "Epoch 209/1000\n",
            "1/1 [==============================] - 0s 14ms/step - loss: 0.0604 - mse: 0.0604 - mae: 0.2109\n",
            "Epoch 210/1000\n",
            "1/1 [==============================] - 0s 4ms/step - loss: 0.0600 - mse: 0.0600 - mae: 0.2102\n",
            "Epoch 211/1000\n",
            "1/1 [==============================] - 0s 22ms/step - loss: 0.0596 - mse: 0.0596 - mae: 0.2095\n",
            "Epoch 212/1000\n",
            "1/1 [==============================] - 0s 12ms/step - loss: 0.0592 - mse: 0.0592 - mae: 0.2088\n",
            "Epoch 213/1000\n",
            "1/1 [==============================] - 0s 7ms/step - loss: 0.0588 - mse: 0.0588 - mae: 0.2081\n",
            "Epoch 214/1000\n",
            "1/1 [==============================] - 0s 9ms/step - loss: 0.0584 - mse: 0.0584 - mae: 0.2074\n",
            "Epoch 215/1000\n",
            "1/1 [==============================] - 0s 9ms/step - loss: 0.0580 - mse: 0.0580 - mae: 0.2067\n",
            "Epoch 216/1000\n",
            "1/1 [==============================] - 0s 4ms/step - loss: 0.0576 - mse: 0.0576 - mae: 0.2060\n",
            "Epoch 217/1000\n",
            "1/1 [==============================] - 0s 4ms/step - loss: 0.0572 - mse: 0.0572 - mae: 0.2053\n",
            "Epoch 218/1000\n",
            "1/1 [==============================] - 0s 12ms/step - loss: 0.0568 - mse: 0.0568 - mae: 0.2046\n",
            "Epoch 219/1000\n",
            "1/1 [==============================] - 0s 15ms/step - loss: 0.0564 - mse: 0.0564 - mae: 0.2039\n",
            "Epoch 220/1000\n",
            "1/1 [==============================] - 0s 7ms/step - loss: 0.0561 - mse: 0.0561 - mae: 0.2032\n",
            "Epoch 221/1000\n",
            "1/1 [==============================] - 0s 10ms/step - loss: 0.0557 - mse: 0.0557 - mae: 0.2025\n",
            "Epoch 222/1000\n",
            "1/1 [==============================] - 0s 17ms/step - loss: 0.0553 - mse: 0.0553 - mae: 0.2018\n",
            "Epoch 223/1000\n",
            "1/1 [==============================] - 0s 7ms/step - loss: 0.0549 - mse: 0.0549 - mae: 0.2012\n",
            "Epoch 224/1000\n",
            "1/1 [==============================] - 0s 7ms/step - loss: 0.0546 - mse: 0.0546 - mae: 0.2005\n",
            "Epoch 225/1000\n",
            "1/1 [==============================] - 0s 8ms/step - loss: 0.0542 - mse: 0.0542 - mae: 0.1998\n",
            "Epoch 226/1000\n",
            "1/1 [==============================] - 0s 6ms/step - loss: 0.0538 - mse: 0.0538 - mae: 0.1991\n",
            "Epoch 227/1000\n",
            "1/1 [==============================] - 0s 9ms/step - loss: 0.0535 - mse: 0.0535 - mae: 0.1985\n",
            "Epoch 228/1000\n",
            "1/1 [==============================] - 0s 5ms/step - loss: 0.0531 - mse: 0.0531 - mae: 0.1978\n",
            "Epoch 229/1000\n",
            "1/1 [==============================] - 0s 16ms/step - loss: 0.0527 - mse: 0.0527 - mae: 0.1971\n",
            "Epoch 230/1000\n",
            "1/1 [==============================] - 0s 8ms/step - loss: 0.0524 - mse: 0.0524 - mae: 0.1964\n",
            "Epoch 231/1000\n",
            "1/1 [==============================] - 0s 6ms/step - loss: 0.0520 - mse: 0.0520 - mae: 0.1958\n",
            "Epoch 232/1000\n",
            "1/1 [==============================] - 0s 8ms/step - loss: 0.0517 - mse: 0.0517 - mae: 0.1951\n",
            "Epoch 233/1000\n",
            "1/1 [==============================] - 0s 7ms/step - loss: 0.0513 - mse: 0.0513 - mae: 0.1945\n",
            "Epoch 234/1000\n",
            "1/1 [==============================] - 0s 8ms/step - loss: 0.0510 - mse: 0.0510 - mae: 0.1938\n",
            "Epoch 235/1000\n",
            "1/1 [==============================] - 0s 8ms/step - loss: 0.0506 - mse: 0.0506 - mae: 0.1931\n",
            "Epoch 236/1000\n",
            "1/1 [==============================] - 0s 5ms/step - loss: 0.0503 - mse: 0.0503 - mae: 0.1925\n",
            "Epoch 237/1000\n",
            "1/1 [==============================] - 0s 4ms/step - loss: 0.0500 - mse: 0.0500 - mae: 0.1918\n",
            "Epoch 238/1000\n",
            "1/1 [==============================] - 0s 7ms/step - loss: 0.0496 - mse: 0.0496 - mae: 0.1912\n",
            "Epoch 239/1000\n",
            "1/1 [==============================] - 0s 8ms/step - loss: 0.0493 - mse: 0.0493 - mae: 0.1905\n",
            "Epoch 240/1000\n",
            "1/1 [==============================] - 0s 5ms/step - loss: 0.0490 - mse: 0.0490 - mae: 0.1899\n",
            "Epoch 241/1000\n",
            "1/1 [==============================] - 0s 13ms/step - loss: 0.0486 - mse: 0.0486 - mae: 0.1893\n",
            "Epoch 242/1000\n",
            "1/1 [==============================] - 0s 12ms/step - loss: 0.0483 - mse: 0.0483 - mae: 0.1886\n",
            "Epoch 243/1000\n",
            "1/1 [==============================] - 0s 7ms/step - loss: 0.0480 - mse: 0.0480 - mae: 0.1880\n",
            "Epoch 244/1000\n",
            "1/1 [==============================] - 0s 14ms/step - loss: 0.0476 - mse: 0.0476 - mae: 0.1874\n",
            "Epoch 245/1000\n",
            "1/1 [==============================] - 0s 6ms/step - loss: 0.0473 - mse: 0.0473 - mae: 0.1867\n",
            "Epoch 246/1000\n",
            "1/1 [==============================] - 0s 7ms/step - loss: 0.0470 - mse: 0.0470 - mae: 0.1861\n",
            "Epoch 247/1000\n",
            "1/1 [==============================] - 0s 7ms/step - loss: 0.0467 - mse: 0.0467 - mae: 0.1855\n",
            "Epoch 248/1000\n",
            "1/1 [==============================] - 0s 7ms/step - loss: 0.0464 - mse: 0.0464 - mae: 0.1848\n",
            "Epoch 249/1000\n",
            "1/1 [==============================] - 0s 6ms/step - loss: 0.0461 - mse: 0.0461 - mae: 0.1842\n",
            "Epoch 250/1000\n",
            "1/1 [==============================] - 0s 10ms/step - loss: 0.0457 - mse: 0.0457 - mae: 0.1836\n",
            "Epoch 251/1000\n",
            "1/1 [==============================] - 0s 7ms/step - loss: 0.0454 - mse: 0.0454 - mae: 0.1830\n",
            "Epoch 252/1000\n",
            "1/1 [==============================] - 0s 7ms/step - loss: 0.0451 - mse: 0.0451 - mae: 0.1823\n",
            "Epoch 253/1000\n",
            "1/1 [==============================] - 0s 6ms/step - loss: 0.0448 - mse: 0.0448 - mae: 0.1817\n",
            "Epoch 254/1000\n",
            "1/1 [==============================] - 0s 5ms/step - loss: 0.0445 - mse: 0.0445 - mae: 0.1811\n",
            "Epoch 255/1000\n",
            "1/1 [==============================] - 0s 5ms/step - loss: 0.0442 - mse: 0.0442 - mae: 0.1805\n",
            "Epoch 256/1000\n",
            "1/1 [==============================] - 0s 5ms/step - loss: 0.0439 - mse: 0.0439 - mae: 0.1799\n",
            "Epoch 257/1000\n",
            "1/1 [==============================] - 0s 8ms/step - loss: 0.0436 - mse: 0.0436 - mae: 0.1793\n",
            "Epoch 258/1000\n",
            "1/1 [==============================] - 0s 6ms/step - loss: 0.0433 - mse: 0.0433 - mae: 0.1787\n",
            "Epoch 259/1000\n",
            "1/1 [==============================] - 0s 5ms/step - loss: 0.0430 - mse: 0.0430 - mae: 0.1781\n",
            "Epoch 260/1000\n",
            "1/1 [==============================] - 0s 16ms/step - loss: 0.0428 - mse: 0.0428 - mae: 0.1775\n",
            "Epoch 261/1000\n",
            "1/1 [==============================] - 0s 8ms/step - loss: 0.0425 - mse: 0.0425 - mae: 0.1769\n",
            "Epoch 262/1000\n",
            "1/1 [==============================] - 0s 9ms/step - loss: 0.0422 - mse: 0.0422 - mae: 0.1763\n",
            "Epoch 263/1000\n",
            "1/1 [==============================] - 0s 13ms/step - loss: 0.0419 - mse: 0.0419 - mae: 0.1757\n",
            "Epoch 264/1000\n",
            "1/1 [==============================] - 0s 6ms/step - loss: 0.0416 - mse: 0.0416 - mae: 0.1751\n",
            "Epoch 265/1000\n",
            "1/1 [==============================] - 0s 7ms/step - loss: 0.0413 - mse: 0.0413 - mae: 0.1745\n",
            "Epoch 266/1000\n",
            "1/1 [==============================] - 0s 13ms/step - loss: 0.0410 - mse: 0.0410 - mae: 0.1739\n",
            "Epoch 267/1000\n",
            "1/1 [==============================] - 0s 4ms/step - loss: 0.0408 - mse: 0.0408 - mae: 0.1733\n",
            "Epoch 268/1000\n",
            "1/1 [==============================] - 0s 7ms/step - loss: 0.0405 - mse: 0.0405 - mae: 0.1727\n",
            "Epoch 269/1000\n",
            "1/1 [==============================] - 0s 6ms/step - loss: 0.0402 - mse: 0.0402 - mae: 0.1721\n",
            "Epoch 270/1000\n",
            "1/1 [==============================] - 0s 6ms/step - loss: 0.0400 - mse: 0.0400 - mae: 0.1716\n",
            "Epoch 271/1000\n",
            "1/1 [==============================] - 0s 7ms/step - loss: 0.0397 - mse: 0.0397 - mae: 0.1710\n",
            "Epoch 272/1000\n",
            "1/1 [==============================] - 0s 6ms/step - loss: 0.0394 - mse: 0.0394 - mae: 0.1704\n",
            "Epoch 273/1000\n",
            "1/1 [==============================] - 0s 6ms/step - loss: 0.0391 - mse: 0.0391 - mae: 0.1698\n",
            "Epoch 274/1000\n",
            "1/1 [==============================] - 0s 8ms/step - loss: 0.0389 - mse: 0.0389 - mae: 0.1693\n",
            "Epoch 275/1000\n",
            "1/1 [==============================] - 0s 5ms/step - loss: 0.0386 - mse: 0.0386 - mae: 0.1687\n",
            "Epoch 276/1000\n",
            "1/1 [==============================] - 0s 8ms/step - loss: 0.0384 - mse: 0.0384 - mae: 0.1681\n",
            "Epoch 277/1000\n",
            "1/1 [==============================] - 0s 7ms/step - loss: 0.0381 - mse: 0.0381 - mae: 0.1675\n",
            "Epoch 278/1000\n",
            "1/1 [==============================] - 0s 9ms/step - loss: 0.0378 - mse: 0.0378 - mae: 0.1670\n",
            "Epoch 279/1000\n",
            "1/1 [==============================] - 0s 4ms/step - loss: 0.0376 - mse: 0.0376 - mae: 0.1664\n",
            "Epoch 280/1000\n",
            "1/1 [==============================] - 0s 7ms/step - loss: 0.0373 - mse: 0.0373 - mae: 0.1658\n",
            "Epoch 281/1000\n",
            "1/1 [==============================] - 0s 8ms/step - loss: 0.0371 - mse: 0.0371 - mae: 0.1653\n",
            "Epoch 282/1000\n",
            "1/1 [==============================] - 0s 6ms/step - loss: 0.0368 - mse: 0.0368 - mae: 0.1647\n",
            "Epoch 283/1000\n",
            "1/1 [==============================] - 0s 7ms/step - loss: 0.0366 - mse: 0.0366 - mae: 0.1642\n",
            "Epoch 284/1000\n",
            "1/1 [==============================] - 0s 8ms/step - loss: 0.0363 - mse: 0.0363 - mae: 0.1636\n",
            "Epoch 285/1000\n",
            "1/1 [==============================] - 0s 4ms/step - loss: 0.0361 - mse: 0.0361 - mae: 0.1631\n",
            "Epoch 286/1000\n",
            "1/1 [==============================] - 0s 7ms/step - loss: 0.0358 - mse: 0.0358 - mae: 0.1625\n",
            "Epoch 287/1000\n",
            "1/1 [==============================] - 0s 4ms/step - loss: 0.0356 - mse: 0.0356 - mae: 0.1620\n",
            "Epoch 288/1000\n",
            "1/1 [==============================] - 0s 8ms/step - loss: 0.0354 - mse: 0.0354 - mae: 0.1614\n",
            "Epoch 289/1000\n",
            "1/1 [==============================] - 0s 5ms/step - loss: 0.0351 - mse: 0.0351 - mae: 0.1609\n",
            "Epoch 290/1000\n",
            "1/1 [==============================] - 0s 6ms/step - loss: 0.0349 - mse: 0.0349 - mae: 0.1603\n",
            "Epoch 291/1000\n",
            "1/1 [==============================] - 0s 7ms/step - loss: 0.0347 - mse: 0.0347 - mae: 0.1598\n",
            "Epoch 292/1000\n",
            "1/1 [==============================] - 0s 5ms/step - loss: 0.0344 - mse: 0.0344 - mae: 0.1592\n",
            "Epoch 293/1000\n",
            "1/1 [==============================] - 0s 12ms/step - loss: 0.0342 - mse: 0.0342 - mae: 0.1587\n",
            "Epoch 294/1000\n",
            "1/1 [==============================] - 0s 7ms/step - loss: 0.0340 - mse: 0.0340 - mae: 0.1582\n",
            "Epoch 295/1000\n",
            "1/1 [==============================] - 0s 8ms/step - loss: 0.0337 - mse: 0.0337 - mae: 0.1576\n",
            "Epoch 296/1000\n",
            "1/1 [==============================] - 0s 9ms/step - loss: 0.0335 - mse: 0.0335 - mae: 0.1571\n",
            "Epoch 297/1000\n",
            "1/1 [==============================] - 0s 7ms/step - loss: 0.0333 - mse: 0.0333 - mae: 0.1566\n",
            "Epoch 298/1000\n",
            "1/1 [==============================] - 0s 5ms/step - loss: 0.0330 - mse: 0.0330 - mae: 0.1560\n",
            "Epoch 299/1000\n",
            "1/1 [==============================] - 0s 12ms/step - loss: 0.0328 - mse: 0.0328 - mae: 0.1555\n",
            "Epoch 300/1000\n",
            "1/1 [==============================] - 0s 7ms/step - loss: 0.0326 - mse: 0.0326 - mae: 0.1550\n",
            "Epoch 301/1000\n",
            "1/1 [==============================] - 0s 11ms/step - loss: 0.0324 - mse: 0.0324 - mae: 0.1545\n",
            "Epoch 302/1000\n",
            "1/1 [==============================] - 0s 7ms/step - loss: 0.0322 - mse: 0.0322 - mae: 0.1539\n",
            "Epoch 303/1000\n",
            "1/1 [==============================] - 0s 6ms/step - loss: 0.0319 - mse: 0.0319 - mae: 0.1534\n",
            "Epoch 304/1000\n",
            "1/1 [==============================] - 0s 7ms/step - loss: 0.0317 - mse: 0.0317 - mae: 0.1529\n",
            "Epoch 305/1000\n",
            "1/1 [==============================] - 0s 6ms/step - loss: 0.0315 - mse: 0.0315 - mae: 0.1524\n",
            "Epoch 306/1000\n",
            "1/1 [==============================] - 0s 9ms/step - loss: 0.0313 - mse: 0.0313 - mae: 0.1519\n",
            "Epoch 307/1000\n",
            "1/1 [==============================] - 0s 9ms/step - loss: 0.0311 - mse: 0.0311 - mae: 0.1514\n",
            "Epoch 308/1000\n",
            "1/1 [==============================] - 0s 7ms/step - loss: 0.0309 - mse: 0.0309 - mae: 0.1508\n",
            "Epoch 309/1000\n",
            "1/1 [==============================] - 0s 8ms/step - loss: 0.0307 - mse: 0.0307 - mae: 0.1503\n",
            "Epoch 310/1000\n",
            "1/1 [==============================] - 0s 7ms/step - loss: 0.0305 - mse: 0.0305 - mae: 0.1498\n",
            "Epoch 311/1000\n",
            "1/1 [==============================] - 0s 7ms/step - loss: 0.0303 - mse: 0.0303 - mae: 0.1493\n",
            "Epoch 312/1000\n",
            "1/1 [==============================] - 0s 7ms/step - loss: 0.0301 - mse: 0.0301 - mae: 0.1488\n",
            "Epoch 313/1000\n",
            "1/1 [==============================] - 0s 5ms/step - loss: 0.0299 - mse: 0.0299 - mae: 0.1483\n",
            "Epoch 314/1000\n",
            "1/1 [==============================] - 0s 7ms/step - loss: 0.0297 - mse: 0.0297 - mae: 0.1478\n",
            "Epoch 315/1000\n",
            "1/1 [==============================] - 0s 6ms/step - loss: 0.0295 - mse: 0.0295 - mae: 0.1473\n",
            "Epoch 316/1000\n",
            "1/1 [==============================] - 0s 7ms/step - loss: 0.0293 - mse: 0.0293 - mae: 0.1468\n",
            "Epoch 317/1000\n",
            "1/1 [==============================] - 0s 7ms/step - loss: 0.0291 - mse: 0.0291 - mae: 0.1463\n",
            "Epoch 318/1000\n",
            "1/1 [==============================] - 0s 7ms/step - loss: 0.0289 - mse: 0.0289 - mae: 0.1458\n",
            "Epoch 319/1000\n",
            "1/1 [==============================] - 0s 8ms/step - loss: 0.0287 - mse: 0.0287 - mae: 0.1453\n",
            "Epoch 320/1000\n",
            "1/1 [==============================] - 0s 5ms/step - loss: 0.0285 - mse: 0.0285 - mae: 0.1448\n",
            "Epoch 321/1000\n",
            "1/1 [==============================] - 0s 7ms/step - loss: 0.0283 - mse: 0.0283 - mae: 0.1443\n",
            "Epoch 322/1000\n",
            "1/1 [==============================] - 0s 6ms/step - loss: 0.0281 - mse: 0.0281 - mae: 0.1439\n",
            "Epoch 323/1000\n",
            "1/1 [==============================] - 0s 7ms/step - loss: 0.0279 - mse: 0.0279 - mae: 0.1434\n",
            "Epoch 324/1000\n",
            "1/1 [==============================] - 0s 6ms/step - loss: 0.0277 - mse: 0.0277 - mae: 0.1429\n",
            "Epoch 325/1000\n",
            "1/1 [==============================] - 0s 4ms/step - loss: 0.0275 - mse: 0.0275 - mae: 0.1424\n",
            "Epoch 326/1000\n",
            "1/1 [==============================] - 0s 8ms/step - loss: 0.0273 - mse: 0.0273 - mae: 0.1419\n",
            "Epoch 327/1000\n",
            "1/1 [==============================] - 0s 5ms/step - loss: 0.0272 - mse: 0.0272 - mae: 0.1414\n",
            "Epoch 328/1000\n",
            "1/1 [==============================] - 0s 7ms/step - loss: 0.0270 - mse: 0.0270 - mae: 0.1410\n",
            "Epoch 329/1000\n",
            "1/1 [==============================] - 0s 5ms/step - loss: 0.0268 - mse: 0.0268 - mae: 0.1405\n",
            "Epoch 330/1000\n",
            "1/1 [==============================] - 0s 5ms/step - loss: 0.0266 - mse: 0.0266 - mae: 0.1400\n",
            "Epoch 331/1000\n",
            "1/1 [==============================] - 0s 7ms/step - loss: 0.0264 - mse: 0.0264 - mae: 0.1395\n",
            "Epoch 332/1000\n",
            "1/1 [==============================] - 0s 9ms/step - loss: 0.0263 - mse: 0.0263 - mae: 0.1391\n",
            "Epoch 333/1000\n",
            "1/1 [==============================] - 0s 4ms/step - loss: 0.0261 - mse: 0.0261 - mae: 0.1386\n",
            "Epoch 334/1000\n",
            "1/1 [==============================] - 0s 5ms/step - loss: 0.0259 - mse: 0.0259 - mae: 0.1381\n",
            "Epoch 335/1000\n",
            "1/1 [==============================] - 0s 6ms/step - loss: 0.0257 - mse: 0.0257 - mae: 0.1377\n",
            "Epoch 336/1000\n",
            "1/1 [==============================] - 0s 8ms/step - loss: 0.0255 - mse: 0.0255 - mae: 0.1372\n",
            "Epoch 337/1000\n",
            "1/1 [==============================] - 0s 5ms/step - loss: 0.0254 - mse: 0.0254 - mae: 0.1367\n",
            "Epoch 338/1000\n",
            "1/1 [==============================] - 0s 7ms/step - loss: 0.0252 - mse: 0.0252 - mae: 0.1363\n",
            "Epoch 339/1000\n",
            "1/1 [==============================] - 0s 6ms/step - loss: 0.0250 - mse: 0.0250 - mae: 0.1358\n",
            "Epoch 340/1000\n",
            "1/1 [==============================] - 0s 26ms/step - loss: 0.0249 - mse: 0.0249 - mae: 0.1353\n",
            "Epoch 341/1000\n",
            "1/1 [==============================] - 0s 7ms/step - loss: 0.0247 - mse: 0.0247 - mae: 0.1349\n",
            "Epoch 342/1000\n",
            "1/1 [==============================] - 0s 9ms/step - loss: 0.0245 - mse: 0.0245 - mae: 0.1344\n",
            "Epoch 343/1000\n",
            "1/1 [==============================] - 0s 10ms/step - loss: 0.0244 - mse: 0.0244 - mae: 0.1340\n",
            "Epoch 344/1000\n",
            "1/1 [==============================] - 0s 9ms/step - loss: 0.0242 - mse: 0.0242 - mae: 0.1335\n",
            "Epoch 345/1000\n",
            "1/1 [==============================] - 0s 9ms/step - loss: 0.0240 - mse: 0.0240 - mae: 0.1331\n",
            "Epoch 346/1000\n",
            "1/1 [==============================] - 0s 9ms/step - loss: 0.0239 - mse: 0.0239 - mae: 0.1326\n",
            "Epoch 347/1000\n",
            "1/1 [==============================] - 0s 4ms/step - loss: 0.0237 - mse: 0.0237 - mae: 0.1322\n",
            "Epoch 348/1000\n",
            "1/1 [==============================] - 0s 6ms/step - loss: 0.0236 - mse: 0.0236 - mae: 0.1317\n",
            "Epoch 349/1000\n",
            "1/1 [==============================] - 0s 12ms/step - loss: 0.0234 - mse: 0.0234 - mae: 0.1313\n",
            "Epoch 350/1000\n",
            "1/1 [==============================] - 0s 4ms/step - loss: 0.0232 - mse: 0.0232 - mae: 0.1308\n",
            "Epoch 351/1000\n",
            "1/1 [==============================] - 0s 5ms/step - loss: 0.0231 - mse: 0.0231 - mae: 0.1304\n",
            "Epoch 352/1000\n",
            "1/1 [==============================] - 0s 6ms/step - loss: 0.0229 - mse: 0.0229 - mae: 0.1300\n",
            "Epoch 353/1000\n",
            "1/1 [==============================] - 0s 6ms/step - loss: 0.0228 - mse: 0.0228 - mae: 0.1295\n",
            "Epoch 354/1000\n",
            "1/1 [==============================] - 0s 11ms/step - loss: 0.0226 - mse: 0.0226 - mae: 0.1291\n",
            "Epoch 355/1000\n",
            "1/1 [==============================] - 0s 6ms/step - loss: 0.0225 - mse: 0.0225 - mae: 0.1286\n",
            "Epoch 356/1000\n",
            "1/1 [==============================] - 0s 7ms/step - loss: 0.0223 - mse: 0.0223 - mae: 0.1282\n",
            "Epoch 357/1000\n",
            "1/1 [==============================] - 0s 4ms/step - loss: 0.0222 - mse: 0.0222 - mae: 0.1278\n",
            "Epoch 358/1000\n",
            "1/1 [==============================] - 0s 10ms/step - loss: 0.0220 - mse: 0.0220 - mae: 0.1273\n",
            "Epoch 359/1000\n",
            "1/1 [==============================] - 0s 10ms/step - loss: 0.0219 - mse: 0.0219 - mae: 0.1269\n",
            "Epoch 360/1000\n",
            "1/1 [==============================] - 0s 4ms/step - loss: 0.0217 - mse: 0.0217 - mae: 0.1265\n",
            "Epoch 361/1000\n",
            "1/1 [==============================] - 0s 5ms/step - loss: 0.0216 - mse: 0.0216 - mae: 0.1261\n",
            "Epoch 362/1000\n",
            "1/1 [==============================] - 0s 7ms/step - loss: 0.0214 - mse: 0.0214 - mae: 0.1256\n",
            "Epoch 363/1000\n",
            "1/1 [==============================] - 0s 10ms/step - loss: 0.0213 - mse: 0.0213 - mae: 0.1252\n",
            "Epoch 364/1000\n",
            "1/1 [==============================] - 0s 6ms/step - loss: 0.0211 - mse: 0.0211 - mae: 0.1248\n",
            "Epoch 365/1000\n",
            "1/1 [==============================] - 0s 6ms/step - loss: 0.0210 - mse: 0.0210 - mae: 0.1244\n",
            "Epoch 366/1000\n",
            "1/1 [==============================] - 0s 8ms/step - loss: 0.0209 - mse: 0.0209 - mae: 0.1239\n",
            "Epoch 367/1000\n",
            "1/1 [==============================] - 0s 7ms/step - loss: 0.0207 - mse: 0.0207 - mae: 0.1235\n",
            "Epoch 368/1000\n",
            "1/1 [==============================] - 0s 10ms/step - loss: 0.0206 - mse: 0.0206 - mae: 0.1231\n",
            "Epoch 369/1000\n",
            "1/1 [==============================] - 0s 17ms/step - loss: 0.0204 - mse: 0.0204 - mae: 0.1227\n",
            "Epoch 370/1000\n",
            "1/1 [==============================] - 0s 9ms/step - loss: 0.0203 - mse: 0.0203 - mae: 0.1223\n",
            "Epoch 371/1000\n",
            "1/1 [==============================] - 0s 11ms/step - loss: 0.0202 - mse: 0.0202 - mae: 0.1219\n",
            "Epoch 372/1000\n",
            "1/1 [==============================] - 0s 8ms/step - loss: 0.0200 - mse: 0.0200 - mae: 0.1214\n",
            "Epoch 373/1000\n",
            "1/1 [==============================] - 0s 10ms/step - loss: 0.0199 - mse: 0.0199 - mae: 0.1210\n",
            "Epoch 374/1000\n",
            "1/1 [==============================] - 0s 9ms/step - loss: 0.0198 - mse: 0.0198 - mae: 0.1206\n",
            "Epoch 375/1000\n",
            "1/1 [==============================] - 0s 7ms/step - loss: 0.0196 - mse: 0.0196 - mae: 0.1202\n",
            "Epoch 376/1000\n",
            "1/1 [==============================] - 0s 7ms/step - loss: 0.0195 - mse: 0.0195 - mae: 0.1198\n",
            "Epoch 377/1000\n",
            "1/1 [==============================] - 0s 6ms/step - loss: 0.0194 - mse: 0.0194 - mae: 0.1194\n",
            "Epoch 378/1000\n",
            "1/1 [==============================] - 0s 9ms/step - loss: 0.0192 - mse: 0.0192 - mae: 0.1190\n",
            "Epoch 379/1000\n",
            "1/1 [==============================] - 0s 7ms/step - loss: 0.0191 - mse: 0.0191 - mae: 0.1186\n",
            "Epoch 380/1000\n",
            "1/1 [==============================] - 0s 7ms/step - loss: 0.0190 - mse: 0.0190 - mae: 0.1182\n",
            "Epoch 381/1000\n",
            "1/1 [==============================] - 0s 8ms/step - loss: 0.0188 - mse: 0.0188 - mae: 0.1178\n",
            "Epoch 382/1000\n",
            "1/1 [==============================] - 0s 9ms/step - loss: 0.0187 - mse: 0.0187 - mae: 0.1174\n",
            "Epoch 383/1000\n",
            "1/1 [==============================] - 0s 8ms/step - loss: 0.0186 - mse: 0.0186 - mae: 0.1170\n",
            "Epoch 384/1000\n",
            "1/1 [==============================] - 0s 7ms/step - loss: 0.0185 - mse: 0.0185 - mae: 0.1166\n",
            "Epoch 385/1000\n",
            "1/1 [==============================] - 0s 7ms/step - loss: 0.0183 - mse: 0.0183 - mae: 0.1162\n",
            "Epoch 386/1000\n",
            "1/1 [==============================] - 0s 8ms/step - loss: 0.0182 - mse: 0.0182 - mae: 0.1158\n",
            "Epoch 387/1000\n",
            "1/1 [==============================] - 0s 11ms/step - loss: 0.0181 - mse: 0.0181 - mae: 0.1154\n",
            "Epoch 388/1000\n",
            "1/1 [==============================] - 0s 7ms/step - loss: 0.0180 - mse: 0.0180 - mae: 0.1150\n",
            "Epoch 389/1000\n",
            "1/1 [==============================] - 0s 8ms/step - loss: 0.0178 - mse: 0.0178 - mae: 0.1147\n",
            "Epoch 390/1000\n",
            "1/1 [==============================] - 0s 7ms/step - loss: 0.0177 - mse: 0.0177 - mae: 0.1143\n",
            "Epoch 391/1000\n",
            "1/1 [==============================] - 0s 7ms/step - loss: 0.0176 - mse: 0.0176 - mae: 0.1139\n",
            "Epoch 392/1000\n",
            "1/1 [==============================] - 0s 5ms/step - loss: 0.0175 - mse: 0.0175 - mae: 0.1135\n",
            "Epoch 393/1000\n",
            "1/1 [==============================] - 0s 6ms/step - loss: 0.0174 - mse: 0.0174 - mae: 0.1131\n",
            "Epoch 394/1000\n",
            "1/1 [==============================] - 0s 10ms/step - loss: 0.0172 - mse: 0.0172 - mae: 0.1127\n",
            "Epoch 395/1000\n",
            "1/1 [==============================] - 0s 5ms/step - loss: 0.0171 - mse: 0.0171 - mae: 0.1123\n",
            "Epoch 396/1000\n",
            "1/1 [==============================] - 0s 9ms/step - loss: 0.0170 - mse: 0.0170 - mae: 0.1120\n",
            "Epoch 397/1000\n",
            "1/1 [==============================] - 0s 8ms/step - loss: 0.0169 - mse: 0.0169 - mae: 0.1116\n",
            "Epoch 398/1000\n",
            "1/1 [==============================] - 0s 7ms/step - loss: 0.0168 - mse: 0.0168 - mae: 0.1112\n",
            "Epoch 399/1000\n",
            "1/1 [==============================] - 0s 7ms/step - loss: 0.0167 - mse: 0.0167 - mae: 0.1108\n",
            "Epoch 400/1000\n",
            "1/1 [==============================] - 0s 6ms/step - loss: 0.0166 - mse: 0.0166 - mae: 0.1105\n",
            "Epoch 401/1000\n",
            "1/1 [==============================] - 0s 9ms/step - loss: 0.0165 - mse: 0.0165 - mae: 0.1101\n",
            "Epoch 402/1000\n",
            "1/1 [==============================] - 0s 5ms/step - loss: 0.0163 - mse: 0.0163 - mae: 0.1097\n",
            "Epoch 403/1000\n",
            "1/1 [==============================] - 0s 8ms/step - loss: 0.0162 - mse: 0.0162 - mae: 0.1093\n",
            "Epoch 404/1000\n",
            "1/1 [==============================] - 0s 10ms/step - loss: 0.0161 - mse: 0.0161 - mae: 0.1090\n",
            "Epoch 405/1000\n",
            "1/1 [==============================] - 0s 9ms/step - loss: 0.0160 - mse: 0.0160 - mae: 0.1086\n",
            "Epoch 406/1000\n",
            "1/1 [==============================] - 0s 5ms/step - loss: 0.0159 - mse: 0.0159 - mae: 0.1082\n",
            "Epoch 407/1000\n",
            "1/1 [==============================] - 0s 7ms/step - loss: 0.0158 - mse: 0.0158 - mae: 0.1079\n",
            "Epoch 408/1000\n",
            "1/1 [==============================] - 0s 6ms/step - loss: 0.0157 - mse: 0.0157 - mae: 0.1075\n",
            "Epoch 409/1000\n",
            "1/1 [==============================] - 0s 5ms/step - loss: 0.0156 - mse: 0.0156 - mae: 0.1071\n",
            "Epoch 410/1000\n",
            "1/1 [==============================] - 0s 6ms/step - loss: 0.0155 - mse: 0.0155 - mae: 0.1068\n",
            "Epoch 411/1000\n",
            "1/1 [==============================] - 0s 6ms/step - loss: 0.0154 - mse: 0.0154 - mae: 0.1064\n",
            "Epoch 412/1000\n",
            "1/1 [==============================] - 0s 7ms/step - loss: 0.0153 - mse: 0.0153 - mae: 0.1061\n",
            "Epoch 413/1000\n",
            "1/1 [==============================] - 0s 7ms/step - loss: 0.0152 - mse: 0.0152 - mae: 0.1057\n",
            "Epoch 414/1000\n",
            "1/1 [==============================] - 0s 4ms/step - loss: 0.0151 - mse: 0.0151 - mae: 0.1053\n",
            "Epoch 415/1000\n",
            "1/1 [==============================] - 0s 6ms/step - loss: 0.0150 - mse: 0.0150 - mae: 0.1050\n",
            "Epoch 416/1000\n",
            "1/1 [==============================] - 0s 9ms/step - loss: 0.0149 - mse: 0.0149 - mae: 0.1046\n",
            "Epoch 417/1000\n",
            "1/1 [==============================] - 0s 4ms/step - loss: 0.0148 - mse: 0.0148 - mae: 0.1043\n",
            "Epoch 418/1000\n",
            "1/1 [==============================] - 0s 4ms/step - loss: 0.0147 - mse: 0.0147 - mae: 0.1039\n",
            "Epoch 419/1000\n",
            "1/1 [==============================] - 0s 5ms/step - loss: 0.0146 - mse: 0.0146 - mae: 0.1036\n",
            "Epoch 420/1000\n",
            "1/1 [==============================] - 0s 5ms/step - loss: 0.0145 - mse: 0.0145 - mae: 0.1032\n",
            "Epoch 421/1000\n",
            "1/1 [==============================] - 0s 8ms/step - loss: 0.0144 - mse: 0.0144 - mae: 0.1029\n",
            "Epoch 422/1000\n",
            "1/1 [==============================] - 0s 4ms/step - loss: 0.0143 - mse: 0.0143 - mae: 0.1025\n",
            "Epoch 423/1000\n",
            "1/1 [==============================] - 0s 3ms/step - loss: 0.0142 - mse: 0.0142 - mae: 0.1022\n",
            "Epoch 424/1000\n",
            "1/1 [==============================] - 0s 3ms/step - loss: 0.0141 - mse: 0.0141 - mae: 0.1018\n",
            "Epoch 425/1000\n",
            "1/1 [==============================] - 0s 4ms/step - loss: 0.0140 - mse: 0.0140 - mae: 0.1015\n",
            "Epoch 426/1000\n",
            "1/1 [==============================] - 0s 3ms/step - loss: 0.0139 - mse: 0.0139 - mae: 0.1012\n",
            "Epoch 427/1000\n",
            "1/1 [==============================] - 0s 5ms/step - loss: 0.0138 - mse: 0.0138 - mae: 0.1008\n",
            "Epoch 428/1000\n",
            "1/1 [==============================] - 0s 11ms/step - loss: 0.0137 - mse: 0.0137 - mae: 0.1005\n",
            "Epoch 429/1000\n",
            "1/1 [==============================] - 0s 6ms/step - loss: 0.0136 - mse: 0.0136 - mae: 0.1001\n",
            "Epoch 430/1000\n",
            "1/1 [==============================] - 0s 5ms/step - loss: 0.0135 - mse: 0.0135 - mae: 0.0998\n",
            "Epoch 431/1000\n",
            "1/1 [==============================] - 0s 6ms/step - loss: 0.0134 - mse: 0.0134 - mae: 0.0995\n",
            "Epoch 432/1000\n",
            "1/1 [==============================] - 0s 7ms/step - loss: 0.0133 - mse: 0.0133 - mae: 0.0991\n",
            "Epoch 433/1000\n",
            "1/1 [==============================] - 0s 13ms/step - loss: 0.0132 - mse: 0.0132 - mae: 0.0988\n",
            "Epoch 434/1000\n",
            "1/1 [==============================] - 0s 8ms/step - loss: 0.0132 - mse: 0.0132 - mae: 0.0984\n",
            "Epoch 435/1000\n",
            "1/1 [==============================] - 0s 12ms/step - loss: 0.0131 - mse: 0.0131 - mae: 0.0981\n",
            "Epoch 436/1000\n",
            "1/1 [==============================] - 0s 6ms/step - loss: 0.0130 - mse: 0.0130 - mae: 0.0978\n",
            "Epoch 437/1000\n",
            "1/1 [==============================] - 0s 6ms/step - loss: 0.0129 - mse: 0.0129 - mae: 0.0975\n",
            "Epoch 438/1000\n",
            "1/1 [==============================] - 0s 12ms/step - loss: 0.0128 - mse: 0.0128 - mae: 0.0971\n",
            "Epoch 439/1000\n",
            "1/1 [==============================] - 0s 5ms/step - loss: 0.0127 - mse: 0.0127 - mae: 0.0968\n",
            "Epoch 440/1000\n",
            "1/1 [==============================] - 0s 5ms/step - loss: 0.0126 - mse: 0.0126 - mae: 0.0965\n",
            "Epoch 441/1000\n",
            "1/1 [==============================] - 0s 7ms/step - loss: 0.0125 - mse: 0.0125 - mae: 0.0961\n",
            "Epoch 442/1000\n",
            "1/1 [==============================] - 0s 11ms/step - loss: 0.0125 - mse: 0.0125 - mae: 0.0958\n",
            "Epoch 443/1000\n",
            "1/1 [==============================] - 0s 4ms/step - loss: 0.0124 - mse: 0.0124 - mae: 0.0955\n",
            "Epoch 444/1000\n",
            "1/1 [==============================] - 0s 8ms/step - loss: 0.0123 - mse: 0.0123 - mae: 0.0952\n",
            "Epoch 445/1000\n",
            "1/1 [==============================] - 0s 8ms/step - loss: 0.0122 - mse: 0.0122 - mae: 0.0948\n",
            "Epoch 446/1000\n",
            "1/1 [==============================] - 0s 11ms/step - loss: 0.0121 - mse: 0.0121 - mae: 0.0945\n",
            "Epoch 447/1000\n",
            "1/1 [==============================] - 0s 7ms/step - loss: 0.0120 - mse: 0.0120 - mae: 0.0942\n",
            "Epoch 448/1000\n",
            "1/1 [==============================] - 0s 7ms/step - loss: 0.0120 - mse: 0.0120 - mae: 0.0939\n",
            "Epoch 449/1000\n",
            "1/1 [==============================] - 0s 8ms/step - loss: 0.0119 - mse: 0.0119 - mae: 0.0936\n",
            "Epoch 450/1000\n",
            "1/1 [==============================] - 0s 7ms/step - loss: 0.0118 - mse: 0.0118 - mae: 0.0933\n",
            "Epoch 451/1000\n",
            "1/1 [==============================] - 0s 7ms/step - loss: 0.0117 - mse: 0.0117 - mae: 0.0929\n",
            "Epoch 452/1000\n",
            "1/1 [==============================] - 0s 8ms/step - loss: 0.0116 - mse: 0.0116 - mae: 0.0926\n",
            "Epoch 453/1000\n",
            "1/1 [==============================] - 0s 12ms/step - loss: 0.0116 - mse: 0.0116 - mae: 0.0923\n",
            "Epoch 454/1000\n",
            "1/1 [==============================] - 0s 9ms/step - loss: 0.0115 - mse: 0.0115 - mae: 0.0920\n",
            "Epoch 455/1000\n",
            "1/1 [==============================] - 0s 7ms/step - loss: 0.0114 - mse: 0.0114 - mae: 0.0917\n",
            "Epoch 456/1000\n",
            "1/1 [==============================] - 0s 8ms/step - loss: 0.0113 - mse: 0.0113 - mae: 0.0914\n",
            "Epoch 457/1000\n",
            "1/1 [==============================] - 0s 8ms/step - loss: 0.0113 - mse: 0.0113 - mae: 0.0911\n",
            "Epoch 458/1000\n",
            "1/1 [==============================] - 0s 13ms/step - loss: 0.0112 - mse: 0.0112 - mae: 0.0908\n",
            "Epoch 459/1000\n",
            "1/1 [==============================] - 0s 9ms/step - loss: 0.0111 - mse: 0.0111 - mae: 0.0905\n",
            "Epoch 460/1000\n",
            "1/1 [==============================] - 0s 11ms/step - loss: 0.0110 - mse: 0.0110 - mae: 0.0901\n",
            "Epoch 461/1000\n",
            "1/1 [==============================] - 0s 6ms/step - loss: 0.0110 - mse: 0.0110 - mae: 0.0898\n",
            "Epoch 462/1000\n",
            "1/1 [==============================] - 0s 8ms/step - loss: 0.0109 - mse: 0.0109 - mae: 0.0895\n",
            "Epoch 463/1000\n",
            "1/1 [==============================] - 0s 8ms/step - loss: 0.0108 - mse: 0.0108 - mae: 0.0892\n",
            "Epoch 464/1000\n",
            "1/1 [==============================] - 0s 9ms/step - loss: 0.0107 - mse: 0.0107 - mae: 0.0889\n",
            "Epoch 465/1000\n",
            "1/1 [==============================] - 0s 7ms/step - loss: 0.0107 - mse: 0.0107 - mae: 0.0886\n",
            "Epoch 466/1000\n",
            "1/1 [==============================] - 0s 7ms/step - loss: 0.0106 - mse: 0.0106 - mae: 0.0883\n",
            "Epoch 467/1000\n",
            "1/1 [==============================] - 0s 5ms/step - loss: 0.0105 - mse: 0.0105 - mae: 0.0880\n",
            "Epoch 468/1000\n",
            "1/1 [==============================] - 0s 6ms/step - loss: 0.0104 - mse: 0.0104 - mae: 0.0877\n",
            "Epoch 469/1000\n",
            "1/1 [==============================] - 0s 10ms/step - loss: 0.0104 - mse: 0.0104 - mae: 0.0874\n",
            "Epoch 470/1000\n",
            "1/1 [==============================] - 0s 10ms/step - loss: 0.0103 - mse: 0.0103 - mae: 0.0871\n",
            "Epoch 471/1000\n",
            "1/1 [==============================] - 0s 15ms/step - loss: 0.0102 - mse: 0.0102 - mae: 0.0869\n",
            "Epoch 472/1000\n",
            "1/1 [==============================] - 0s 8ms/step - loss: 0.0102 - mse: 0.0102 - mae: 0.0866\n",
            "Epoch 473/1000\n",
            "1/1 [==============================] - 0s 9ms/step - loss: 0.0101 - mse: 0.0101 - mae: 0.0863\n",
            "Epoch 474/1000\n",
            "1/1 [==============================] - 0s 5ms/step - loss: 0.0100 - mse: 0.0100 - mae: 0.0860\n",
            "Epoch 475/1000\n",
            "1/1 [==============================] - 0s 5ms/step - loss: 0.0100 - mse: 0.0100 - mae: 0.0857\n",
            "Epoch 476/1000\n",
            "1/1 [==============================] - 0s 6ms/step - loss: 0.0099 - mse: 0.0099 - mae: 0.0854\n",
            "Epoch 477/1000\n",
            "1/1 [==============================] - 0s 7ms/step - loss: 0.0098 - mse: 0.0098 - mae: 0.0851\n",
            "Epoch 478/1000\n",
            "1/1 [==============================] - 0s 5ms/step - loss: 0.0098 - mse: 0.0098 - mae: 0.0848\n",
            "Epoch 479/1000\n",
            "1/1 [==============================] - 0s 10ms/step - loss: 0.0097 - mse: 0.0097 - mae: 0.0845\n",
            "Epoch 480/1000\n",
            "1/1 [==============================] - 0s 4ms/step - loss: 0.0096 - mse: 0.0096 - mae: 0.0842\n",
            "Epoch 481/1000\n",
            "1/1 [==============================] - 0s 4ms/step - loss: 0.0096 - mse: 0.0096 - mae: 0.0840\n",
            "Epoch 482/1000\n",
            "1/1 [==============================] - 0s 5ms/step - loss: 0.0095 - mse: 0.0095 - mae: 0.0837\n",
            "Epoch 483/1000\n",
            "1/1 [==============================] - 0s 9ms/step - loss: 0.0094 - mse: 0.0094 - mae: 0.0834\n",
            "Epoch 484/1000\n",
            "1/1 [==============================] - 0s 4ms/step - loss: 0.0094 - mse: 0.0094 - mae: 0.0831\n",
            "Epoch 485/1000\n",
            "1/1 [==============================] - 0s 11ms/step - loss: 0.0093 - mse: 0.0093 - mae: 0.0828\n",
            "Epoch 486/1000\n",
            "1/1 [==============================] - 0s 13ms/step - loss: 0.0092 - mse: 0.0092 - mae: 0.0825\n",
            "Epoch 487/1000\n",
            "1/1 [==============================] - 0s 5ms/step - loss: 0.0092 - mse: 0.0092 - mae: 0.0823\n",
            "Epoch 488/1000\n",
            "1/1 [==============================] - 0s 5ms/step - loss: 0.0091 - mse: 0.0091 - mae: 0.0820\n",
            "Epoch 489/1000\n",
            "1/1 [==============================] - 0s 7ms/step - loss: 0.0091 - mse: 0.0091 - mae: 0.0817\n",
            "Epoch 490/1000\n",
            "1/1 [==============================] - 0s 10ms/step - loss: 0.0090 - mse: 0.0090 - mae: 0.0814\n",
            "Epoch 491/1000\n",
            "1/1 [==============================] - 0s 20ms/step - loss: 0.0089 - mse: 0.0089 - mae: 0.0812\n",
            "Epoch 492/1000\n",
            "1/1 [==============================] - 0s 8ms/step - loss: 0.0089 - mse: 0.0089 - mae: 0.0809\n",
            "Epoch 493/1000\n",
            "1/1 [==============================] - 0s 5ms/step - loss: 0.0088 - mse: 0.0088 - mae: 0.0806\n",
            "Epoch 494/1000\n",
            "1/1 [==============================] - 0s 7ms/step - loss: 0.0088 - mse: 0.0088 - mae: 0.0803\n",
            "Epoch 495/1000\n",
            "1/1 [==============================] - 0s 6ms/step - loss: 0.0087 - mse: 0.0087 - mae: 0.0801\n",
            "Epoch 496/1000\n",
            "1/1 [==============================] - 0s 7ms/step - loss: 0.0086 - mse: 0.0086 - mae: 0.0798\n",
            "Epoch 497/1000\n",
            "1/1 [==============================] - 0s 7ms/step - loss: 0.0086 - mse: 0.0086 - mae: 0.0795\n",
            "Epoch 498/1000\n",
            "1/1 [==============================] - 0s 7ms/step - loss: 0.0085 - mse: 0.0085 - mae: 0.0793\n",
            "Epoch 499/1000\n",
            "1/1 [==============================] - 0s 8ms/step - loss: 0.0085 - mse: 0.0085 - mae: 0.0790\n",
            "Epoch 500/1000\n",
            "1/1 [==============================] - 0s 8ms/step - loss: 0.0084 - mse: 0.0084 - mae: 0.0787\n",
            "Epoch 501/1000\n",
            "1/1 [==============================] - 0s 10ms/step - loss: 0.0084 - mse: 0.0084 - mae: 0.0785\n",
            "Epoch 502/1000\n",
            "1/1 [==============================] - 0s 10ms/step - loss: 0.0083 - mse: 0.0083 - mae: 0.0782\n",
            "Epoch 503/1000\n",
            "1/1 [==============================] - 0s 7ms/step - loss: 0.0082 - mse: 0.0082 - mae: 0.0779\n",
            "Epoch 504/1000\n",
            "1/1 [==============================] - 0s 9ms/step - loss: 0.0082 - mse: 0.0082 - mae: 0.0777\n",
            "Epoch 505/1000\n",
            "1/1 [==============================] - 0s 8ms/step - loss: 0.0081 - mse: 0.0081 - mae: 0.0774\n",
            "Epoch 506/1000\n",
            "1/1 [==============================] - 0s 9ms/step - loss: 0.0081 - mse: 0.0081 - mae: 0.0771\n",
            "Epoch 507/1000\n",
            "1/1 [==============================] - 0s 7ms/step - loss: 0.0080 - mse: 0.0080 - mae: 0.0769\n",
            "Epoch 508/1000\n",
            "1/1 [==============================] - 0s 8ms/step - loss: 0.0080 - mse: 0.0080 - mae: 0.0766\n",
            "Epoch 509/1000\n",
            "1/1 [==============================] - 0s 14ms/step - loss: 0.0079 - mse: 0.0079 - mae: 0.0764\n",
            "Epoch 510/1000\n",
            "1/1 [==============================] - 0s 6ms/step - loss: 0.0079 - mse: 0.0079 - mae: 0.0761\n",
            "Epoch 511/1000\n",
            "1/1 [==============================] - 0s 5ms/step - loss: 0.0078 - mse: 0.0078 - mae: 0.0758\n",
            "Epoch 512/1000\n",
            "1/1 [==============================] - 0s 5ms/step - loss: 0.0078 - mse: 0.0078 - mae: 0.0756\n",
            "Epoch 513/1000\n",
            "1/1 [==============================] - 0s 15ms/step - loss: 0.0077 - mse: 0.0077 - mae: 0.0753\n",
            "Epoch 514/1000\n",
            "1/1 [==============================] - 0s 4ms/step - loss: 0.0077 - mse: 0.0077 - mae: 0.0751\n",
            "Epoch 515/1000\n",
            "1/1 [==============================] - 0s 6ms/step - loss: 0.0076 - mse: 0.0076 - mae: 0.0748\n",
            "Epoch 516/1000\n",
            "1/1 [==============================] - 0s 5ms/step - loss: 0.0075 - mse: 0.0075 - mae: 0.0746\n",
            "Epoch 517/1000\n",
            "1/1 [==============================] - 0s 6ms/step - loss: 0.0075 - mse: 0.0075 - mae: 0.0743\n",
            "Epoch 518/1000\n",
            "1/1 [==============================] - 0s 6ms/step - loss: 0.0074 - mse: 0.0074 - mae: 0.0741\n",
            "Epoch 519/1000\n",
            "1/1 [==============================] - 0s 7ms/step - loss: 0.0074 - mse: 0.0074 - mae: 0.0738\n",
            "Epoch 520/1000\n",
            "1/1 [==============================] - 0s 6ms/step - loss: 0.0073 - mse: 0.0073 - mae: 0.0736\n",
            "Epoch 521/1000\n",
            "1/1 [==============================] - 0s 8ms/step - loss: 0.0073 - mse: 0.0073 - mae: 0.0733\n",
            "Epoch 522/1000\n",
            "1/1 [==============================] - 0s 5ms/step - loss: 0.0072 - mse: 0.0072 - mae: 0.0731\n",
            "Epoch 523/1000\n",
            "1/1 [==============================] - 0s 8ms/step - loss: 0.0072 - mse: 0.0072 - mae: 0.0728\n",
            "Epoch 524/1000\n",
            "1/1 [==============================] - 0s 4ms/step - loss: 0.0072 - mse: 0.0072 - mae: 0.0726\n",
            "Epoch 525/1000\n",
            "1/1 [==============================] - 0s 4ms/step - loss: 0.0071 - mse: 0.0071 - mae: 0.0723\n",
            "Epoch 526/1000\n",
            "1/1 [==============================] - 0s 6ms/step - loss: 0.0071 - mse: 0.0071 - mae: 0.0721\n",
            "Epoch 527/1000\n",
            "1/1 [==============================] - 0s 5ms/step - loss: 0.0070 - mse: 0.0070 - mae: 0.0718\n",
            "Epoch 528/1000\n",
            "1/1 [==============================] - 0s 8ms/step - loss: 0.0070 - mse: 0.0070 - mae: 0.0716\n",
            "Epoch 529/1000\n",
            "1/1 [==============================] - 0s 4ms/step - loss: 0.0069 - mse: 0.0069 - mae: 0.0714\n",
            "Epoch 530/1000\n",
            "1/1 [==============================] - 0s 4ms/step - loss: 0.0069 - mse: 0.0069 - mae: 0.0711\n",
            "Epoch 531/1000\n",
            "1/1 [==============================] - 0s 5ms/step - loss: 0.0068 - mse: 0.0068 - mae: 0.0709\n",
            "Epoch 532/1000\n",
            "1/1 [==============================] - 0s 4ms/step - loss: 0.0068 - mse: 0.0068 - mae: 0.0706\n",
            "Epoch 533/1000\n",
            "1/1 [==============================] - 0s 8ms/step - loss: 0.0067 - mse: 0.0067 - mae: 0.0704\n",
            "Epoch 534/1000\n",
            "1/1 [==============================] - 0s 4ms/step - loss: 0.0067 - mse: 0.0067 - mae: 0.0702\n",
            "Epoch 535/1000\n",
            "1/1 [==============================] - 0s 3ms/step - loss: 0.0066 - mse: 0.0066 - mae: 0.0699\n",
            "Epoch 536/1000\n",
            "1/1 [==============================] - 0s 11ms/step - loss: 0.0066 - mse: 0.0066 - mae: 0.0697\n",
            "Epoch 537/1000\n",
            "1/1 [==============================] - 0s 5ms/step - loss: 0.0065 - mse: 0.0065 - mae: 0.0695\n",
            "Epoch 538/1000\n",
            "1/1 [==============================] - 0s 11ms/step - loss: 0.0065 - mse: 0.0065 - mae: 0.0692\n",
            "Epoch 539/1000\n",
            "1/1 [==============================] - 0s 6ms/step - loss: 0.0065 - mse: 0.0065 - mae: 0.0690\n",
            "Epoch 540/1000\n",
            "1/1 [==============================] - 0s 7ms/step - loss: 0.0064 - mse: 0.0064 - mae: 0.0688\n",
            "Epoch 541/1000\n",
            "1/1 [==============================] - 0s 10ms/step - loss: 0.0064 - mse: 0.0064 - mae: 0.0685\n",
            "Epoch 542/1000\n",
            "1/1 [==============================] - 0s 8ms/step - loss: 0.0063 - mse: 0.0063 - mae: 0.0683\n",
            "Epoch 543/1000\n",
            "1/1 [==============================] - 0s 11ms/step - loss: 0.0063 - mse: 0.0063 - mae: 0.0681\n",
            "Epoch 544/1000\n",
            "1/1 [==============================] - 0s 3ms/step - loss: 0.0062 - mse: 0.0062 - mae: 0.0678\n",
            "Epoch 545/1000\n",
            "1/1 [==============================] - 0s 7ms/step - loss: 0.0062 - mse: 0.0062 - mae: 0.0676\n",
            "Epoch 546/1000\n",
            "1/1 [==============================] - 0s 3ms/step - loss: 0.0062 - mse: 0.0062 - mae: 0.0674\n",
            "Epoch 547/1000\n",
            "1/1 [==============================] - 0s 4ms/step - loss: 0.0061 - mse: 0.0061 - mae: 0.0671\n",
            "Epoch 548/1000\n",
            "1/1 [==============================] - 0s 9ms/step - loss: 0.0061 - mse: 0.0061 - mae: 0.0669\n",
            "Epoch 549/1000\n",
            "1/1 [==============================] - 0s 10ms/step - loss: 0.0060 - mse: 0.0060 - mae: 0.0667\n",
            "Epoch 550/1000\n",
            "1/1 [==============================] - 0s 4ms/step - loss: 0.0060 - mse: 0.0060 - mae: 0.0665\n",
            "Epoch 551/1000\n",
            "1/1 [==============================] - 0s 7ms/step - loss: 0.0060 - mse: 0.0060 - mae: 0.0662\n",
            "Epoch 552/1000\n",
            "1/1 [==============================] - 0s 4ms/step - loss: 0.0059 - mse: 0.0059 - mae: 0.0660\n",
            "Epoch 553/1000\n",
            "1/1 [==============================] - 0s 10ms/step - loss: 0.0059 - mse: 0.0059 - mae: 0.0658\n",
            "Epoch 554/1000\n",
            "1/1 [==============================] - 0s 4ms/step - loss: 0.0058 - mse: 0.0058 - mae: 0.0656\n",
            "Epoch 555/1000\n",
            "1/1 [==============================] - 0s 9ms/step - loss: 0.0058 - mse: 0.0058 - mae: 0.0653\n",
            "Epoch 556/1000\n",
            "1/1 [==============================] - 0s 4ms/step - loss: 0.0058 - mse: 0.0058 - mae: 0.0651\n",
            "Epoch 557/1000\n",
            "1/1 [==============================] - 0s 4ms/step - loss: 0.0057 - mse: 0.0057 - mae: 0.0649\n",
            "Epoch 558/1000\n",
            "1/1 [==============================] - 0s 9ms/step - loss: 0.0057 - mse: 0.0057 - mae: 0.0647\n",
            "Epoch 559/1000\n",
            "1/1 [==============================] - 0s 4ms/step - loss: 0.0056 - mse: 0.0056 - mae: 0.0645\n",
            "Epoch 560/1000\n",
            "1/1 [==============================] - 0s 10ms/step - loss: 0.0056 - mse: 0.0056 - mae: 0.0643\n",
            "Epoch 561/1000\n",
            "1/1 [==============================] - 0s 4ms/step - loss: 0.0056 - mse: 0.0056 - mae: 0.0640\n",
            "Epoch 562/1000\n",
            "1/1 [==============================] - 0s 7ms/step - loss: 0.0055 - mse: 0.0055 - mae: 0.0638\n",
            "Epoch 563/1000\n",
            "1/1 [==============================] - 0s 5ms/step - loss: 0.0055 - mse: 0.0055 - mae: 0.0636\n",
            "Epoch 564/1000\n",
            "1/1 [==============================] - 0s 5ms/step - loss: 0.0055 - mse: 0.0055 - mae: 0.0634\n",
            "Epoch 565/1000\n",
            "1/1 [==============================] - 0s 4ms/step - loss: 0.0054 - mse: 0.0054 - mae: 0.0632\n",
            "Epoch 566/1000\n",
            "1/1 [==============================] - 0s 7ms/step - loss: 0.0054 - mse: 0.0054 - mae: 0.0630\n",
            "Epoch 567/1000\n",
            "1/1 [==============================] - 0s 6ms/step - loss: 0.0053 - mse: 0.0053 - mae: 0.0627\n",
            "Epoch 568/1000\n",
            "1/1 [==============================] - 0s 4ms/step - loss: 0.0053 - mse: 0.0053 - mae: 0.0625\n",
            "Epoch 569/1000\n",
            "1/1 [==============================] - 0s 8ms/step - loss: 0.0053 - mse: 0.0053 - mae: 0.0623\n",
            "Epoch 570/1000\n",
            "1/1 [==============================] - 0s 4ms/step - loss: 0.0052 - mse: 0.0052 - mae: 0.0621\n",
            "Epoch 571/1000\n",
            "1/1 [==============================] - 0s 8ms/step - loss: 0.0052 - mse: 0.0052 - mae: 0.0619\n",
            "Epoch 572/1000\n",
            "1/1 [==============================] - 0s 5ms/step - loss: 0.0052 - mse: 0.0052 - mae: 0.0617\n",
            "Epoch 573/1000\n",
            "1/1 [==============================] - 0s 8ms/step - loss: 0.0051 - mse: 0.0051 - mae: 0.0615\n",
            "Epoch 574/1000\n",
            "1/1 [==============================] - 0s 8ms/step - loss: 0.0051 - mse: 0.0051 - mae: 0.0613\n",
            "Epoch 575/1000\n",
            "1/1 [==============================] - 0s 10ms/step - loss: 0.0051 - mse: 0.0051 - mae: 0.0611\n",
            "Epoch 576/1000\n",
            "1/1 [==============================] - 0s 10ms/step - loss: 0.0050 - mse: 0.0050 - mae: 0.0609\n",
            "Epoch 577/1000\n",
            "1/1 [==============================] - 0s 4ms/step - loss: 0.0050 - mse: 0.0050 - mae: 0.0607\n",
            "Epoch 578/1000\n",
            "1/1 [==============================] - 0s 11ms/step - loss: 0.0050 - mse: 0.0050 - mae: 0.0605\n",
            "Epoch 579/1000\n",
            "1/1 [==============================] - 0s 4ms/step - loss: 0.0049 - mse: 0.0049 - mae: 0.0602\n",
            "Epoch 580/1000\n",
            "1/1 [==============================] - 0s 5ms/step - loss: 0.0049 - mse: 0.0049 - mae: 0.0600\n",
            "Epoch 581/1000\n",
            "1/1 [==============================] - 0s 7ms/step - loss: 0.0049 - mse: 0.0049 - mae: 0.0598\n",
            "Epoch 582/1000\n",
            "1/1 [==============================] - 0s 7ms/step - loss: 0.0048 - mse: 0.0048 - mae: 0.0596\n",
            "Epoch 583/1000\n",
            "1/1 [==============================] - 0s 4ms/step - loss: 0.0048 - mse: 0.0048 - mae: 0.0594\n",
            "Epoch 584/1000\n",
            "1/1 [==============================] - 0s 10ms/step - loss: 0.0048 - mse: 0.0048 - mae: 0.0592\n",
            "Epoch 585/1000\n",
            "1/1 [==============================] - 0s 9ms/step - loss: 0.0047 - mse: 0.0047 - mae: 0.0590\n",
            "Epoch 586/1000\n",
            "1/1 [==============================] - 0s 4ms/step - loss: 0.0047 - mse: 0.0047 - mae: 0.0588\n",
            "Epoch 587/1000\n",
            "1/1 [==============================] - 0s 15ms/step - loss: 0.0047 - mse: 0.0047 - mae: 0.0586\n",
            "Epoch 588/1000\n",
            "1/1 [==============================] - 0s 4ms/step - loss: 0.0046 - mse: 0.0046 - mae: 0.0584\n",
            "Epoch 589/1000\n",
            "1/1 [==============================] - 0s 12ms/step - loss: 0.0046 - mse: 0.0046 - mae: 0.0582\n",
            "Epoch 590/1000\n",
            "1/1 [==============================] - 0s 3ms/step - loss: 0.0046 - mse: 0.0046 - mae: 0.0580\n",
            "Epoch 591/1000\n",
            "1/1 [==============================] - 0s 7ms/step - loss: 0.0045 - mse: 0.0045 - mae: 0.0578\n",
            "Epoch 592/1000\n",
            "1/1 [==============================] - 0s 4ms/step - loss: 0.0045 - mse: 0.0045 - mae: 0.0577\n",
            "Epoch 593/1000\n",
            "1/1 [==============================] - 0s 6ms/step - loss: 0.0045 - mse: 0.0045 - mae: 0.0575\n",
            "Epoch 594/1000\n",
            "1/1 [==============================] - 0s 11ms/step - loss: 0.0045 - mse: 0.0045 - mae: 0.0573\n",
            "Epoch 595/1000\n",
            "1/1 [==============================] - 0s 4ms/step - loss: 0.0044 - mse: 0.0044 - mae: 0.0571\n",
            "Epoch 596/1000\n",
            "1/1 [==============================] - 0s 4ms/step - loss: 0.0044 - mse: 0.0044 - mae: 0.0569\n",
            "Epoch 597/1000\n",
            "1/1 [==============================] - 0s 8ms/step - loss: 0.0044 - mse: 0.0044 - mae: 0.0567\n",
            "Epoch 598/1000\n",
            "1/1 [==============================] - 0s 5ms/step - loss: 0.0043 - mse: 0.0043 - mae: 0.0565\n",
            "Epoch 599/1000\n",
            "1/1 [==============================] - 0s 8ms/step - loss: 0.0043 - mse: 0.0043 - mae: 0.0563\n",
            "Epoch 600/1000\n",
            "1/1 [==============================] - 0s 5ms/step - loss: 0.0043 - mse: 0.0043 - mae: 0.0561\n",
            "Epoch 601/1000\n",
            "1/1 [==============================] - 0s 12ms/step - loss: 0.0042 - mse: 0.0042 - mae: 0.0559\n",
            "Epoch 602/1000\n",
            "1/1 [==============================] - 0s 4ms/step - loss: 0.0042 - mse: 0.0042 - mae: 0.0557\n",
            "Epoch 603/1000\n",
            "1/1 [==============================] - 0s 4ms/step - loss: 0.0042 - mse: 0.0042 - mae: 0.0555\n",
            "Epoch 604/1000\n",
            "1/1 [==============================] - 0s 5ms/step - loss: 0.0042 - mse: 0.0042 - mae: 0.0554\n",
            "Epoch 605/1000\n",
            "1/1 [==============================] - 0s 7ms/step - loss: 0.0041 - mse: 0.0041 - mae: 0.0552\n",
            "Epoch 606/1000\n",
            "1/1 [==============================] - 0s 5ms/step - loss: 0.0041 - mse: 0.0041 - mae: 0.0550\n",
            "Epoch 607/1000\n",
            "1/1 [==============================] - 0s 10ms/step - loss: 0.0041 - mse: 0.0041 - mae: 0.0548\n",
            "Epoch 608/1000\n",
            "1/1 [==============================] - 0s 4ms/step - loss: 0.0040 - mse: 0.0040 - mae: 0.0546\n",
            "Epoch 609/1000\n",
            "1/1 [==============================] - 0s 9ms/step - loss: 0.0040 - mse: 0.0040 - mae: 0.0544\n",
            "Epoch 610/1000\n",
            "1/1 [==============================] - 0s 15ms/step - loss: 0.0040 - mse: 0.0040 - mae: 0.0542\n",
            "Epoch 611/1000\n",
            "1/1 [==============================] - 0s 4ms/step - loss: 0.0040 - mse: 0.0040 - mae: 0.0541\n",
            "Epoch 612/1000\n",
            "1/1 [==============================] - 0s 4ms/step - loss: 0.0039 - mse: 0.0039 - mae: 0.0539\n",
            "Epoch 613/1000\n",
            "1/1 [==============================] - 0s 9ms/step - loss: 0.0039 - mse: 0.0039 - mae: 0.0537\n",
            "Epoch 614/1000\n",
            "1/1 [==============================] - 0s 14ms/step - loss: 0.0039 - mse: 0.0039 - mae: 0.0535\n",
            "Epoch 615/1000\n",
            "1/1 [==============================] - 0s 4ms/step - loss: 0.0039 - mse: 0.0039 - mae: 0.0533\n",
            "Epoch 616/1000\n",
            "1/1 [==============================] - 0s 5ms/step - loss: 0.0038 - mse: 0.0038 - mae: 0.0532\n",
            "Epoch 617/1000\n",
            "1/1 [==============================] - 0s 9ms/step - loss: 0.0038 - mse: 0.0038 - mae: 0.0530\n",
            "Epoch 618/1000\n",
            "1/1 [==============================] - 0s 13ms/step - loss: 0.0038 - mse: 0.0038 - mae: 0.0528\n",
            "Epoch 619/1000\n",
            "1/1 [==============================] - 0s 7ms/step - loss: 0.0038 - mse: 0.0038 - mae: 0.0526\n",
            "Epoch 620/1000\n",
            "1/1 [==============================] - 0s 4ms/step - loss: 0.0037 - mse: 0.0037 - mae: 0.0524\n",
            "Epoch 621/1000\n",
            "1/1 [==============================] - 0s 10ms/step - loss: 0.0037 - mse: 0.0037 - mae: 0.0523\n",
            "Epoch 622/1000\n",
            "1/1 [==============================] - 0s 10ms/step - loss: 0.0037 - mse: 0.0037 - mae: 0.0521\n",
            "Epoch 623/1000\n",
            "1/1 [==============================] - 0s 10ms/step - loss: 0.0037 - mse: 0.0037 - mae: 0.0519\n",
            "Epoch 624/1000\n",
            "1/1 [==============================] - 0s 17ms/step - loss: 0.0036 - mse: 0.0036 - mae: 0.0517\n",
            "Epoch 625/1000\n",
            "1/1 [==============================] - 0s 4ms/step - loss: 0.0036 - mse: 0.0036 - mae: 0.0516\n",
            "Epoch 626/1000\n",
            "1/1 [==============================] - 0s 7ms/step - loss: 0.0036 - mse: 0.0036 - mae: 0.0514\n",
            "Epoch 627/1000\n",
            "1/1 [==============================] - 0s 4ms/step - loss: 0.0036 - mse: 0.0036 - mae: 0.0512\n",
            "Epoch 628/1000\n",
            "1/1 [==============================] - 0s 6ms/step - loss: 0.0035 - mse: 0.0035 - mae: 0.0510\n",
            "Epoch 629/1000\n",
            "1/1 [==============================] - 0s 6ms/step - loss: 0.0035 - mse: 0.0035 - mae: 0.0509\n",
            "Epoch 630/1000\n",
            "1/1 [==============================] - 0s 4ms/step - loss: 0.0035 - mse: 0.0035 - mae: 0.0507\n",
            "Epoch 631/1000\n",
            "1/1 [==============================] - 0s 7ms/step - loss: 0.0035 - mse: 0.0035 - mae: 0.0505\n",
            "Epoch 632/1000\n",
            "1/1 [==============================] - 0s 8ms/step - loss: 0.0034 - mse: 0.0034 - mae: 0.0503\n",
            "Epoch 633/1000\n",
            "1/1 [==============================] - 0s 5ms/step - loss: 0.0034 - mse: 0.0034 - mae: 0.0502\n",
            "Epoch 634/1000\n",
            "1/1 [==============================] - 0s 8ms/step - loss: 0.0034 - mse: 0.0034 - mae: 0.0500\n",
            "Epoch 635/1000\n",
            "1/1 [==============================] - 0s 4ms/step - loss: 0.0034 - mse: 0.0034 - mae: 0.0498\n",
            "Epoch 636/1000\n",
            "1/1 [==============================] - 0s 7ms/step - loss: 0.0033 - mse: 0.0033 - mae: 0.0497\n",
            "Epoch 637/1000\n",
            "1/1 [==============================] - 0s 4ms/step - loss: 0.0033 - mse: 0.0033 - mae: 0.0495\n",
            "Epoch 638/1000\n",
            "1/1 [==============================] - 0s 6ms/step - loss: 0.0033 - mse: 0.0033 - mae: 0.0493\n",
            "Epoch 639/1000\n",
            "1/1 [==============================] - 0s 7ms/step - loss: 0.0033 - mse: 0.0033 - mae: 0.0492\n",
            "Epoch 640/1000\n",
            "1/1 [==============================] - 0s 9ms/step - loss: 0.0033 - mse: 0.0033 - mae: 0.0490\n",
            "Epoch 641/1000\n",
            "1/1 [==============================] - 0s 11ms/step - loss: 0.0032 - mse: 0.0032 - mae: 0.0488\n",
            "Epoch 642/1000\n",
            "1/1 [==============================] - 0s 12ms/step - loss: 0.0032 - mse: 0.0032 - mae: 0.0487\n",
            "Epoch 643/1000\n",
            "1/1 [==============================] - 0s 9ms/step - loss: 0.0032 - mse: 0.0032 - mae: 0.0485\n",
            "Epoch 644/1000\n",
            "1/1 [==============================] - 0s 6ms/step - loss: 0.0032 - mse: 0.0032 - mae: 0.0483\n",
            "Epoch 645/1000\n",
            "1/1 [==============================] - 0s 11ms/step - loss: 0.0032 - mse: 0.0032 - mae: 0.0482\n",
            "Epoch 646/1000\n",
            "1/1 [==============================] - 0s 7ms/step - loss: 0.0031 - mse: 0.0031 - mae: 0.0480\n",
            "Epoch 647/1000\n",
            "1/1 [==============================] - 0s 7ms/step - loss: 0.0031 - mse: 0.0031 - mae: 0.0479\n",
            "Epoch 648/1000\n",
            "1/1 [==============================] - 0s 7ms/step - loss: 0.0031 - mse: 0.0031 - mae: 0.0477\n",
            "Epoch 649/1000\n",
            "1/1 [==============================] - 0s 5ms/step - loss: 0.0031 - mse: 0.0031 - mae: 0.0475\n",
            "Epoch 650/1000\n",
            "1/1 [==============================] - 0s 10ms/step - loss: 0.0030 - mse: 0.0030 - mae: 0.0474\n",
            "Epoch 651/1000\n",
            "1/1 [==============================] - 0s 8ms/step - loss: 0.0030 - mse: 0.0030 - mae: 0.0472\n",
            "Epoch 652/1000\n",
            "1/1 [==============================] - 0s 7ms/step - loss: 0.0030 - mse: 0.0030 - mae: 0.0470\n",
            "Epoch 653/1000\n",
            "1/1 [==============================] - 0s 6ms/step - loss: 0.0030 - mse: 0.0030 - mae: 0.0469\n",
            "Epoch 654/1000\n",
            "1/1 [==============================] - 0s 7ms/step - loss: 0.0030 - mse: 0.0030 - mae: 0.0467\n",
            "Epoch 655/1000\n",
            "1/1 [==============================] - 0s 7ms/step - loss: 0.0029 - mse: 0.0029 - mae: 0.0466\n",
            "Epoch 656/1000\n",
            "1/1 [==============================] - 0s 7ms/step - loss: 0.0029 - mse: 0.0029 - mae: 0.0464\n",
            "Epoch 657/1000\n",
            "1/1 [==============================] - 0s 7ms/step - loss: 0.0029 - mse: 0.0029 - mae: 0.0463\n",
            "Epoch 658/1000\n",
            "1/1 [==============================] - 0s 8ms/step - loss: 0.0029 - mse: 0.0029 - mae: 0.0461\n",
            "Epoch 659/1000\n",
            "1/1 [==============================] - 0s 9ms/step - loss: 0.0029 - mse: 0.0029 - mae: 0.0459\n",
            "Epoch 660/1000\n",
            "1/1 [==============================] - 0s 7ms/step - loss: 0.0028 - mse: 0.0028 - mae: 0.0458\n",
            "Epoch 661/1000\n",
            "1/1 [==============================] - 0s 7ms/step - loss: 0.0028 - mse: 0.0028 - mae: 0.0456\n",
            "Epoch 662/1000\n",
            "1/1 [==============================] - 0s 7ms/step - loss: 0.0028 - mse: 0.0028 - mae: 0.0455\n",
            "Epoch 663/1000\n",
            "1/1 [==============================] - 0s 7ms/step - loss: 0.0028 - mse: 0.0028 - mae: 0.0453\n",
            "Epoch 664/1000\n",
            "1/1 [==============================] - 0s 7ms/step - loss: 0.0028 - mse: 0.0028 - mae: 0.0452\n",
            "Epoch 665/1000\n",
            "1/1 [==============================] - 0s 10ms/step - loss: 0.0028 - mse: 0.0028 - mae: 0.0450\n",
            "Epoch 666/1000\n",
            "1/1 [==============================] - 0s 8ms/step - loss: 0.0027 - mse: 0.0027 - mae: 0.0449\n",
            "Epoch 667/1000\n",
            "1/1 [==============================] - 0s 6ms/step - loss: 0.0027 - mse: 0.0027 - mae: 0.0447\n",
            "Epoch 668/1000\n",
            "1/1 [==============================] - 0s 7ms/step - loss: 0.0027 - mse: 0.0027 - mae: 0.0446\n",
            "Epoch 669/1000\n",
            "1/1 [==============================] - 0s 6ms/step - loss: 0.0027 - mse: 0.0027 - mae: 0.0444\n",
            "Epoch 670/1000\n",
            "1/1 [==============================] - 0s 8ms/step - loss: 0.0027 - mse: 0.0027 - mae: 0.0443\n",
            "Epoch 671/1000\n",
            "1/1 [==============================] - 0s 7ms/step - loss: 0.0026 - mse: 0.0026 - mae: 0.0441\n",
            "Epoch 672/1000\n",
            "1/1 [==============================] - 0s 5ms/step - loss: 0.0026 - mse: 0.0026 - mae: 0.0440\n",
            "Epoch 673/1000\n",
            "1/1 [==============================] - 0s 7ms/step - loss: 0.0026 - mse: 0.0026 - mae: 0.0438\n",
            "Epoch 674/1000\n",
            "1/1 [==============================] - 0s 8ms/step - loss: 0.0026 - mse: 0.0026 - mae: 0.0437\n",
            "Epoch 675/1000\n",
            "1/1 [==============================] - 0s 6ms/step - loss: 0.0026 - mse: 0.0026 - mae: 0.0435\n",
            "Epoch 676/1000\n",
            "1/1 [==============================] - 0s 6ms/step - loss: 0.0026 - mse: 0.0026 - mae: 0.0434\n",
            "Epoch 677/1000\n",
            "1/1 [==============================] - 0s 7ms/step - loss: 0.0025 - mse: 0.0025 - mae: 0.0432\n",
            "Epoch 678/1000\n",
            "1/1 [==============================] - 0s 7ms/step - loss: 0.0025 - mse: 0.0025 - mae: 0.0431\n",
            "Epoch 679/1000\n",
            "1/1 [==============================] - 0s 7ms/step - loss: 0.0025 - mse: 0.0025 - mae: 0.0429\n",
            "Epoch 680/1000\n",
            "1/1 [==============================] - 0s 6ms/step - loss: 0.0025 - mse: 0.0025 - mae: 0.0428\n",
            "Epoch 681/1000\n",
            "1/1 [==============================] - 0s 6ms/step - loss: 0.0025 - mse: 0.0025 - mae: 0.0426\n",
            "Epoch 682/1000\n",
            "1/1 [==============================] - 0s 8ms/step - loss: 0.0025 - mse: 0.0025 - mae: 0.0425\n",
            "Epoch 683/1000\n",
            "1/1 [==============================] - 0s 8ms/step - loss: 0.0024 - mse: 0.0024 - mae: 0.0424\n",
            "Epoch 684/1000\n",
            "1/1 [==============================] - 0s 8ms/step - loss: 0.0024 - mse: 0.0024 - mae: 0.0422\n",
            "Epoch 685/1000\n",
            "1/1 [==============================] - 0s 7ms/step - loss: 0.0024 - mse: 0.0024 - mae: 0.0421\n",
            "Epoch 686/1000\n",
            "1/1 [==============================] - 0s 6ms/step - loss: 0.0024 - mse: 0.0024 - mae: 0.0419\n",
            "Epoch 687/1000\n",
            "1/1 [==============================] - 0s 8ms/step - loss: 0.0024 - mse: 0.0024 - mae: 0.0418\n",
            "Epoch 688/1000\n",
            "1/1 [==============================] - 0s 7ms/step - loss: 0.0024 - mse: 0.0024 - mae: 0.0416\n",
            "Epoch 689/1000\n",
            "1/1 [==============================] - 0s 7ms/step - loss: 0.0023 - mse: 0.0023 - mae: 0.0415\n",
            "Epoch 690/1000\n",
            "1/1 [==============================] - 0s 6ms/step - loss: 0.0023 - mse: 0.0023 - mae: 0.0414\n",
            "Epoch 691/1000\n",
            "1/1 [==============================] - 0s 13ms/step - loss: 0.0023 - mse: 0.0023 - mae: 0.0412\n",
            "Epoch 692/1000\n",
            "1/1 [==============================] - 0s 13ms/step - loss: 0.0023 - mse: 0.0023 - mae: 0.0411\n",
            "Epoch 693/1000\n",
            "1/1 [==============================] - 0s 10ms/step - loss: 0.0023 - mse: 0.0023 - mae: 0.0410\n",
            "Epoch 694/1000\n",
            "1/1 [==============================] - 0s 8ms/step - loss: 0.0023 - mse: 0.0023 - mae: 0.0408\n",
            "Epoch 695/1000\n",
            "1/1 [==============================] - 0s 10ms/step - loss: 0.0022 - mse: 0.0022 - mae: 0.0407\n",
            "Epoch 696/1000\n",
            "1/1 [==============================] - 0s 4ms/step - loss: 0.0022 - mse: 0.0022 - mae: 0.0405\n",
            "Epoch 697/1000\n",
            "1/1 [==============================] - 0s 7ms/step - loss: 0.0022 - mse: 0.0022 - mae: 0.0404\n",
            "Epoch 698/1000\n",
            "1/1 [==============================] - 0s 4ms/step - loss: 0.0022 - mse: 0.0022 - mae: 0.0403\n",
            "Epoch 699/1000\n",
            "1/1 [==============================] - 0s 10ms/step - loss: 0.0022 - mse: 0.0022 - mae: 0.0401\n",
            "Epoch 700/1000\n",
            "1/1 [==============================] - 0s 4ms/step - loss: 0.0022 - mse: 0.0022 - mae: 0.0400\n",
            "Epoch 701/1000\n",
            "1/1 [==============================] - 0s 3ms/step - loss: 0.0022 - mse: 0.0022 - mae: 0.0399\n",
            "Epoch 702/1000\n",
            "1/1 [==============================] - 0s 3ms/step - loss: 0.0021 - mse: 0.0021 - mae: 0.0397\n",
            "Epoch 703/1000\n",
            "1/1 [==============================] - 0s 8ms/step - loss: 0.0021 - mse: 0.0021 - mae: 0.0396\n",
            "Epoch 704/1000\n",
            "1/1 [==============================] - 0s 4ms/step - loss: 0.0021 - mse: 0.0021 - mae: 0.0395\n",
            "Epoch 705/1000\n",
            "1/1 [==============================] - 0s 4ms/step - loss: 0.0021 - mse: 0.0021 - mae: 0.0393\n",
            "Epoch 706/1000\n",
            "1/1 [==============================] - 0s 5ms/step - loss: 0.0021 - mse: 0.0021 - mae: 0.0392\n",
            "Epoch 707/1000\n",
            "1/1 [==============================] - 0s 6ms/step - loss: 0.0021 - mse: 0.0021 - mae: 0.0391\n",
            "Epoch 708/1000\n",
            "1/1 [==============================] - 0s 4ms/step - loss: 0.0021 - mse: 0.0021 - mae: 0.0389\n",
            "Epoch 709/1000\n",
            "1/1 [==============================] - 0s 8ms/step - loss: 0.0020 - mse: 0.0020 - mae: 0.0388\n",
            "Epoch 710/1000\n",
            "1/1 [==============================] - 0s 4ms/step - loss: 0.0020 - mse: 0.0020 - mae: 0.0387\n",
            "Epoch 711/1000\n",
            "1/1 [==============================] - 0s 8ms/step - loss: 0.0020 - mse: 0.0020 - mae: 0.0385\n",
            "Epoch 712/1000\n",
            "1/1 [==============================] - 0s 4ms/step - loss: 0.0020 - mse: 0.0020 - mae: 0.0384\n",
            "Epoch 713/1000\n",
            "1/1 [==============================] - 0s 4ms/step - loss: 0.0020 - mse: 0.0020 - mae: 0.0383\n",
            "Epoch 714/1000\n",
            "1/1 [==============================] - 0s 4ms/step - loss: 0.0020 - mse: 0.0020 - mae: 0.0381\n",
            "Epoch 715/1000\n",
            "1/1 [==============================] - 0s 6ms/step - loss: 0.0020 - mse: 0.0020 - mae: 0.0380\n",
            "Epoch 716/1000\n",
            "1/1 [==============================] - 0s 6ms/step - loss: 0.0019 - mse: 0.0019 - mae: 0.0379\n",
            "Epoch 717/1000\n",
            "1/1 [==============================] - 0s 10ms/step - loss: 0.0019 - mse: 0.0019 - mae: 0.0378\n",
            "Epoch 718/1000\n",
            "1/1 [==============================] - 0s 8ms/step - loss: 0.0019 - mse: 0.0019 - mae: 0.0376\n",
            "Epoch 719/1000\n",
            "1/1 [==============================] - 0s 13ms/step - loss: 0.0019 - mse: 0.0019 - mae: 0.0375\n",
            "Epoch 720/1000\n",
            "1/1 [==============================] - 0s 5ms/step - loss: 0.0019 - mse: 0.0019 - mae: 0.0374\n",
            "Epoch 721/1000\n",
            "1/1 [==============================] - 0s 14ms/step - loss: 0.0019 - mse: 0.0019 - mae: 0.0372\n",
            "Epoch 722/1000\n",
            "1/1 [==============================] - 0s 6ms/step - loss: 0.0019 - mse: 0.0019 - mae: 0.0371\n",
            "Epoch 723/1000\n",
            "1/1 [==============================] - 0s 8ms/step - loss: 0.0019 - mse: 0.0019 - mae: 0.0370\n",
            "Epoch 724/1000\n",
            "1/1 [==============================] - 0s 6ms/step - loss: 0.0018 - mse: 0.0018 - mae: 0.0369\n",
            "Epoch 725/1000\n",
            "1/1 [==============================] - 0s 8ms/step - loss: 0.0018 - mse: 0.0018 - mae: 0.0367\n",
            "Epoch 726/1000\n",
            "1/1 [==============================] - 0s 8ms/step - loss: 0.0018 - mse: 0.0018 - mae: 0.0366\n",
            "Epoch 727/1000\n",
            "1/1 [==============================] - 0s 7ms/step - loss: 0.0018 - mse: 0.0018 - mae: 0.0365\n",
            "Epoch 728/1000\n",
            "1/1 [==============================] - 0s 8ms/step - loss: 0.0018 - mse: 0.0018 - mae: 0.0364\n",
            "Epoch 729/1000\n",
            "1/1 [==============================] - 0s 9ms/step - loss: 0.0018 - mse: 0.0018 - mae: 0.0362\n",
            "Epoch 730/1000\n",
            "1/1 [==============================] - 0s 7ms/step - loss: 0.0018 - mse: 0.0018 - mae: 0.0361\n",
            "Epoch 731/1000\n",
            "1/1 [==============================] - 0s 5ms/step - loss: 0.0018 - mse: 0.0018 - mae: 0.0360\n",
            "Epoch 732/1000\n",
            "1/1 [==============================] - 0s 10ms/step - loss: 0.0017 - mse: 0.0017 - mae: 0.0359\n",
            "Epoch 733/1000\n",
            "1/1 [==============================] - 0s 7ms/step - loss: 0.0017 - mse: 0.0017 - mae: 0.0358\n",
            "Epoch 734/1000\n",
            "1/1 [==============================] - 0s 6ms/step - loss: 0.0017 - mse: 0.0017 - mae: 0.0356\n",
            "Epoch 735/1000\n",
            "1/1 [==============================] - 0s 8ms/step - loss: 0.0017 - mse: 0.0017 - mae: 0.0355\n",
            "Epoch 736/1000\n",
            "1/1 [==============================] - 0s 6ms/step - loss: 0.0017 - mse: 0.0017 - mae: 0.0354\n",
            "Epoch 737/1000\n",
            "1/1 [==============================] - 0s 7ms/step - loss: 0.0017 - mse: 0.0017 - mae: 0.0353\n",
            "Epoch 738/1000\n",
            "1/1 [==============================] - 0s 5ms/step - loss: 0.0017 - mse: 0.0017 - mae: 0.0352\n",
            "Epoch 739/1000\n",
            "1/1 [==============================] - 0s 8ms/step - loss: 0.0017 - mse: 0.0017 - mae: 0.0350\n",
            "Epoch 740/1000\n",
            "1/1 [==============================] - 0s 7ms/step - loss: 0.0017 - mse: 0.0017 - mae: 0.0349\n",
            "Epoch 741/1000\n",
            "1/1 [==============================] - 0s 6ms/step - loss: 0.0016 - mse: 0.0016 - mae: 0.0348\n",
            "Epoch 742/1000\n",
            "1/1 [==============================] - 0s 7ms/step - loss: 0.0016 - mse: 0.0016 - mae: 0.0347\n",
            "Epoch 743/1000\n",
            "1/1 [==============================] - 0s 7ms/step - loss: 0.0016 - mse: 0.0016 - mae: 0.0346\n",
            "Epoch 744/1000\n",
            "1/1 [==============================] - 0s 8ms/step - loss: 0.0016 - mse: 0.0016 - mae: 0.0345\n",
            "Epoch 745/1000\n",
            "1/1 [==============================] - 0s 6ms/step - loss: 0.0016 - mse: 0.0016 - mae: 0.0343\n",
            "Epoch 746/1000\n",
            "1/1 [==============================] - 0s 7ms/step - loss: 0.0016 - mse: 0.0016 - mae: 0.0342\n",
            "Epoch 747/1000\n",
            "1/1 [==============================] - 0s 7ms/step - loss: 0.0016 - mse: 0.0016 - mae: 0.0341\n",
            "Epoch 748/1000\n",
            "1/1 [==============================] - 0s 6ms/step - loss: 0.0016 - mse: 0.0016 - mae: 0.0340\n",
            "Epoch 749/1000\n",
            "1/1 [==============================] - 0s 5ms/step - loss: 0.0016 - mse: 0.0016 - mae: 0.0339\n",
            "Epoch 750/1000\n",
            "1/1 [==============================] - 0s 9ms/step - loss: 0.0015 - mse: 0.0015 - mae: 0.0338\n",
            "Epoch 751/1000\n",
            "1/1 [==============================] - 0s 8ms/step - loss: 0.0015 - mse: 0.0015 - mae: 0.0336\n",
            "Epoch 752/1000\n",
            "1/1 [==============================] - 0s 10ms/step - loss: 0.0015 - mse: 0.0015 - mae: 0.0335\n",
            "Epoch 753/1000\n",
            "1/1 [==============================] - 0s 8ms/step - loss: 0.0015 - mse: 0.0015 - mae: 0.0334\n",
            "Epoch 754/1000\n",
            "1/1 [==============================] - 0s 5ms/step - loss: 0.0015 - mse: 0.0015 - mae: 0.0333\n",
            "Epoch 755/1000\n",
            "1/1 [==============================] - 0s 4ms/step - loss: 0.0015 - mse: 0.0015 - mae: 0.0332\n",
            "Epoch 756/1000\n",
            "1/1 [==============================] - 0s 6ms/step - loss: 0.0015 - mse: 0.0015 - mae: 0.0331\n",
            "Epoch 757/1000\n",
            "1/1 [==============================] - 0s 10ms/step - loss: 0.0015 - mse: 0.0015 - mae: 0.0330\n",
            "Epoch 758/1000\n",
            "1/1 [==============================] - 0s 9ms/step - loss: 0.0015 - mse: 0.0015 - mae: 0.0329\n",
            "Epoch 759/1000\n",
            "1/1 [==============================] - 0s 5ms/step - loss: 0.0015 - mse: 0.0015 - mae: 0.0327\n",
            "Epoch 760/1000\n",
            "1/1 [==============================] - 0s 8ms/step - loss: 0.0014 - mse: 0.0014 - mae: 0.0326\n",
            "Epoch 761/1000\n",
            "1/1 [==============================] - 0s 6ms/step - loss: 0.0014 - mse: 0.0014 - mae: 0.0325\n",
            "Epoch 762/1000\n",
            "1/1 [==============================] - 0s 9ms/step - loss: 0.0014 - mse: 0.0014 - mae: 0.0324\n",
            "Epoch 763/1000\n",
            "1/1 [==============================] - 0s 9ms/step - loss: 0.0014 - mse: 0.0014 - mae: 0.0323\n",
            "Epoch 764/1000\n",
            "1/1 [==============================] - 0s 10ms/step - loss: 0.0014 - mse: 0.0014 - mae: 0.0322\n",
            "Epoch 765/1000\n",
            "1/1 [==============================] - 0s 7ms/step - loss: 0.0014 - mse: 0.0014 - mae: 0.0321\n",
            "Epoch 766/1000\n",
            "1/1 [==============================] - 0s 11ms/step - loss: 0.0014 - mse: 0.0014 - mae: 0.0320\n",
            "Epoch 767/1000\n",
            "1/1 [==============================] - 0s 7ms/step - loss: 0.0014 - mse: 0.0014 - mae: 0.0319\n",
            "Epoch 768/1000\n",
            "1/1 [==============================] - 0s 7ms/step - loss: 0.0014 - mse: 0.0014 - mae: 0.0318\n",
            "Epoch 769/1000\n",
            "1/1 [==============================] - 0s 9ms/step - loss: 0.0014 - mse: 0.0014 - mae: 0.0317\n",
            "Epoch 770/1000\n",
            "1/1 [==============================] - 0s 4ms/step - loss: 0.0014 - mse: 0.0014 - mae: 0.0316\n",
            "Epoch 771/1000\n",
            "1/1 [==============================] - 0s 9ms/step - loss: 0.0013 - mse: 0.0013 - mae: 0.0314\n",
            "Epoch 772/1000\n",
            "1/1 [==============================] - 0s 7ms/step - loss: 0.0013 - mse: 0.0013 - mae: 0.0313\n",
            "Epoch 773/1000\n",
            "1/1 [==============================] - 0s 5ms/step - loss: 0.0013 - mse: 0.0013 - mae: 0.0312\n",
            "Epoch 774/1000\n",
            "1/1 [==============================] - 0s 6ms/step - loss: 0.0013 - mse: 0.0013 - mae: 0.0311\n",
            "Epoch 775/1000\n",
            "1/1 [==============================] - 0s 6ms/step - loss: 0.0013 - mse: 0.0013 - mae: 0.0310\n",
            "Epoch 776/1000\n",
            "1/1 [==============================] - 0s 6ms/step - loss: 0.0013 - mse: 0.0013 - mae: 0.0309\n",
            "Epoch 777/1000\n",
            "1/1 [==============================] - 0s 8ms/step - loss: 0.0013 - mse: 0.0013 - mae: 0.0308\n",
            "Epoch 778/1000\n",
            "1/1 [==============================] - 0s 7ms/step - loss: 0.0013 - mse: 0.0013 - mae: 0.0307\n",
            "Epoch 779/1000\n",
            "1/1 [==============================] - 0s 4ms/step - loss: 0.0013 - mse: 0.0013 - mae: 0.0306\n",
            "Epoch 780/1000\n",
            "1/1 [==============================] - 0s 5ms/step - loss: 0.0013 - mse: 0.0013 - mae: 0.0305\n",
            "Epoch 781/1000\n",
            "1/1 [==============================] - 0s 11ms/step - loss: 0.0013 - mse: 0.0013 - mae: 0.0304\n",
            "Epoch 782/1000\n",
            "1/1 [==============================] - 0s 3ms/step - loss: 0.0012 - mse: 0.0012 - mae: 0.0303\n",
            "Epoch 783/1000\n",
            "1/1 [==============================] - 0s 7ms/step - loss: 0.0012 - mse: 0.0012 - mae: 0.0302\n",
            "Epoch 784/1000\n",
            "1/1 [==============================] - 0s 6ms/step - loss: 0.0012 - mse: 0.0012 - mae: 0.0301\n",
            "Epoch 785/1000\n",
            "1/1 [==============================] - 0s 5ms/step - loss: 0.0012 - mse: 0.0012 - mae: 0.0300\n",
            "Epoch 786/1000\n",
            "1/1 [==============================] - 0s 6ms/step - loss: 0.0012 - mse: 0.0012 - mae: 0.0299\n",
            "Epoch 787/1000\n",
            "1/1 [==============================] - 0s 7ms/step - loss: 0.0012 - mse: 0.0012 - mae: 0.0298\n",
            "Epoch 788/1000\n",
            "1/1 [==============================] - 0s 4ms/step - loss: 0.0012 - mse: 0.0012 - mae: 0.0297\n",
            "Epoch 789/1000\n",
            "1/1 [==============================] - 0s 5ms/step - loss: 0.0012 - mse: 0.0012 - mae: 0.0296\n",
            "Epoch 790/1000\n",
            "1/1 [==============================] - 0s 6ms/step - loss: 0.0012 - mse: 0.0012 - mae: 0.0295\n",
            "Epoch 791/1000\n",
            "1/1 [==============================] - 0s 12ms/step - loss: 0.0012 - mse: 0.0012 - mae: 0.0294\n",
            "Epoch 792/1000\n",
            "1/1 [==============================] - 0s 4ms/step - loss: 0.0012 - mse: 0.0012 - mae: 0.0293\n",
            "Epoch 793/1000\n",
            "1/1 [==============================] - 0s 5ms/step - loss: 0.0012 - mse: 0.0012 - mae: 0.0292\n",
            "Epoch 794/1000\n",
            "1/1 [==============================] - 0s 4ms/step - loss: 0.0011 - mse: 0.0011 - mae: 0.0291\n",
            "Epoch 795/1000\n",
            "1/1 [==============================] - 0s 6ms/step - loss: 0.0011 - mse: 0.0011 - mae: 0.0290\n",
            "Epoch 796/1000\n",
            "1/1 [==============================] - 0s 6ms/step - loss: 0.0011 - mse: 0.0011 - mae: 0.0289\n",
            "Epoch 797/1000\n",
            "1/1 [==============================] - 0s 8ms/step - loss: 0.0011 - mse: 0.0011 - mae: 0.0288\n",
            "Epoch 798/1000\n",
            "1/1 [==============================] - 0s 5ms/step - loss: 0.0011 - mse: 0.0011 - mae: 0.0287\n",
            "Epoch 799/1000\n",
            "1/1 [==============================] - 0s 5ms/step - loss: 0.0011 - mse: 0.0011 - mae: 0.0286\n",
            "Epoch 800/1000\n",
            "1/1 [==============================] - 0s 10ms/step - loss: 0.0011 - mse: 0.0011 - mae: 0.0285\n",
            "Epoch 801/1000\n",
            "1/1 [==============================] - 0s 5ms/step - loss: 0.0011 - mse: 0.0011 - mae: 0.0284\n",
            "Epoch 802/1000\n",
            "1/1 [==============================] - 0s 5ms/step - loss: 0.0011 - mse: 0.0011 - mae: 0.0283\n",
            "Epoch 803/1000\n",
            "1/1 [==============================] - 0s 7ms/step - loss: 0.0011 - mse: 0.0011 - mae: 0.0282\n",
            "Epoch 804/1000\n",
            "1/1 [==============================] - 0s 5ms/step - loss: 0.0011 - mse: 0.0011 - mae: 0.0281\n",
            "Epoch 805/1000\n",
            "1/1 [==============================] - 0s 5ms/step - loss: 0.0011 - mse: 0.0011 - mae: 0.0280\n",
            "Epoch 806/1000\n",
            "1/1 [==============================] - 0s 12ms/step - loss: 0.0011 - mse: 0.0011 - mae: 0.0279\n",
            "Epoch 807/1000\n",
            "1/1 [==============================] - 0s 4ms/step - loss: 0.0011 - mse: 0.0011 - mae: 0.0278\n",
            "Epoch 808/1000\n",
            "1/1 [==============================] - 0s 5ms/step - loss: 0.0010 - mse: 0.0010 - mae: 0.0277\n",
            "Epoch 809/1000\n",
            "1/1 [==============================] - 0s 4ms/step - loss: 0.0010 - mse: 0.0010 - mae: 0.0276\n",
            "Epoch 810/1000\n",
            "1/1 [==============================] - 0s 6ms/step - loss: 0.0010 - mse: 0.0010 - mae: 0.0276\n",
            "Epoch 811/1000\n",
            "1/1 [==============================] - 0s 8ms/step - loss: 0.0010 - mse: 0.0010 - mae: 0.0275\n",
            "Epoch 812/1000\n",
            "1/1 [==============================] - 0s 29ms/step - loss: 0.0010 - mse: 0.0010 - mae: 0.0274\n",
            "Epoch 813/1000\n",
            "1/1 [==============================] - 0s 8ms/step - loss: 0.0010 - mse: 0.0010 - mae: 0.0273\n",
            "Epoch 814/1000\n",
            "1/1 [==============================] - 0s 6ms/step - loss: 0.0010 - mse: 0.0010 - mae: 0.0272\n",
            "Epoch 815/1000\n",
            "1/1 [==============================] - 0s 6ms/step - loss: 9.9614e-04 - mse: 9.9614e-04 - mae: 0.0271\n",
            "Epoch 816/1000\n",
            "1/1 [==============================] - 0s 10ms/step - loss: 9.8944e-04 - mse: 9.8944e-04 - mae: 0.0270\n",
            "Epoch 817/1000\n",
            "1/1 [==============================] - 0s 5ms/step - loss: 9.8275e-04 - mse: 9.8275e-04 - mae: 0.0269\n",
            "Epoch 818/1000\n",
            "1/1 [==============================] - 0s 5ms/step - loss: 9.7610e-04 - mse: 9.7610e-04 - mae: 0.0268\n",
            "Epoch 819/1000\n",
            "1/1 [==============================] - 0s 6ms/step - loss: 9.6952e-04 - mse: 9.6952e-04 - mae: 0.0267\n",
            "Epoch 820/1000\n",
            "1/1 [==============================] - 0s 4ms/step - loss: 9.6300e-04 - mse: 9.6300e-04 - mae: 0.0266\n",
            "Epoch 821/1000\n",
            "1/1 [==============================] - 0s 10ms/step - loss: 9.5648e-04 - mse: 9.5648e-04 - mae: 0.0265\n",
            "Epoch 822/1000\n",
            "1/1 [==============================] - 0s 6ms/step - loss: 9.5004e-04 - mse: 9.5004e-04 - mae: 0.0265\n",
            "Epoch 823/1000\n",
            "1/1 [==============================] - 0s 6ms/step - loss: 9.4361e-04 - mse: 9.4361e-04 - mae: 0.0264\n",
            "Epoch 824/1000\n",
            "1/1 [==============================] - 0s 8ms/step - loss: 9.3725e-04 - mse: 9.3725e-04 - mae: 0.0263\n",
            "Epoch 825/1000\n",
            "1/1 [==============================] - 0s 7ms/step - loss: 9.3090e-04 - mse: 9.3090e-04 - mae: 0.0262\n",
            "Epoch 826/1000\n",
            "1/1 [==============================] - 0s 6ms/step - loss: 9.2463e-04 - mse: 9.2463e-04 - mae: 0.0261\n",
            "Epoch 827/1000\n",
            "1/1 [==============================] - 0s 6ms/step - loss: 9.1839e-04 - mse: 9.1839e-04 - mae: 0.0260\n",
            "Epoch 828/1000\n",
            "1/1 [==============================] - 0s 13ms/step - loss: 9.1217e-04 - mse: 9.1217e-04 - mae: 0.0259\n",
            "Epoch 829/1000\n",
            "1/1 [==============================] - 0s 7ms/step - loss: 9.0602e-04 - mse: 9.0602e-04 - mae: 0.0258\n",
            "Epoch 830/1000\n",
            "1/1 [==============================] - 0s 4ms/step - loss: 8.9992e-04 - mse: 8.9992e-04 - mae: 0.0257\n",
            "Epoch 831/1000\n",
            "1/1 [==============================] - 0s 4ms/step - loss: 8.9385e-04 - mse: 8.9385e-04 - mae: 0.0257\n",
            "Epoch 832/1000\n",
            "1/1 [==============================] - 0s 5ms/step - loss: 8.8780e-04 - mse: 8.8780e-04 - mae: 0.0256\n",
            "Epoch 833/1000\n",
            "1/1 [==============================] - 0s 4ms/step - loss: 8.8182e-04 - mse: 8.8182e-04 - mae: 0.0255\n",
            "Epoch 834/1000\n",
            "1/1 [==============================] - 0s 8ms/step - loss: 8.7585e-04 - mse: 8.7585e-04 - mae: 0.0254\n",
            "Epoch 835/1000\n",
            "1/1 [==============================] - 0s 4ms/step - loss: 8.6995e-04 - mse: 8.6995e-04 - mae: 0.0253\n",
            "Epoch 836/1000\n",
            "1/1 [==============================] - 0s 4ms/step - loss: 8.6408e-04 - mse: 8.6408e-04 - mae: 0.0252\n",
            "Epoch 837/1000\n",
            "1/1 [==============================] - 0s 4ms/step - loss: 8.5825e-04 - mse: 8.5825e-04 - mae: 0.0251\n",
            "Epoch 838/1000\n",
            "1/1 [==============================] - 0s 7ms/step - loss: 8.5243e-04 - mse: 8.5243e-04 - mae: 0.0251\n",
            "Epoch 839/1000\n",
            "1/1 [==============================] - 0s 5ms/step - loss: 8.4670e-04 - mse: 8.4670e-04 - mae: 0.0250\n",
            "Epoch 840/1000\n",
            "1/1 [==============================] - 0s 4ms/step - loss: 8.4098e-04 - mse: 8.4098e-04 - mae: 0.0249\n",
            "Epoch 841/1000\n",
            "1/1 [==============================] - 0s 5ms/step - loss: 8.3531e-04 - mse: 8.3531e-04 - mae: 0.0248\n",
            "Epoch 842/1000\n",
            "1/1 [==============================] - 0s 7ms/step - loss: 8.2965e-04 - mse: 8.2965e-04 - mae: 0.0247\n",
            "Epoch 843/1000\n",
            "1/1 [==============================] - 0s 6ms/step - loss: 8.2405e-04 - mse: 8.2405e-04 - mae: 0.0246\n",
            "Epoch 844/1000\n",
            "1/1 [==============================] - 0s 5ms/step - loss: 8.1850e-04 - mse: 8.1850e-04 - mae: 0.0246\n",
            "Epoch 845/1000\n",
            "1/1 [==============================] - 0s 7ms/step - loss: 8.1297e-04 - mse: 8.1297e-04 - mae: 0.0245\n",
            "Epoch 846/1000\n",
            "1/1 [==============================] - 0s 5ms/step - loss: 8.0748e-04 - mse: 8.0748e-04 - mae: 0.0244\n",
            "Epoch 847/1000\n",
            "1/1 [==============================] - 0s 4ms/step - loss: 8.0203e-04 - mse: 8.0203e-04 - mae: 0.0243\n",
            "Epoch 848/1000\n",
            "1/1 [==============================] - 0s 6ms/step - loss: 7.9663e-04 - mse: 7.9663e-04 - mae: 0.0242\n",
            "Epoch 849/1000\n",
            "1/1 [==============================] - 0s 5ms/step - loss: 7.9123e-04 - mse: 7.9123e-04 - mae: 0.0241\n",
            "Epoch 850/1000\n",
            "1/1 [==============================] - 0s 5ms/step - loss: 7.8589e-04 - mse: 7.8589e-04 - mae: 0.0241\n",
            "Epoch 851/1000\n",
            "1/1 [==============================] - 0s 6ms/step - loss: 7.8060e-04 - mse: 7.8060e-04 - mae: 0.0240\n",
            "Epoch 852/1000\n",
            "1/1 [==============================] - 0s 6ms/step - loss: 7.7533e-04 - mse: 7.7533e-04 - mae: 0.0239\n",
            "Epoch 853/1000\n",
            "1/1 [==============================] - 0s 5ms/step - loss: 7.7010e-04 - mse: 7.7010e-04 - mae: 0.0238\n",
            "Epoch 854/1000\n",
            "1/1 [==============================] - 0s 5ms/step - loss: 7.6489e-04 - mse: 7.6489e-04 - mae: 0.0237\n",
            "Epoch 855/1000\n",
            "1/1 [==============================] - 0s 7ms/step - loss: 7.5974e-04 - mse: 7.5974e-04 - mae: 0.0237\n",
            "Epoch 856/1000\n",
            "1/1 [==============================] - 0s 6ms/step - loss: 7.5459e-04 - mse: 7.5459e-04 - mae: 0.0236\n",
            "Epoch 857/1000\n",
            "1/1 [==============================] - 0s 4ms/step - loss: 7.4950e-04 - mse: 7.4950e-04 - mae: 0.0235\n",
            "Epoch 858/1000\n",
            "1/1 [==============================] - 0s 6ms/step - loss: 7.4445e-04 - mse: 7.4445e-04 - mae: 0.0234\n",
            "Epoch 859/1000\n",
            "1/1 [==============================] - 0s 6ms/step - loss: 7.3944e-04 - mse: 7.3944e-04 - mae: 0.0233\n",
            "Epoch 860/1000\n",
            "1/1 [==============================] - 0s 7ms/step - loss: 7.3443e-04 - mse: 7.3443e-04 - mae: 0.0233\n",
            "Epoch 861/1000\n",
            "1/1 [==============================] - 0s 3ms/step - loss: 7.2947e-04 - mse: 7.2947e-04 - mae: 0.0232\n",
            "Epoch 862/1000\n",
            "1/1 [==============================] - 0s 7ms/step - loss: 7.2454e-04 - mse: 7.2454e-04 - mae: 0.0231\n",
            "Epoch 863/1000\n",
            "1/1 [==============================] - 0s 6ms/step - loss: 7.1965e-04 - mse: 7.1965e-04 - mae: 0.0230\n",
            "Epoch 864/1000\n",
            "1/1 [==============================] - 0s 3ms/step - loss: 7.1481e-04 - mse: 7.1481e-04 - mae: 0.0229\n",
            "Epoch 865/1000\n",
            "1/1 [==============================] - 0s 7ms/step - loss: 7.0998e-04 - mse: 7.0998e-04 - mae: 0.0229\n",
            "Epoch 866/1000\n",
            "1/1 [==============================] - 0s 6ms/step - loss: 7.0517e-04 - mse: 7.0517e-04 - mae: 0.0228\n",
            "Epoch 867/1000\n",
            "1/1 [==============================] - 0s 4ms/step - loss: 7.0042e-04 - mse: 7.0042e-04 - mae: 0.0227\n",
            "Epoch 868/1000\n",
            "1/1 [==============================] - 0s 6ms/step - loss: 6.9571e-04 - mse: 6.9571e-04 - mae: 0.0226\n",
            "Epoch 869/1000\n",
            "1/1 [==============================] - 0s 4ms/step - loss: 6.9100e-04 - mse: 6.9100e-04 - mae: 0.0226\n",
            "Epoch 870/1000\n",
            "1/1 [==============================] - 0s 6ms/step - loss: 6.8633e-04 - mse: 6.8633e-04 - mae: 0.0225\n",
            "Epoch 871/1000\n",
            "1/1 [==============================] - 0s 7ms/step - loss: 6.8170e-04 - mse: 6.8170e-04 - mae: 0.0224\n",
            "Epoch 872/1000\n",
            "1/1 [==============================] - 0s 3ms/step - loss: 6.7710e-04 - mse: 6.7710e-04 - mae: 0.0223\n",
            "Epoch 873/1000\n",
            "1/1 [==============================] - 0s 5ms/step - loss: 6.7252e-04 - mse: 6.7252e-04 - mae: 0.0223\n",
            "Epoch 874/1000\n",
            "1/1 [==============================] - 0s 4ms/step - loss: 6.6800e-04 - mse: 6.6800e-04 - mae: 0.0222\n",
            "Epoch 875/1000\n",
            "1/1 [==============================] - 0s 7ms/step - loss: 6.6348e-04 - mse: 6.6348e-04 - mae: 0.0221\n",
            "Epoch 876/1000\n",
            "1/1 [==============================] - 0s 4ms/step - loss: 6.5901e-04 - mse: 6.5901e-04 - mae: 0.0220\n",
            "Epoch 877/1000\n",
            "1/1 [==============================] - 0s 6ms/step - loss: 6.5455e-04 - mse: 6.5455e-04 - mae: 0.0220\n",
            "Epoch 878/1000\n",
            "1/1 [==============================] - 0s 3ms/step - loss: 6.5014e-04 - mse: 6.5014e-04 - mae: 0.0219\n",
            "Epoch 879/1000\n",
            "1/1 [==============================] - 0s 6ms/step - loss: 6.4575e-04 - mse: 6.4575e-04 - mae: 0.0218\n",
            "Epoch 880/1000\n",
            "1/1 [==============================] - 0s 4ms/step - loss: 6.4140e-04 - mse: 6.4140e-04 - mae: 0.0217\n",
            "Epoch 881/1000\n",
            "1/1 [==============================] - 0s 7ms/step - loss: 6.3706e-04 - mse: 6.3706e-04 - mae: 0.0217\n",
            "Epoch 882/1000\n",
            "1/1 [==============================] - 0s 4ms/step - loss: 6.3275e-04 - mse: 6.3275e-04 - mae: 0.0216\n",
            "Epoch 883/1000\n",
            "1/1 [==============================] - 0s 5ms/step - loss: 6.2847e-04 - mse: 6.2847e-04 - mae: 0.0215\n",
            "Epoch 884/1000\n",
            "1/1 [==============================] - 0s 6ms/step - loss: 6.2424e-04 - mse: 6.2424e-04 - mae: 0.0214\n",
            "Epoch 885/1000\n",
            "1/1 [==============================] - 0s 7ms/step - loss: 6.2002e-04 - mse: 6.2002e-04 - mae: 0.0214\n",
            "Epoch 886/1000\n",
            "1/1 [==============================] - 0s 5ms/step - loss: 6.1586e-04 - mse: 6.1586e-04 - mae: 0.0213\n",
            "Epoch 887/1000\n",
            "1/1 [==============================] - 0s 4ms/step - loss: 6.1168e-04 - mse: 6.1168e-04 - mae: 0.0212\n",
            "Epoch 888/1000\n",
            "1/1 [==============================] - 0s 5ms/step - loss: 6.0756e-04 - mse: 6.0756e-04 - mae: 0.0212\n",
            "Epoch 889/1000\n",
            "1/1 [==============================] - 0s 7ms/step - loss: 6.0345e-04 - mse: 6.0345e-04 - mae: 0.0211\n",
            "Epoch 890/1000\n",
            "1/1 [==============================] - 0s 4ms/step - loss: 5.9938e-04 - mse: 5.9938e-04 - mae: 0.0210\n",
            "Epoch 891/1000\n",
            "1/1 [==============================] - 0s 23ms/step - loss: 5.9533e-04 - mse: 5.9533e-04 - mae: 0.0209\n",
            "Epoch 892/1000\n",
            "1/1 [==============================] - 0s 4ms/step - loss: 5.9132e-04 - mse: 5.9132e-04 - mae: 0.0209\n",
            "Epoch 893/1000\n",
            "1/1 [==============================] - 0s 6ms/step - loss: 5.8733e-04 - mse: 5.8733e-04 - mae: 0.0208\n",
            "Epoch 894/1000\n",
            "1/1 [==============================] - 0s 4ms/step - loss: 5.8336e-04 - mse: 5.8336e-04 - mae: 0.0207\n",
            "Epoch 895/1000\n",
            "1/1 [==============================] - 0s 11ms/step - loss: 5.7944e-04 - mse: 5.7944e-04 - mae: 0.0207\n",
            "Epoch 896/1000\n",
            "1/1 [==============================] - 0s 5ms/step - loss: 5.7551e-04 - mse: 5.7551e-04 - mae: 0.0206\n",
            "Epoch 897/1000\n",
            "1/1 [==============================] - 0s 11ms/step - loss: 5.7162e-04 - mse: 5.7162e-04 - mae: 0.0205\n",
            "Epoch 898/1000\n",
            "1/1 [==============================] - 0s 7ms/step - loss: 5.6776e-04 - mse: 5.6776e-04 - mae: 0.0205\n",
            "Epoch 899/1000\n",
            "1/1 [==============================] - 0s 5ms/step - loss: 5.6393e-04 - mse: 5.6393e-04 - mae: 0.0204\n",
            "Epoch 900/1000\n",
            "1/1 [==============================] - 0s 12ms/step - loss: 5.6012e-04 - mse: 5.6012e-04 - mae: 0.0203\n",
            "Epoch 901/1000\n",
            "1/1 [==============================] - 0s 6ms/step - loss: 5.5634e-04 - mse: 5.5634e-04 - mae: 0.0202\n",
            "Epoch 902/1000\n",
            "1/1 [==============================] - 0s 3ms/step - loss: 5.5260e-04 - mse: 5.5260e-04 - mae: 0.0202\n",
            "Epoch 903/1000\n",
            "1/1 [==============================] - 0s 6ms/step - loss: 5.4886e-04 - mse: 5.4886e-04 - mae: 0.0201\n",
            "Epoch 904/1000\n",
            "1/1 [==============================] - 0s 3ms/step - loss: 5.4517e-04 - mse: 5.4517e-04 - mae: 0.0200\n",
            "Epoch 905/1000\n",
            "1/1 [==============================] - 0s 5ms/step - loss: 5.4147e-04 - mse: 5.4147e-04 - mae: 0.0200\n",
            "Epoch 906/1000\n",
            "1/1 [==============================] - 0s 5ms/step - loss: 5.3782e-04 - mse: 5.3782e-04 - mae: 0.0199\n",
            "Epoch 907/1000\n",
            "1/1 [==============================] - 0s 8ms/step - loss: 5.3419e-04 - mse: 5.3419e-04 - mae: 0.0198\n",
            "Epoch 908/1000\n",
            "1/1 [==============================] - 0s 3ms/step - loss: 5.3059e-04 - mse: 5.3059e-04 - mae: 0.0198\n",
            "Epoch 909/1000\n",
            "1/1 [==============================] - 0s 3ms/step - loss: 5.2700e-04 - mse: 5.2700e-04 - mae: 0.0197\n",
            "Epoch 910/1000\n",
            "1/1 [==============================] - 0s 4ms/step - loss: 5.2344e-04 - mse: 5.2344e-04 - mae: 0.0196\n",
            "Epoch 911/1000\n",
            "1/1 [==============================] - 0s 6ms/step - loss: 5.1990e-04 - mse: 5.1990e-04 - mae: 0.0196\n",
            "Epoch 912/1000\n",
            "1/1 [==============================] - 0s 8ms/step - loss: 5.1640e-04 - mse: 5.1640e-04 - mae: 0.0195\n",
            "Epoch 913/1000\n",
            "1/1 [==============================] - 0s 3ms/step - loss: 5.1292e-04 - mse: 5.1292e-04 - mae: 0.0194\n",
            "Epoch 914/1000\n",
            "1/1 [==============================] - 0s 3ms/step - loss: 5.0946e-04 - mse: 5.0946e-04 - mae: 0.0194\n",
            "Epoch 915/1000\n",
            "1/1 [==============================] - 0s 8ms/step - loss: 5.0601e-04 - mse: 5.0601e-04 - mae: 0.0193\n",
            "Epoch 916/1000\n",
            "1/1 [==============================] - 0s 3ms/step - loss: 5.0260e-04 - mse: 5.0260e-04 - mae: 0.0192\n",
            "Epoch 917/1000\n",
            "1/1 [==============================] - 0s 3ms/step - loss: 4.9920e-04 - mse: 4.9920e-04 - mae: 0.0192\n",
            "Epoch 918/1000\n",
            "1/1 [==============================] - 0s 5ms/step - loss: 4.9584e-04 - mse: 4.9584e-04 - mae: 0.0191\n",
            "Epoch 919/1000\n",
            "1/1 [==============================] - 0s 3ms/step - loss: 4.9249e-04 - mse: 4.9249e-04 - mae: 0.0190\n",
            "Epoch 920/1000\n",
            "1/1 [==============================] - 0s 7ms/step - loss: 4.8917e-04 - mse: 4.8917e-04 - mae: 0.0190\n",
            "Epoch 921/1000\n",
            "1/1 [==============================] - 0s 4ms/step - loss: 4.8586e-04 - mse: 4.8586e-04 - mae: 0.0189\n",
            "Epoch 922/1000\n",
            "1/1 [==============================] - 0s 3ms/step - loss: 4.8259e-04 - mse: 4.8259e-04 - mae: 0.0189\n",
            "Epoch 923/1000\n",
            "1/1 [==============================] - 0s 6ms/step - loss: 4.7933e-04 - mse: 4.7933e-04 - mae: 0.0188\n",
            "Epoch 924/1000\n",
            "1/1 [==============================] - 0s 4ms/step - loss: 4.7609e-04 - mse: 4.7609e-04 - mae: 0.0187\n",
            "Epoch 925/1000\n",
            "1/1 [==============================] - 0s 8ms/step - loss: 4.7288e-04 - mse: 4.7288e-04 - mae: 0.0187\n",
            "Epoch 926/1000\n",
            "1/1 [==============================] - 0s 4ms/step - loss: 4.6969e-04 - mse: 4.6969e-04 - mae: 0.0186\n",
            "Epoch 927/1000\n",
            "1/1 [==============================] - 0s 3ms/step - loss: 4.6652e-04 - mse: 4.6652e-04 - mae: 0.0185\n",
            "Epoch 928/1000\n",
            "1/1 [==============================] - 0s 3ms/step - loss: 4.6336e-04 - mse: 4.6336e-04 - mae: 0.0185\n",
            "Epoch 929/1000\n",
            "1/1 [==============================] - 0s 7ms/step - loss: 4.6024e-04 - mse: 4.6024e-04 - mae: 0.0184\n",
            "Epoch 930/1000\n",
            "1/1 [==============================] - 0s 3ms/step - loss: 4.5713e-04 - mse: 4.5713e-04 - mae: 0.0184\n",
            "Epoch 931/1000\n",
            "1/1 [==============================] - 0s 8ms/step - loss: 4.5405e-04 - mse: 4.5405e-04 - mae: 0.0183\n",
            "Epoch 932/1000\n",
            "1/1 [==============================] - 0s 3ms/step - loss: 4.5098e-04 - mse: 4.5098e-04 - mae: 0.0182\n",
            "Epoch 933/1000\n",
            "1/1 [==============================] - 0s 3ms/step - loss: 4.4793e-04 - mse: 4.4793e-04 - mae: 0.0182\n",
            "Epoch 934/1000\n",
            "1/1 [==============================] - 0s 3ms/step - loss: 4.4490e-04 - mse: 4.4490e-04 - mae: 0.0181\n",
            "Epoch 935/1000\n",
            "1/1 [==============================] - 0s 10ms/step - loss: 4.4191e-04 - mse: 4.4191e-04 - mae: 0.0180\n",
            "Epoch 936/1000\n",
            "1/1 [==============================] - 0s 11ms/step - loss: 4.3892e-04 - mse: 4.3892e-04 - mae: 0.0180\n",
            "Epoch 937/1000\n",
            "1/1 [==============================] - 0s 16ms/step - loss: 4.3595e-04 - mse: 4.3595e-04 - mae: 0.0179\n",
            "Epoch 938/1000\n",
            "1/1 [==============================] - 0s 8ms/step - loss: 4.3301e-04 - mse: 4.3301e-04 - mae: 0.0179\n",
            "Epoch 939/1000\n",
            "1/1 [==============================] - 0s 9ms/step - loss: 4.3008e-04 - mse: 4.3008e-04 - mae: 0.0178\n",
            "Epoch 940/1000\n",
            "1/1 [==============================] - 0s 8ms/step - loss: 4.2719e-04 - mse: 4.2719e-04 - mae: 0.0177\n",
            "Epoch 941/1000\n",
            "1/1 [==============================] - 0s 8ms/step - loss: 4.2430e-04 - mse: 4.2430e-04 - mae: 0.0177\n",
            "Epoch 942/1000\n",
            "1/1 [==============================] - 0s 11ms/step - loss: 4.2145e-04 - mse: 4.2145e-04 - mae: 0.0176\n",
            "Epoch 943/1000\n",
            "1/1 [==============================] - 0s 8ms/step - loss: 4.1860e-04 - mse: 4.1860e-04 - mae: 0.0176\n",
            "Epoch 944/1000\n",
            "1/1 [==============================] - 0s 8ms/step - loss: 4.1576e-04 - mse: 4.1576e-04 - mae: 0.0175\n",
            "Epoch 945/1000\n",
            "1/1 [==============================] - 0s 8ms/step - loss: 4.1296e-04 - mse: 4.1296e-04 - mae: 0.0174\n",
            "Epoch 946/1000\n",
            "1/1 [==============================] - 0s 9ms/step - loss: 4.1017e-04 - mse: 4.1017e-04 - mae: 0.0174\n",
            "Epoch 947/1000\n",
            "1/1 [==============================] - 0s 7ms/step - loss: 4.0741e-04 - mse: 4.0741e-04 - mae: 0.0173\n",
            "Epoch 948/1000\n",
            "1/1 [==============================] - 0s 8ms/step - loss: 4.0465e-04 - mse: 4.0465e-04 - mae: 0.0173\n",
            "Epoch 949/1000\n",
            "1/1 [==============================] - 0s 9ms/step - loss: 4.0194e-04 - mse: 4.0194e-04 - mae: 0.0172\n",
            "Epoch 950/1000\n",
            "1/1 [==============================] - 0s 7ms/step - loss: 3.9921e-04 - mse: 3.9921e-04 - mae: 0.0171\n",
            "Epoch 951/1000\n",
            "1/1 [==============================] - 0s 9ms/step - loss: 3.9652e-04 - mse: 3.9652e-04 - mae: 0.0171\n",
            "Epoch 952/1000\n",
            "1/1 [==============================] - 0s 7ms/step - loss: 3.9385e-04 - mse: 3.9385e-04 - mae: 0.0170\n",
            "Epoch 953/1000\n",
            "1/1 [==============================] - 0s 7ms/step - loss: 3.9119e-04 - mse: 3.9119e-04 - mae: 0.0170\n",
            "Epoch 954/1000\n",
            "1/1 [==============================] - 0s 9ms/step - loss: 3.8854e-04 - mse: 3.8854e-04 - mae: 0.0169\n",
            "Epoch 955/1000\n",
            "1/1 [==============================] - 0s 7ms/step - loss: 3.8592e-04 - mse: 3.8592e-04 - mae: 0.0169\n",
            "Epoch 956/1000\n",
            "1/1 [==============================] - 0s 8ms/step - loss: 3.8331e-04 - mse: 3.8331e-04 - mae: 0.0168\n",
            "Epoch 957/1000\n",
            "1/1 [==============================] - 0s 10ms/step - loss: 3.8073e-04 - mse: 3.8073e-04 - mae: 0.0167\n",
            "Epoch 958/1000\n",
            "1/1 [==============================] - 0s 6ms/step - loss: 3.7816e-04 - mse: 3.7816e-04 - mae: 0.0167\n",
            "Epoch 959/1000\n",
            "1/1 [==============================] - 0s 7ms/step - loss: 3.7561e-04 - mse: 3.7561e-04 - mae: 0.0166\n",
            "Epoch 960/1000\n",
            "1/1 [==============================] - 0s 7ms/step - loss: 3.7306e-04 - mse: 3.7306e-04 - mae: 0.0166\n",
            "Epoch 961/1000\n",
            "1/1 [==============================] - 0s 7ms/step - loss: 3.7055e-04 - mse: 3.7055e-04 - mae: 0.0165\n",
            "Epoch 962/1000\n",
            "1/1 [==============================] - 0s 5ms/step - loss: 3.6805e-04 - mse: 3.6805e-04 - mae: 0.0165\n",
            "Epoch 963/1000\n",
            "1/1 [==============================] - 0s 8ms/step - loss: 3.6557e-04 - mse: 3.6557e-04 - mae: 0.0164\n",
            "Epoch 964/1000\n",
            "1/1 [==============================] - 0s 6ms/step - loss: 3.6310e-04 - mse: 3.6310e-04 - mae: 0.0164\n",
            "Epoch 965/1000\n",
            "1/1 [==============================] - 0s 9ms/step - loss: 3.6065e-04 - mse: 3.6065e-04 - mae: 0.0163\n",
            "Epoch 966/1000\n",
            "1/1 [==============================] - 0s 7ms/step - loss: 3.5821e-04 - mse: 3.5821e-04 - mae: 0.0162\n",
            "Epoch 967/1000\n",
            "1/1 [==============================] - 0s 8ms/step - loss: 3.5579e-04 - mse: 3.5579e-04 - mae: 0.0162\n",
            "Epoch 968/1000\n",
            "1/1 [==============================] - 0s 6ms/step - loss: 3.5340e-04 - mse: 3.5340e-04 - mae: 0.0161\n",
            "Epoch 969/1000\n",
            "1/1 [==============================] - 0s 11ms/step - loss: 3.5101e-04 - mse: 3.5101e-04 - mae: 0.0161\n",
            "Epoch 970/1000\n",
            "1/1 [==============================] - 0s 6ms/step - loss: 3.4863e-04 - mse: 3.4863e-04 - mae: 0.0160\n",
            "Epoch 971/1000\n",
            "1/1 [==============================] - 0s 9ms/step - loss: 3.4628e-04 - mse: 3.4628e-04 - mae: 0.0160\n",
            "Epoch 972/1000\n",
            "1/1 [==============================] - 0s 9ms/step - loss: 3.4395e-04 - mse: 3.4395e-04 - mae: 0.0159\n",
            "Epoch 973/1000\n",
            "1/1 [==============================] - 0s 10ms/step - loss: 3.4163e-04 - mse: 3.4163e-04 - mae: 0.0159\n",
            "Epoch 974/1000\n",
            "1/1 [==============================] - 0s 9ms/step - loss: 3.3933e-04 - mse: 3.3933e-04 - mae: 0.0158\n",
            "Epoch 975/1000\n",
            "1/1 [==============================] - 0s 9ms/step - loss: 3.3703e-04 - mse: 3.3703e-04 - mae: 0.0158\n",
            "Epoch 976/1000\n",
            "1/1 [==============================] - 0s 6ms/step - loss: 3.3476e-04 - mse: 3.3476e-04 - mae: 0.0157\n",
            "Epoch 977/1000\n",
            "1/1 [==============================] - 0s 7ms/step - loss: 3.3249e-04 - mse: 3.3249e-04 - mae: 0.0157\n",
            "Epoch 978/1000\n",
            "1/1 [==============================] - 0s 6ms/step - loss: 3.3026e-04 - mse: 3.3026e-04 - mae: 0.0156\n",
            "Epoch 979/1000\n",
            "1/1 [==============================] - 0s 6ms/step - loss: 3.2803e-04 - mse: 3.2803e-04 - mae: 0.0155\n",
            "Epoch 980/1000\n",
            "1/1 [==============================] - 0s 9ms/step - loss: 3.2582e-04 - mse: 3.2582e-04 - mae: 0.0155\n",
            "Epoch 981/1000\n",
            "1/1 [==============================] - 0s 9ms/step - loss: 3.2361e-04 - mse: 3.2361e-04 - mae: 0.0154\n",
            "Epoch 982/1000\n",
            "1/1 [==============================] - 0s 9ms/step - loss: 3.2142e-04 - mse: 3.2142e-04 - mae: 0.0154\n",
            "Epoch 983/1000\n",
            "1/1 [==============================] - 0s 8ms/step - loss: 3.1927e-04 - mse: 3.1927e-04 - mae: 0.0153\n",
            "Epoch 984/1000\n",
            "1/1 [==============================] - 0s 6ms/step - loss: 3.1710e-04 - mse: 3.1710e-04 - mae: 0.0153\n",
            "Epoch 985/1000\n",
            "1/1 [==============================] - 0s 5ms/step - loss: 3.1497e-04 - mse: 3.1497e-04 - mae: 0.0152\n",
            "Epoch 986/1000\n",
            "1/1 [==============================] - 0s 9ms/step - loss: 3.1283e-04 - mse: 3.1283e-04 - mae: 0.0152\n",
            "Epoch 987/1000\n",
            "1/1 [==============================] - 0s 5ms/step - loss: 3.1072e-04 - mse: 3.1072e-04 - mae: 0.0151\n",
            "Epoch 988/1000\n",
            "1/1 [==============================] - 0s 5ms/step - loss: 3.0862e-04 - mse: 3.0862e-04 - mae: 0.0151\n",
            "Epoch 989/1000\n",
            "1/1 [==============================] - 0s 9ms/step - loss: 3.0654e-04 - mse: 3.0654e-04 - mae: 0.0150\n",
            "Epoch 990/1000\n",
            "1/1 [==============================] - 0s 10ms/step - loss: 3.0447e-04 - mse: 3.0447e-04 - mae: 0.0150\n",
            "Epoch 991/1000\n",
            "1/1 [==============================] - 0s 5ms/step - loss: 3.0242e-04 - mse: 3.0242e-04 - mae: 0.0149\n",
            "Epoch 992/1000\n",
            "1/1 [==============================] - 0s 4ms/step - loss: 3.0037e-04 - mse: 3.0037e-04 - mae: 0.0149\n",
            "Epoch 993/1000\n",
            "1/1 [==============================] - 0s 10ms/step - loss: 2.9834e-04 - mse: 2.9834e-04 - mae: 0.0148\n",
            "Epoch 994/1000\n",
            "1/1 [==============================] - 0s 5ms/step - loss: 2.9633e-04 - mse: 2.9633e-04 - mae: 0.0148\n",
            "Epoch 995/1000\n",
            "1/1 [==============================] - 0s 7ms/step - loss: 2.9433e-04 - mse: 2.9433e-04 - mae: 0.0147\n",
            "Epoch 996/1000\n",
            "1/1 [==============================] - 0s 4ms/step - loss: 2.9235e-04 - mse: 2.9235e-04 - mae: 0.0147\n",
            "Epoch 997/1000\n",
            "1/1 [==============================] - 0s 4ms/step - loss: 2.9036e-04 - mse: 2.9036e-04 - mae: 0.0146\n",
            "Epoch 998/1000\n",
            "1/1 [==============================] - 0s 4ms/step - loss: 2.8841e-04 - mse: 2.8841e-04 - mae: 0.0146\n",
            "Epoch 999/1000\n",
            "1/1 [==============================] - 0s 8ms/step - loss: 2.8646e-04 - mse: 2.8646e-04 - mae: 0.0145\n",
            "Epoch 1000/1000\n",
            "1/1 [==============================] - 0s 8ms/step - loss: 2.8453e-04 - mse: 2.8453e-04 - mae: 0.0145\n"
          ]
        }
      ]
    },
    {
      "cell_type": "code",
      "source": [
        "plt.plot(history.history['loss'], label='loss')\n",
        "plt.plot(history.history['mae'], label='mae')\n",
        "# epoch 별 훈련 손실 및 평가지표의 시각화 \n",
        "# 앞 부분의 epoch 은 손실이 급격히 감소하는 것을 확인 할수 있다. \n",
        "# "
      ],
      "metadata": {
        "colab": {
          "base_uri": "https://localhost:8080/",
          "height": 283
        },
        "id": "yxxPJH8_FZ45",
        "outputId": "ad90e1e8-1ecd-4456-c66f-6d01501c0ff7"
      },
      "execution_count": 103,
      "outputs": [
        {
          "output_type": "execute_result",
          "data": {
            "text/plain": [
              "[<matplotlib.lines.Line2D at 0x7f99fd6e8b90>]"
            ]
          },
          "metadata": {},
          "execution_count": 103
        },
        {
          "output_type": "display_data",
          "data": {
            "image/png": "[encoded data removed]",
            "text/plain": [
              "<Figure size 432x288 with 1 Axes>"
            ]
          },
          "metadata": {
            "needs_background": "light"
          }
        }
      ]
    },
    {
      "cell_type": "code",
      "source": [
        "plt.plot(history.history['loss'], label='loss')\n",
        "plt.plot(history.history['mae'], label='mae')\n",
        "plt.xlim(-1,20)\n",
        "plt.legend()\n",
        "# 5 epoch 까지는 손실이 급격히 감소하다가 감소폭이 둔화되면서 조금씩\n",
        "# 감소되는 것을 확인 할수 있다. 즉, 모델 훈련 초기 단계에는 학습이\n",
        "# 매우 빠른 속도로 진행되다가 일정  epoch 이후에는 학습속도가 느려지는 \n",
        "# 패턴이 보인다. "
      ],
      "metadata": {
        "colab": {
          "base_uri": "https://localhost:8080/",
          "height": 283
        },
        "id": "qO1bzRDbF86_",
        "outputId": "b606d14f-aa7e-427f-f355-9bcb11ef0ae2"
      },
      "execution_count": 104,
      "outputs": [
        {
          "output_type": "execute_result",
          "data": {
            "text/plain": [
              "<matplotlib.legend.Legend at 0x7f99fd6c1810>"
            ]
          },
          "metadata": {},
          "execution_count": 104
        },
        {
          "output_type": "display_data",
          "data": {
            "image/png": "[encoded data removed]",
            "text/plain": [
              "<Figure size 432x288 with 1 Axes>"
            ]
          },
          "metadata": {
            "needs_background": "light"
          }
        }
      ]
    },
    {
      "cell_type": "code",
      "source": [
        "# 검증...\n",
        "model.evaluate(x,y)\n",
        "#일반적으로 검증 데이터 셋을 입력하여 검증한다. 여기서는 별도의 검증 데이터셋을\n",
        "# 만들지 않아서 훈련데이터를 대입하여 결과를 확인한다. \n",
        "# 두개의 지표 loss와  mse 를 확인한다. \n",
        "\n",
        "# 사전에 검증 데이터를 준비하여 ( 훈련용과 검증용으로 나눈...) 성능을 평가하는 것이\n",
        "# 일반적이다. 이러한 방법을 교차 검증 cross validation  라고 부른다. "
      ],
      "metadata": {
        "colab": {
          "base_uri": "https://localhost:8080/"
        },
        "id": "G5myD8INHM7o",
        "outputId": "933e9394-b4db-44bc-dd1c-7492ce32fbad"
      },
      "execution_count": 105,
      "outputs": [
        {
          "output_type": "stream",
          "name": "stdout",
          "text": [
            "1/1 [==============================] - 0s 198ms/step - loss: 2.8260e-04 - mse: 2.8260e-04 - mae: 0.0144\n"
          ]
        },
        {
          "output_type": "execute_result",
          "data": {
            "text/plain": [
              "[0.00028260351973585784, 0.00028260351973585784, 0.014429092407226562]"
            ]
          },
          "metadata": {},
          "execution_count": 105
        }
      ]
    },
    {
      "cell_type": "code",
      "source": [
        "# 예측 \n",
        "# 훈련이 완료된 모델의 결과에 predict()메소드를 사용하여 새로운 입력 데이터를\n",
        "# 넣어 주면 모델의 예측 값을 얻게 된다. \n",
        "# 모델이 예측 결과로 출력하는 값은 32.0....이다. \n",
        "# 데이터 셋 생성 할때 정의한  \n",
        "# y = 3x + 2, x= 10 , y = 32....??  결과가 꽤 근사한 값을 예측한 것을 \n",
        "# 확인할수 있다. \n",
        "\n",
        "model.predict([10])"
      ],
      "metadata": {
        "colab": {
          "base_uri": "https://localhost:8080/"
        },
        "id": "a0LIvcZgHSbh",
        "outputId": "d7f64c8c-bddc-4791-c62f-5bafedcb6215"
      },
      "execution_count": 106,
      "outputs": [
        {
          "output_type": "execute_result",
          "data": {
            "text/plain": [
              "array([[32.06974]], dtype=float32)"
            ]
          },
          "metadata": {},
          "execution_count": 106
        }
      ]
    },
    {
      "cell_type": "code",
      "source": [
        "# [ 1  2  3  4  5]\n",
        "# [ 5  8 11 14 17]"
      ],
      "metadata": {
        "id": "gtZlIASbJfqI"
      },
      "execution_count": null,
      "outputs": []
    },
    {
      "cell_type": "code",
      "source": [
        "model.predict([5])"
      ],
      "metadata": {
        "colab": {
          "base_uri": "https://localhost:8080/"
        },
        "id": "czO4o-prKYA7",
        "outputId": "7c1ad429-3b7c-4080-a333-9f9529d386cd"
      },
      "execution_count": 107,
      "outputs": [
        {
          "output_type": "execute_result",
          "data": {
            "text/plain": [
              "array([[17.015167]], dtype=float32)"
            ]
          },
          "metadata": {},
          "execution_count": 107
        }
      ]
    },
    {
      "cell_type": "code",
      "source": [
        "model.predict([6])"
      ],
      "metadata": {
        "colab": {
          "base_uri": "https://localhost:8080/"
        },
        "id": "harUcXFUKiB_",
        "outputId": "39e8a55c-30b7-4fcd-ad41-54edc36b3017"
      },
      "execution_count": 108,
      "outputs": [
        {
          "output_type": "execute_result",
          "data": {
            "text/plain": [
              "array([[20.026083]], dtype=float32)"
            ]
          },
          "metadata": {},
          "execution_count": 108
        }
      ]
    }
  ]
}